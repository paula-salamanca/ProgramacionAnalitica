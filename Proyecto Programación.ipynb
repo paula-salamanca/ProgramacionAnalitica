{
 "cells": [
  {
   "cell_type": "markdown",
   "id": "b907cccc",
   "metadata": {},
   "source": [
    "# Proyecto Programación para Analítica de Datos"
   ]
  },
  {
   "cell_type": "markdown",
   "id": "795a40d2",
   "metadata": {},
   "source": [
    "### Cuántos animales podrán ser adoptados en un año en el estado de Austin, Texas"
   ]
  },
  {
   "cell_type": "markdown",
   "id": "fad4c6e0",
   "metadata": {
    "ExecuteTime": {
     "end_time": "2023-01-04T15:46:01.215122Z",
     "start_time": "2023-01-04T15:46:01.209115Z"
    }
   },
   "source": [
    "Importar las librerías"
   ]
  },
  {
   "cell_type": "code",
   "execution_count": 1,
   "id": "d4052936",
   "metadata": {
    "ExecuteTime": {
     "end_time": "2023-01-07T12:39:53.153361Z",
     "start_time": "2023-01-07T12:39:51.979702Z"
    }
   },
   "outputs": [],
   "source": [
    "import pandas as pd\n",
    "import matplotlib.pylab as plt"
   ]
  },
  {
   "cell_type": "markdown",
   "id": "578b3630",
   "metadata": {},
   "source": [
    "Importar DataSet"
   ]
  },
  {
   "cell_type": "code",
   "execution_count": 169,
   "id": "d2f1148c",
   "metadata": {},
   "outputs": [
    {
     "data": {
      "text/html": [
       "<div>\n",
       "<style scoped>\n",
       "    .dataframe tbody tr th:only-of-type {\n",
       "        vertical-align: middle;\n",
       "    }\n",
       "\n",
       "    .dataframe tbody tr th {\n",
       "        vertical-align: top;\n",
       "    }\n",
       "\n",
       "    .dataframe thead th {\n",
       "        text-align: right;\n",
       "    }\n",
       "</style>\n",
       "<table border=\"1\" class=\"dataframe\">\n",
       "  <thead>\n",
       "    <tr style=\"text-align: right;\">\n",
       "      <th></th>\n",
       "      <th>Animal ID</th>\n",
       "      <th>NombreAcogida</th>\n",
       "      <th>DateTimeAcogida</th>\n",
       "      <th>MesAcogida</th>\n",
       "      <th>LugarAcogida</th>\n",
       "      <th>ManeraAcogida</th>\n",
       "      <th>CondicionAcogida</th>\n",
       "      <th>TipoAnimal</th>\n",
       "      <th>SexoAnimal</th>\n",
       "      <th>Edad</th>\n",
       "      <th>...</th>\n",
       "      <th>EdadSalida</th>\n",
       "      <th>GeneroAcogida</th>\n",
       "      <th>GeneroSalida</th>\n",
       "      <th>EsterilizacionAcogida</th>\n",
       "      <th>EsterilizacionSalida</th>\n",
       "      <th>CambioEsterilizacion</th>\n",
       "      <th>RangoEdad</th>\n",
       "      <th>RazaGeneral</th>\n",
       "      <th>DuracionAcogida</th>\n",
       "      <th>DiasAcogida</th>\n",
       "    </tr>\n",
       "  </thead>\n",
       "  <tbody>\n",
       "    <tr>\n",
       "      <th>0</th>\n",
       "      <td>A725713</td>\n",
       "      <td>*Luxor</td>\n",
       "      <td>02/05/2016 11:43</td>\n",
       "      <td>05/02/2016 11:43</td>\n",
       "      <td>100 Block Of East Murray in Manor (TX)</td>\n",
       "      <td>Stray</td>\n",
       "      <td>Normal</td>\n",
       "      <td>Dog</td>\n",
       "      <td>Intact Male</td>\n",
       "      <td>2 years</td>\n",
       "      <td>...</td>\n",
       "      <td>2 years</td>\n",
       "      <td>Male</td>\n",
       "      <td>Male</td>\n",
       "      <td>Intact</td>\n",
       "      <td>Neutered</td>\n",
       "      <td>1</td>\n",
       "      <td>1-3 years</td>\n",
       "      <td>Pastor</td>\n",
       "      <td>4 days 12:17:00.000000000</td>\n",
       "      <td>0-7 days</td>\n",
       "    </tr>\n",
       "    <tr>\n",
       "      <th>1</th>\n",
       "      <td>A701465</td>\n",
       "      <td>NaN</td>\n",
       "      <td>29/04/2015 22:18</td>\n",
       "      <td>04/29/2015 10:18:00 PM</td>\n",
       "      <td>100 E Hoopes Ave in Travis (TX)</td>\n",
       "      <td>Wildlife</td>\n",
       "      <td>Normal</td>\n",
       "      <td>Other</td>\n",
       "      <td>Unknown</td>\n",
       "      <td>5 months</td>\n",
       "      <td>...</td>\n",
       "      <td>7 months</td>\n",
       "      <td>NaN</td>\n",
       "      <td>NaN</td>\n",
       "      <td>Unknown</td>\n",
       "      <td>Unknown</td>\n",
       "      <td>0</td>\n",
       "      <td>1-6 months</td>\n",
       "      <td>Unknow</td>\n",
       "      <td>32 days 15:13:00.000000000</td>\n",
       "      <td>3-6 weeks</td>\n",
       "    </tr>\n",
       "    <tr>\n",
       "      <th>2</th>\n",
       "      <td>A690177</td>\n",
       "      <td>NaN</td>\n",
       "      <td>15/10/2014 16:46</td>\n",
       "      <td>10/15/2014 04:46:00 PM</td>\n",
       "      <td>100 E10Th in Austin (TX)</td>\n",
       "      <td>Wildlife</td>\n",
       "      <td>Normal</td>\n",
       "      <td>Other</td>\n",
       "      <td>Unknown</td>\n",
       "      <td>3 months</td>\n",
       "      <td>...</td>\n",
       "      <td>3 months</td>\n",
       "      <td>NaN</td>\n",
       "      <td>NaN</td>\n",
       "      <td>Unknown</td>\n",
       "      <td>Unknown</td>\n",
       "      <td>0</td>\n",
       "      <td>1-6 months</td>\n",
       "      <td>Unknow</td>\n",
       "      <td>0 days 15:18:00.000000000</td>\n",
       "      <td>0-7 days</td>\n",
       "    </tr>\n",
       "    <tr>\n",
       "      <th>3</th>\n",
       "      <td>A668614</td>\n",
       "      <td>NaN</td>\n",
       "      <td>05/12/2013 23:22</td>\n",
       "      <td>12/05/2013 23:22</td>\n",
       "      <td>Martin Luther King Jr in Austin (TX)</td>\n",
       "      <td>Stray</td>\n",
       "      <td>Sick</td>\n",
       "      <td>Dog</td>\n",
       "      <td>Intact Female</td>\n",
       "      <td>6 years</td>\n",
       "      <td>...</td>\n",
       "      <td>6 years</td>\n",
       "      <td>Female</td>\n",
       "      <td>Female</td>\n",
       "      <td>Intact</td>\n",
       "      <td>Intact</td>\n",
       "      <td>0</td>\n",
       "      <td>4-6 years</td>\n",
       "      <td>Terrier</td>\n",
       "      <td>3 days 15:40:00.000000000</td>\n",
       "      <td>0-7 days</td>\n",
       "    </tr>\n",
       "    <tr>\n",
       "      <th>4</th>\n",
       "      <td>A674484</td>\n",
       "      <td>*Beans</td>\n",
       "      <td>13/03/2014 17:37</td>\n",
       "      <td>03/13/2014 05:37:00 PM</td>\n",
       "      <td>100 Water Rd in Webberville (TX)</td>\n",
       "      <td>Stray</td>\n",
       "      <td>Normal</td>\n",
       "      <td>Dog</td>\n",
       "      <td>Intact Male</td>\n",
       "      <td>2 years</td>\n",
       "      <td>...</td>\n",
       "      <td>2 years</td>\n",
       "      <td>Male</td>\n",
       "      <td>Male</td>\n",
       "      <td>Intact</td>\n",
       "      <td>Neutered</td>\n",
       "      <td>1</td>\n",
       "      <td>1-3 years</td>\n",
       "      <td>Tejonero</td>\n",
       "      <td>36 days 22:33:00.000000000</td>\n",
       "      <td>3-6 weeks</td>\n",
       "    </tr>\n",
       "  </tbody>\n",
       "</table>\n",
       "<p>5 rows × 27 columns</p>\n",
       "</div>"
      ],
      "text/plain": [
       "  Animal ID NombreAcogida   DateTimeAcogida              MesAcogida  \\\n",
       "0   A725713        *Luxor  02/05/2016 11:43        05/02/2016 11:43   \n",
       "1   A701465           NaN  29/04/2015 22:18  04/29/2015 10:18:00 PM   \n",
       "2   A690177           NaN  15/10/2014 16:46  10/15/2014 04:46:00 PM   \n",
       "3   A668614           NaN  05/12/2013 23:22        12/05/2013 23:22   \n",
       "4   A674484        *Beans  13/03/2014 17:37  03/13/2014 05:37:00 PM   \n",
       "\n",
       "                             LugarAcogida ManeraAcogida CondicionAcogida  \\\n",
       "0  100 Block Of East Murray in Manor (TX)         Stray           Normal   \n",
       "1         100 E Hoopes Ave in Travis (TX)      Wildlife           Normal   \n",
       "2                100 E10Th in Austin (TX)      Wildlife           Normal   \n",
       "3    Martin Luther King Jr in Austin (TX)         Stray             Sick   \n",
       "4        100 Water Rd in Webberville (TX)         Stray           Normal   \n",
       "\n",
       "  TipoAnimal     SexoAnimal      Edad  ... EdadSalida GeneroAcogida  \\\n",
       "0        Dog    Intact Male   2 years  ...    2 years          Male   \n",
       "1      Other        Unknown  5 months  ...   7 months           NaN   \n",
       "2      Other        Unknown  3 months  ...   3 months           NaN   \n",
       "3        Dog  Intact Female   6 years  ...    6 years        Female   \n",
       "4        Dog    Intact Male   2 years  ...    2 years          Male   \n",
       "\n",
       "  GeneroSalida EsterilizacionAcogida EsterilizacionSalida  \\\n",
       "0         Male                Intact             Neutered   \n",
       "1          NaN               Unknown              Unknown   \n",
       "2          NaN               Unknown              Unknown   \n",
       "3       Female                Intact               Intact   \n",
       "4         Male                Intact             Neutered   \n",
       "\n",
       "  CambioEsterilizacion   RangoEdad RazaGeneral             DuracionAcogida  \\\n",
       "0                    1   1-3 years      Pastor   4 days 12:17:00.000000000   \n",
       "1                    0  1-6 months      Unknow  32 days 15:13:00.000000000   \n",
       "2                    0  1-6 months      Unknow   0 days 15:18:00.000000000   \n",
       "3                    0   4-6 years     Terrier   3 days 15:40:00.000000000   \n",
       "4                    1   1-3 years    Tejonero  36 days 22:33:00.000000000   \n",
       "\n",
       "  DiasAcogida  \n",
       "0    0-7 days  \n",
       "1   3-6 weeks  \n",
       "2    0-7 days  \n",
       "3    0-7 days  \n",
       "4   3-6 weeks  \n",
       "\n",
       "[5 rows x 27 columns]"
      ]
     },
     "execution_count": 169,
     "metadata": {},
     "output_type": "execute_result"
    }
   ],
   "source": [
    "datos = \"C:/Users/57310/OneDrive/Documentos/Paulita/Data_animalitos1.csv\"\n",
    "data = pd.read_csv(datos)\n",
    "data.head()"
   ]
  },
  {
   "cell_type": "markdown",
   "id": "6efd08e3",
   "metadata": {},
   "source": [
    "### **Identificación y Manejo de Datos Nulos**"
   ]
  },
  {
   "cell_type": "code",
   "execution_count": 178,
   "id": "7c82db6d",
   "metadata": {},
   "outputs": [
    {
     "name": "stdout",
     "output_type": "stream",
     "text": [
      "Valores nulos por columna:\n",
      "Animal ID                    0\n",
      "NombreAcogida            14029\n",
      "DateTimeAcogida              0\n",
      "MesAcogida                   0\n",
      "LugarAcogida                 0\n",
      "ManeraAcogida                0\n",
      "CondicionAcogida             0\n",
      "TipoAnimal                   0\n",
      "SexoAnimal                   1\n",
      "Edad                         0\n",
      "Raza                         0\n",
      "Color                        0\n",
      "NombreSalida             14029\n",
      "DateTimeSalida               0\n",
      "MesSalida                    0\n",
      "FormaSalida                  5\n",
      "SexoSalida                   2\n",
      "EdadSalida                   2\n",
      "GeneroAcogida             3905\n",
      "GeneroSalida              3906\n",
      "EsterilizacionAcogida        1\n",
      "EsterilizacionSalida         2\n",
      "CambioEsterilizacion         0\n",
      "RangoEdad                    0\n",
      "RazaGeneral                  0\n",
      "DuracionAcogida              0\n",
      "DiasAcogida               6857\n",
      "dtype: int64\n"
     ]
    }
   ],
   "source": [
    "valores_nulos = data.isnull().sum()\n",
    "\n",
    "print(\"Valores nulos por columna:\")\n",
    "print(valores_nulos)"
   ]
  },
  {
   "cell_type": "code",
   "execution_count": 179,
   "id": "db26ca7d",
   "metadata": {},
   "outputs": [
    {
     "name": "stdout",
     "output_type": "stream",
     "text": [
      "Columnas con valores nulos:\n",
      "Index(['NombreAcogida', 'SexoAnimal', 'NombreSalida', 'FormaSalida',\n",
      "       'SexoSalida', 'EdadSalida', 'GeneroAcogida', 'GeneroSalida',\n",
      "       'EsterilizacionAcogida', 'EsterilizacionSalida', 'DiasAcogida'],\n",
      "      dtype='object')\n",
      "\n",
      "El total de columnas con valores nulos son 12 de 27, sin embargo, en la tabla anterior se puede visualizar \n",
      " que las columnas con un número considerable de valores nulos son los nombres (acogida y salida) \n",
      " el subdato de la salida, el género, y la cantidad de días de acogida\n"
     ]
    }
   ],
   "source": [
    "# Filtrar el DataFrame para ver solo las columnas con valores nulos\n",
    "columnas_con_nulos = data.columns[data.isnull().any()]\n",
    "\n",
    "# Imprimir las columnas con valores nulos\n",
    "print(\"Columnas con valores nulos:\")\n",
    "print(columnas_con_nulos)\n",
    "\n",
    "print(\"\\nEl total de columnas con valores nulos son 12 de 27, sin embargo, en la tabla anterior se puede visualizar \\n que las columnas con un número considerable de valores nulos son los nombres (acogida y salida) \\n el subdato de la salida, el género, y la cantidad de días de acogida\")"
   ]
  },
  {
   "cell_type": "code",
   "execution_count": 180,
   "id": "436f0698",
   "metadata": {},
   "outputs": [
    {
     "name": "stdout",
     "output_type": "stream",
     "text": [
      "Mejor visualización de la cantidad de los valores nulos por columna:\n",
      "NombreAcogida            14029\n",
      "SexoAnimal                   1\n",
      "NombreSalida             14029\n",
      "FormaSalida                  5\n",
      "SexoSalida                   2\n",
      "EdadSalida                   2\n",
      "GeneroAcogida             3905\n",
      "GeneroSalida              3906\n",
      "EsterilizacionAcogida        1\n",
      "EsterilizacionSalida         2\n",
      "DiasAcogida               6857\n",
      "dtype: int64\n"
     ]
    }
   ],
   "source": [
    "#Tener una mejor visualización de las columnas con su cantidad de nulos\n",
    "columnas=['NombreAcogida', 'SexoAnimal', 'NombreSalida', 'FormaSalida',\n",
    "       'SexoSalida', 'EdadSalida', 'GeneroAcogida',\n",
    "       'GeneroSalida', 'EsterilizacionAcogida', 'EsterilizacionSalida',\n",
    "       'DiasAcogida']\n",
    "\n",
    "valores_nulos1 = data[columnas].isnull().sum()\n",
    "\n",
    "print('Mejor visualización de la cantidad de los valores nulos por columna:')\n",
    "print(valores_nulos1)"
   ]
  },
  {
   "cell_type": "markdown",
   "id": "036f91d8",
   "metadata": {},
   "source": [
    "\n",
    "\n",
    "Primero nos vamos a enfocar en las columnas que no tienen casi valores nulos, es decir, vamos a mirar las columnas del sexo, la forma de salida, la edad y la esterilización:"
   ]
  },
  {
   "cell_type": "markdown",
   "id": "85b38fed",
   "metadata": {},
   "source": [
    "*Columna SexoAnimal*"
   ]
  },
  {
   "cell_type": "code",
   "execution_count": 181,
   "id": "84ba4862",
   "metadata": {},
   "outputs": [
    {
     "name": "stdout",
     "output_type": "stream",
     "text": [
      "Moda de SexoAnimal: Intact Male\n"
     ]
    }
   ],
   "source": [
    "#Calcular la moda del sexo\n",
    "moda_sexo = data[\"SexoAnimal\"].mode()[0]\n",
    "print(\"Moda de SexoAnimal:\", moda_sexo)\n",
    "\n",
    "# Llenar los valores faltantes en \"SexoAnimal\" con la moda\n",
    "data[\"SexoAnimal\"] = data[\"SexoAnimal\"].fillna(moda_sexo)"
   ]
  },
  {
   "cell_type": "code",
   "execution_count": 182,
   "id": "0c6da34d",
   "metadata": {},
   "outputs": [
    {
     "name": "stdout",
     "output_type": "stream",
     "text": [
      "Valores nulos en SexoAnimal: 0\n"
     ]
    }
   ],
   "source": [
    "#Verificar si los valores nulos si se reemplazaron correctamente\n",
    "print(\"Valores nulos en SexoAnimal:\", data[\"SexoAnimal\"].isnull().sum())"
   ]
  },
  {
   "cell_type": "markdown",
   "id": "2db50cb4",
   "metadata": {},
   "source": [
    "*Columna SexoSalida*"
   ]
  },
  {
   "cell_type": "code",
   "execution_count": 183,
   "id": "09a1e18b",
   "metadata": {},
   "outputs": [
    {
     "name": "stdout",
     "output_type": "stream",
     "text": [
      "Moda de SexoAnimal: Neutered Male\n"
     ]
    }
   ],
   "source": [
    "#Calcular la moda del sexo\n",
    "moda_sexoS = data[\"SexoSalida\"].mode()[0]\n",
    "print(\"Moda de SexoAnimal:\", moda_sexoS)\n",
    "\n",
    "# Llenar los valores faltantes en \"SexoAnimal\" con la moda\n",
    "data[\"SexoSalida\"] = data[\"SexoSalida\"].fillna(moda_sexoS)"
   ]
  },
  {
   "cell_type": "code",
   "execution_count": 184,
   "id": "8960177e",
   "metadata": {},
   "outputs": [
    {
     "name": "stdout",
     "output_type": "stream",
     "text": [
      "Valores nulos en SexoSalida: 0\n"
     ]
    }
   ],
   "source": [
    "#Verificar si los valores nulos si se reemplazaron correctamente\n",
    "print(\"Valores nulos en SexoSalida:\", data[\"SexoSalida\"].isnull().sum())"
   ]
  },
  {
   "cell_type": "markdown",
   "id": "bd3d51a5",
   "metadata": {},
   "source": [
    "*Columna FormaSalida*"
   ]
  },
  {
   "cell_type": "code",
   "execution_count": 185,
   "id": "539d4693",
   "metadata": {},
   "outputs": [
    {
     "name": "stdout",
     "output_type": "stream",
     "text": [
      "Moda de FormaSalida: Adoption\n"
     ]
    }
   ],
   "source": [
    "#Calcular la moda de la FormaSalida\n",
    "moda_forma = data[\"FormaSalida\"].mode()[0]\n",
    "print(\"Moda de FormaSalida:\", moda_forma)\n",
    "\n",
    "#Reemplazar los valores faltantes de la FormaSalida\n",
    "data[\"FormaSalida\"] = data[\"FormaSalida\"].fillna(moda_forma)"
   ]
  },
  {
   "cell_type": "code",
   "execution_count": 186,
   "id": "75318b44",
   "metadata": {},
   "outputs": [
    {
     "name": "stdout",
     "output_type": "stream",
     "text": [
      "Valores nulos en FormaSalida: 0\n"
     ]
    }
   ],
   "source": [
    "#Verificar que no hayan valores Nulos en la columna\n",
    "print(\"Valores nulos en FormaSalida:\", data[\"FormaSalida\"].isnull().sum())"
   ]
  },
  {
   "cell_type": "markdown",
   "id": "dfbc2902",
   "metadata": {},
   "source": [
    "*Columna EsterilizacionAcogida*"
   ]
  },
  {
   "cell_type": "code",
   "execution_count": 187,
   "id": "c7f9e2d2",
   "metadata": {},
   "outputs": [
    {
     "name": "stdout",
     "output_type": "stream",
     "text": [
      "La moda de la columna EsterilizacionAcogida es: Intact\n"
     ]
    }
   ],
   "source": [
    "# Calcular la moda de las columnas cualitativas\n",
    "moda_esterilizacionA = data['EsterilizacionAcogida'].mode()[0]\n",
    "print(\"La moda de la columna EsterilizacionAcogida es:\", moda_esterilizacionA)\n",
    "\n",
    "#Reemplazar los valores nulos\n",
    "data[\"EsterilizacionAcogida\"] = data[\"EsterilizacionAcogida\"].fillna(moda_esterilizacionA)"
   ]
  },
  {
   "cell_type": "code",
   "execution_count": 188,
   "id": "5e0b516f",
   "metadata": {},
   "outputs": [
    {
     "name": "stdout",
     "output_type": "stream",
     "text": [
      "Valores nulos en EsterilizacionAcogida: 0\n"
     ]
    }
   ],
   "source": [
    "#Verificar que no hayan valores Nulos en la columna\n",
    "print(\"Valores nulos en EsterilizacionAcogida:\", data[\"EsterilizacionAcogida\"].isnull().sum())"
   ]
  },
  {
   "cell_type": "markdown",
   "id": "d4723911",
   "metadata": {},
   "source": [
    "*Columna EsterilizacionSalida*"
   ]
  },
  {
   "cell_type": "code",
   "execution_count": 189,
   "id": "c22d0d7a",
   "metadata": {},
   "outputs": [
    {
     "name": "stdout",
     "output_type": "stream",
     "text": [
      "La moda de la columna EsterilizacionSalida es: Neutered\n"
     ]
    }
   ],
   "source": [
    "# Calcular la moda de las columnas cualitativas\n",
    "moda_esterilizacionS = data['EsterilizacionSalida'].mode()[0]\n",
    "print(\"La moda de la columna EsterilizacionSalida es:\", moda_esterilizacionS)\n",
    "\n",
    "#Reemplazar los valores nulos\n",
    "data[\"EsterilizacionSalida\"] = data[\"EsterilizacionSalida\"].fillna(moda_esterilizacionS)"
   ]
  },
  {
   "cell_type": "code",
   "execution_count": 190,
   "id": "853fbf78",
   "metadata": {},
   "outputs": [
    {
     "name": "stdout",
     "output_type": "stream",
     "text": [
      "Valores nulos en EsterilizacionSalida: 0\n"
     ]
    }
   ],
   "source": [
    "#Verificar que no hayan valores Nulos en la columna\n",
    "print(\"Valores nulos en EsterilizacionSalida:\", data[\"EsterilizacionSalida\"].isnull().sum())"
   ]
  },
  {
   "cell_type": "markdown",
   "id": "66dbe1fe",
   "metadata": {},
   "source": [
    "*Columna EdadSalida*"
   ]
  },
  {
   "cell_type": "code",
   "execution_count": 191,
   "id": "ac7aba4a",
   "metadata": {},
   "outputs": [
    {
     "name": "stdout",
     "output_type": "stream",
     "text": [
      "La moda de la columna EdadSalida es: 1 year\n"
     ]
    }
   ],
   "source": [
    "# Calcular la moda de las columnas cualitativas\n",
    "moda_edad = data['EdadSalida'].mode()[0]\n",
    "print(\"La moda de la columna EdadSalida es:\", moda_edad)\n",
    "\n",
    "#Reemplazar los valores nulos\n",
    "data[\"EdadSalida\"] = data[\"EdadSalida\"].fillna(moda_edad)"
   ]
  },
  {
   "cell_type": "code",
   "execution_count": 192,
   "id": "a342d682",
   "metadata": {},
   "outputs": [
    {
     "name": "stdout",
     "output_type": "stream",
     "text": [
      "Valores nulos en EdadSalida: 0\n"
     ]
    }
   ],
   "source": [
    "#Verificar que no hayan valores Nulos en la columna\n",
    "print(\"Valores nulos en EdadSalida:\", data[\"EdadSalida\"].isnull().sum())"
   ]
  },
  {
   "cell_type": "markdown",
   "id": "0bb9f9c7",
   "metadata": {},
   "source": [
    "*Verificar que ya no existan valores nulos de las columnas anteriores*"
   ]
  },
  {
   "cell_type": "code",
   "execution_count": 193,
   "id": "d5fb793f",
   "metadata": {},
   "outputs": [
    {
     "name": "stdout",
     "output_type": "stream",
     "text": [
      "Verificación de la cantidad de los valores nulos por columna:\n",
      "NombreAcogida            14029\n",
      "SexoAnimal                   0\n",
      "NombreSalida             14029\n",
      "FormaSalida                  0\n",
      "SexoSalida                   0\n",
      "EdadSalida                   0\n",
      "GeneroAcogida             3905\n",
      "GeneroSalida              3906\n",
      "EsterilizacionAcogida        0\n",
      "EsterilizacionSalida         0\n",
      "DiasAcogida               6857\n",
      "dtype: int64\n"
     ]
    }
   ],
   "source": [
    "columnas=['NombreAcogida', 'SexoAnimal', 'NombreSalida', 'FormaSalida',\n",
    "       'SexoSalida', 'EdadSalida', 'GeneroAcogida',\n",
    "       'GeneroSalida', 'EsterilizacionAcogida', 'EsterilizacionSalida',\n",
    "       'DiasAcogida']\n",
    "\n",
    "valoresN_verificar = data[columnas].isnull().sum()\n",
    "\n",
    "print('Verificación de la cantidad de los valores nulos por columna:')\n",
    "print(valoresN_verificar)"
   ]
  },
  {
   "cell_type": "markdown",
   "id": "45a9bd7b",
   "metadata": {},
   "source": [
    "Como podemos ver, en la tabla anterior ya quitamos todos los valores nulos que tenían las columnas con menos de ellos, ahora tendremos que mirar que podemos hacer con los valores nulos más altos, que son los de las columnas **NombreAcogida, NombreSalida, GeneroAcogida,GeneroSalida y DiasAcogida**"
   ]
  },
  {
   "cell_type": "markdown",
   "id": "03f8dc5a",
   "metadata": {},
   "source": [
    "*Vamos a calcular el porcentaje de los datos nulos de la columna* **GeneroAcogida**\n",
    "\n",
    "- Esto lo realizamos para tener una visión más clara sobre el peso de los datos nulos en el data set completo, y de acuerdo al porcentaje resultante podremos encontrar la forma más adecuada para reemplazar los datos nulos."
   ]
  },
  {
   "cell_type": "code",
   "execution_count": 194,
   "id": "1d2a6377",
   "metadata": {},
   "outputs": [
    {
     "name": "stdout",
     "output_type": "stream",
     "text": [
      "Porcentaje de datos nulos en GeneroAcogida: 6.5084418073634565 %\n"
     ]
    }
   ],
   "source": [
    "# Calcula el total de filas en tu DataFrame\n",
    "total_filas = len(data)\n",
    "\n",
    "# Calcula el número de datos nulos en las columnas 'GeneroAcogida'\n",
    "datos_nulos_genero = data[['GeneroAcogida']].isnull().sum().sum()\n",
    "\n",
    "# Calcula el porcentaje de datos nulos\n",
    "porcentaje_nulos = (datos_nulos_genero / total_filas) * 100\n",
    "\n",
    "print(\"Porcentaje de datos nulos en GeneroAcogida:\", porcentaje_nulos, \"%\")\n"
   ]
  },
  {
   "cell_type": "markdown",
   "id": "26116398",
   "metadata": {},
   "source": [
    "Teniendo en cuenta que la columna anterior (el género) puede tener alguna influencia en la toma de decisión a la hora de adoptar un animalito y que los datos nulos representan menos del 10% de los datos totales, obtaremos por calcular la moda y reemplazar por ella los datos nulos, tengamos en cuenta que al ser una columna categórica esta es una opción adecuada pues preserva la distribución de los datos existentes "
   ]
  },
  {
   "cell_type": "code",
   "execution_count": 195,
   "id": "af150aa6",
   "metadata": {},
   "outputs": [
    {
     "name": "stdout",
     "output_type": "stream",
     "text": [
      "La moda de la columna GeneroAcogida es: Male\n"
     ]
    }
   ],
   "source": [
    "# Calcular la moda de las columnas cualitativas\n",
    "moda_generoA = data['GeneroAcogida'].mode()[0]\n",
    "print(\"La moda de la columna GeneroAcogida es:\", moda_generoA)\n",
    "\n",
    "#Reemplazar los valores nulos\n",
    "data[\"GeneroAcogida\"] = data[\"GeneroAcogida\"].fillna(moda_generoA)"
   ]
  },
  {
   "cell_type": "code",
   "execution_count": 196,
   "id": "334185bb",
   "metadata": {},
   "outputs": [
    {
     "name": "stdout",
     "output_type": "stream",
     "text": [
      "Valores nulos en GeneroAcogida: 0\n"
     ]
    }
   ],
   "source": [
    "#Verificar que no hayan valores Nulos en la columna\n",
    "print(\"Valores nulos en GeneroAcogida:\", data[\"GeneroAcogida\"].isnull().sum())"
   ]
  },
  {
   "cell_type": "markdown",
   "id": "b97cd0d1",
   "metadata": {},
   "source": [
    "Vamos a realizar el mismo procedimiento con la columna **GeneroSalida** esto, debido a que tienen la misma cantidad de datos "
   ]
  },
  {
   "cell_type": "code",
   "execution_count": 197,
   "id": "2133615e",
   "metadata": {},
   "outputs": [
    {
     "name": "stdout",
     "output_type": "stream",
     "text": [
      "La moda de la columna GeneroSalida es: Male\n"
     ]
    }
   ],
   "source": [
    "# Calcular la moda de las columnas cualitativas\n",
    "moda_generoS = data['GeneroSalida'].mode()[0]\n",
    "print(\"La moda de la columna GeneroSalida es:\", moda_generoS)\n",
    "\n",
    "#Reemplazar los valores nulos\n",
    "data[\"GeneroSalida\"] = data[\"GeneroSalida\"].fillna(moda_generoS)"
   ]
  },
  {
   "cell_type": "code",
   "execution_count": 198,
   "id": "ae0860cc",
   "metadata": {},
   "outputs": [
    {
     "name": "stdout",
     "output_type": "stream",
     "text": [
      "Valores nulos en GeneroSalida: 0\n"
     ]
    }
   ],
   "source": [
    "#Verificar que no hayan valores Nulos en la columna\n",
    "print(\"Valores nulos en GeneroSalida:\", data[\"GeneroSalida\"].isnull().sum())"
   ]
  },
  {
   "cell_type": "markdown",
   "id": "da546e73",
   "metadata": {},
   "source": [
    "Ahora, vamos a calcular el porcentaje de los valores nulos de la columna **Dias Acogida**:"
   ]
  },
  {
   "cell_type": "code",
   "execution_count": 199,
   "id": "c774b48a",
   "metadata": {},
   "outputs": [
    {
     "name": "stdout",
     "output_type": "stream",
     "text": [
      "Porcentaje de datos nulos en GeneroAcogida: 11.428523808730146 %\n"
     ]
    }
   ],
   "source": [
    "# Calcula el número de datos nulos en las columnas 'DiasAcogida'\n",
    "datos_nulos_dias = data[['DiasAcogida']].isnull().sum().sum()\n",
    "\n",
    "# Calcula el porcentaje de datos nulos\n",
    "porcentaje_nulos = (datos_nulos_dias / total_filas) * 100\n",
    "\n",
    "print(\"Porcentaje de datos nulos en GeneroAcogida:\", porcentaje_nulos, \"%\")"
   ]
  },
  {
   "cell_type": "markdown",
   "id": "048af7c7",
   "metadata": {},
   "source": [
    "- Nos damos cuenta que estos datos nulos sí representan más del 10% del total de los datos, es decir que no podemos realizar los métodos de reemplazo que ya hemos venido haciendo, sin embargo, debemos tener en cuenta que esta es una columna que tiene los mismos valores que la columna llamada **DuracionAcogida** lo único que cambia son los valores de unidad, en la columna **DuracionAcogida** tenemos el total de horas y días que el animal se quedó en el instituto y en la columna de **DiasAcogida** da un rango de tiempo.\n"
   ]
  },
  {
   "cell_type": "code",
   "execution_count": 200,
   "id": "5d9087bd",
   "metadata": {},
   "outputs": [
    {
     "name": "stdout",
     "output_type": "stream",
     "text": [
      "      DiasAcogida             DuracionAcogida\n",
      "0        0-7 days   4 days 12:17:00.000000000\n",
      "1       3-6 weeks  32 days 15:13:00.000000000\n",
      "2        0-7 days   0 days 15:18:00.000000000\n",
      "3        0-7 days   3 days 15:40:00.000000000\n",
      "4       3-6 weeks  36 days 22:33:00.000000000\n",
      "...           ...                         ...\n",
      "59994    0-7 days   5 days 07:20:00.000000000\n",
      "59995   1-3 weeks  11 days 10:42:00.000000000\n",
      "59996    0-7 days   4 days 08:56:00.000000000\n",
      "59997   1-3 weeks  16 days 01:44:00.000000000\n",
      "59998    0-7 days   0 days 08:16:00.000000000\n",
      "\n",
      "[59999 rows x 2 columns]\n"
     ]
    }
   ],
   "source": [
    "columnas = ['DiasAcogida', 'DuracionAcogida']\n",
    "\n",
    "# Obtiene un nuevo DataFrame con solo las columnas seleccionadas\n",
    "df_comparativo = data[columnas]\n",
    "\n",
    "# Imprime el nuevo DataFrame\n",
    "print(df_comparativo)"
   ]
  },
  {
   "cell_type": "markdown",
   "id": "9c450ce3",
   "metadata": {},
   "source": [
    "- Con el código anterior podemos observar visualmente que ambas columnas tienen el mismo valor, en otras palabras la columna DiasAcogida no agrega información adicional, simplemente replica la información ya obtenida en otra columna pero la expone en una unidad de medida diferente, de esta manera podemos concluir que eliminar esta columna podría simplificar el conjunto de datos y el trabajo del modelo sin perder información relevante, además, es importante tener en cuenta que tener la información de duración en días y horas en una sola columna simplifica la comprensión de los datos y su análisis, así como puede ser más específica la creación del modelo."
   ]
  },
  {
   "cell_type": "code",
   "execution_count": 201,
   "id": "056fd965",
   "metadata": {},
   "outputs": [
    {
     "data": {
      "text/html": [
       "<div>\n",
       "<style scoped>\n",
       "    .dataframe tbody tr th:only-of-type {\n",
       "        vertical-align: middle;\n",
       "    }\n",
       "\n",
       "    .dataframe tbody tr th {\n",
       "        vertical-align: top;\n",
       "    }\n",
       "\n",
       "    .dataframe thead th {\n",
       "        text-align: right;\n",
       "    }\n",
       "</style>\n",
       "<table border=\"1\" class=\"dataframe\">\n",
       "  <thead>\n",
       "    <tr style=\"text-align: right;\">\n",
       "      <th></th>\n",
       "      <th>Animal ID</th>\n",
       "      <th>NombreAcogida</th>\n",
       "      <th>DateTimeAcogida</th>\n",
       "      <th>MesAcogida</th>\n",
       "      <th>LugarAcogida</th>\n",
       "      <th>ManeraAcogida</th>\n",
       "      <th>CondicionAcogida</th>\n",
       "      <th>TipoAnimal</th>\n",
       "      <th>SexoAnimal</th>\n",
       "      <th>Edad</th>\n",
       "      <th>...</th>\n",
       "      <th>SexoSalida</th>\n",
       "      <th>EdadSalida</th>\n",
       "      <th>GeneroAcogida</th>\n",
       "      <th>GeneroSalida</th>\n",
       "      <th>EsterilizacionAcogida</th>\n",
       "      <th>EsterilizacionSalida</th>\n",
       "      <th>CambioEsterilizacion</th>\n",
       "      <th>RangoEdad</th>\n",
       "      <th>RazaGeneral</th>\n",
       "      <th>DuracionAcogida</th>\n",
       "    </tr>\n",
       "  </thead>\n",
       "  <tbody>\n",
       "    <tr>\n",
       "      <th>0</th>\n",
       "      <td>A725713</td>\n",
       "      <td>*Luxor</td>\n",
       "      <td>02/05/2016 11:43</td>\n",
       "      <td>05/02/2016 11:43</td>\n",
       "      <td>100 Block Of East Murray in Manor (TX)</td>\n",
       "      <td>Stray</td>\n",
       "      <td>Normal</td>\n",
       "      <td>Dog</td>\n",
       "      <td>Intact Male</td>\n",
       "      <td>2 years</td>\n",
       "      <td>...</td>\n",
       "      <td>Neutered Male</td>\n",
       "      <td>2 years</td>\n",
       "      <td>Male</td>\n",
       "      <td>Male</td>\n",
       "      <td>Intact</td>\n",
       "      <td>Neutered</td>\n",
       "      <td>1</td>\n",
       "      <td>1-3 years</td>\n",
       "      <td>Pastor</td>\n",
       "      <td>4 days 12:17:00.000000000</td>\n",
       "    </tr>\n",
       "    <tr>\n",
       "      <th>1</th>\n",
       "      <td>A701465</td>\n",
       "      <td>NaN</td>\n",
       "      <td>29/04/2015 22:18</td>\n",
       "      <td>04/29/2015 10:18:00 PM</td>\n",
       "      <td>100 E Hoopes Ave in Travis (TX)</td>\n",
       "      <td>Wildlife</td>\n",
       "      <td>Normal</td>\n",
       "      <td>Other</td>\n",
       "      <td>Unknown</td>\n",
       "      <td>5 months</td>\n",
       "      <td>...</td>\n",
       "      <td>Unknown</td>\n",
       "      <td>7 months</td>\n",
       "      <td>Male</td>\n",
       "      <td>Male</td>\n",
       "      <td>Unknown</td>\n",
       "      <td>Unknown</td>\n",
       "      <td>0</td>\n",
       "      <td>1-6 months</td>\n",
       "      <td>Unknow</td>\n",
       "      <td>32 days 15:13:00.000000000</td>\n",
       "    </tr>\n",
       "    <tr>\n",
       "      <th>2</th>\n",
       "      <td>A690177</td>\n",
       "      <td>NaN</td>\n",
       "      <td>15/10/2014 16:46</td>\n",
       "      <td>10/15/2014 04:46:00 PM</td>\n",
       "      <td>100 E10Th in Austin (TX)</td>\n",
       "      <td>Wildlife</td>\n",
       "      <td>Normal</td>\n",
       "      <td>Other</td>\n",
       "      <td>Unknown</td>\n",
       "      <td>3 months</td>\n",
       "      <td>...</td>\n",
       "      <td>Unknown</td>\n",
       "      <td>3 months</td>\n",
       "      <td>Male</td>\n",
       "      <td>Male</td>\n",
       "      <td>Unknown</td>\n",
       "      <td>Unknown</td>\n",
       "      <td>0</td>\n",
       "      <td>1-6 months</td>\n",
       "      <td>Unknow</td>\n",
       "      <td>0 days 15:18:00.000000000</td>\n",
       "    </tr>\n",
       "    <tr>\n",
       "      <th>3</th>\n",
       "      <td>A668614</td>\n",
       "      <td>NaN</td>\n",
       "      <td>05/12/2013 23:22</td>\n",
       "      <td>12/05/2013 23:22</td>\n",
       "      <td>Martin Luther King Jr in Austin (TX)</td>\n",
       "      <td>Stray</td>\n",
       "      <td>Sick</td>\n",
       "      <td>Dog</td>\n",
       "      <td>Intact Female</td>\n",
       "      <td>6 years</td>\n",
       "      <td>...</td>\n",
       "      <td>Intact Female</td>\n",
       "      <td>6 years</td>\n",
       "      <td>Female</td>\n",
       "      <td>Female</td>\n",
       "      <td>Intact</td>\n",
       "      <td>Intact</td>\n",
       "      <td>0</td>\n",
       "      <td>4-6 years</td>\n",
       "      <td>Terrier</td>\n",
       "      <td>3 days 15:40:00.000000000</td>\n",
       "    </tr>\n",
       "    <tr>\n",
       "      <th>4</th>\n",
       "      <td>A674484</td>\n",
       "      <td>*Beans</td>\n",
       "      <td>13/03/2014 17:37</td>\n",
       "      <td>03/13/2014 05:37:00 PM</td>\n",
       "      <td>100 Water Rd in Webberville (TX)</td>\n",
       "      <td>Stray</td>\n",
       "      <td>Normal</td>\n",
       "      <td>Dog</td>\n",
       "      <td>Intact Male</td>\n",
       "      <td>2 years</td>\n",
       "      <td>...</td>\n",
       "      <td>Neutered Male</td>\n",
       "      <td>2 years</td>\n",
       "      <td>Male</td>\n",
       "      <td>Male</td>\n",
       "      <td>Intact</td>\n",
       "      <td>Neutered</td>\n",
       "      <td>1</td>\n",
       "      <td>1-3 years</td>\n",
       "      <td>Tejonero</td>\n",
       "      <td>36 days 22:33:00.000000000</td>\n",
       "    </tr>\n",
       "  </tbody>\n",
       "</table>\n",
       "<p>5 rows × 26 columns</p>\n",
       "</div>"
      ],
      "text/plain": [
       "  Animal ID NombreAcogida   DateTimeAcogida              MesAcogida  \\\n",
       "0   A725713        *Luxor  02/05/2016 11:43        05/02/2016 11:43   \n",
       "1   A701465           NaN  29/04/2015 22:18  04/29/2015 10:18:00 PM   \n",
       "2   A690177           NaN  15/10/2014 16:46  10/15/2014 04:46:00 PM   \n",
       "3   A668614           NaN  05/12/2013 23:22        12/05/2013 23:22   \n",
       "4   A674484        *Beans  13/03/2014 17:37  03/13/2014 05:37:00 PM   \n",
       "\n",
       "                             LugarAcogida ManeraAcogida CondicionAcogida  \\\n",
       "0  100 Block Of East Murray in Manor (TX)         Stray           Normal   \n",
       "1         100 E Hoopes Ave in Travis (TX)      Wildlife           Normal   \n",
       "2                100 E10Th in Austin (TX)      Wildlife           Normal   \n",
       "3    Martin Luther King Jr in Austin (TX)         Stray             Sick   \n",
       "4        100 Water Rd in Webberville (TX)         Stray           Normal   \n",
       "\n",
       "  TipoAnimal     SexoAnimal      Edad  ...     SexoSalida EdadSalida  \\\n",
       "0        Dog    Intact Male   2 years  ...  Neutered Male    2 years   \n",
       "1      Other        Unknown  5 months  ...        Unknown   7 months   \n",
       "2      Other        Unknown  3 months  ...        Unknown   3 months   \n",
       "3        Dog  Intact Female   6 years  ...  Intact Female    6 years   \n",
       "4        Dog    Intact Male   2 years  ...  Neutered Male    2 years   \n",
       "\n",
       "  GeneroAcogida GeneroSalida EsterilizacionAcogida EsterilizacionSalida  \\\n",
       "0          Male         Male                Intact             Neutered   \n",
       "1          Male         Male               Unknown              Unknown   \n",
       "2          Male         Male               Unknown              Unknown   \n",
       "3        Female       Female                Intact               Intact   \n",
       "4          Male         Male                Intact             Neutered   \n",
       "\n",
       "  CambioEsterilizacion   RangoEdad RazaGeneral             DuracionAcogida  \n",
       "0                    1   1-3 years      Pastor   4 days 12:17:00.000000000  \n",
       "1                    0  1-6 months      Unknow  32 days 15:13:00.000000000  \n",
       "2                    0  1-6 months      Unknow   0 days 15:18:00.000000000  \n",
       "3                    0   4-6 years     Terrier   3 days 15:40:00.000000000  \n",
       "4                    1   1-3 years    Tejonero  36 days 22:33:00.000000000  \n",
       "\n",
       "[5 rows x 26 columns]"
      ]
     },
     "execution_count": 201,
     "metadata": {},
     "output_type": "execute_result"
    }
   ],
   "source": [
    "# Eliminar la columna 'DiasAcogida'\n",
    "data.drop(columns=['DiasAcogida'], inplace=True)\n",
    "\n",
    "# Verificar que la columna haya sido eliminada\n",
    "data.head()"
   ]
  },
  {
   "cell_type": "markdown",
   "id": "5537cd20",
   "metadata": {},
   "source": [
    "Finalmente, vamos a calcular el porcentaje de las últimas dos columnas que nos quedan **NombreAcogida** y **NombreSalida**"
   ]
  },
  {
   "cell_type": "code",
   "execution_count": 202,
   "id": "e5fe782d",
   "metadata": {},
   "outputs": [
    {
     "name": "stdout",
     "output_type": "stream",
     "text": [
      "Porcentaje de datos nulos en GeneroAcogida: 23.382056367606125 %\n"
     ]
    }
   ],
   "source": [
    "# Calcula el número de datos nulos en las columnas 'GeneroAcogida'\n",
    "datos_nulos_nombre = data[['NombreAcogida']].isnull().sum().sum()\n",
    "\n",
    "# Calcula el porcentaje de datos nulos\n",
    "porcentaje_nulos = (datos_nulos_nombre / total_filas) * 100\n",
    "\n",
    "print(\"Porcentaje de datos nulos en GeneroAcogida:\", porcentaje_nulos, \"%\")"
   ]
  },
  {
   "cell_type": "markdown",
   "id": "74b431fc",
   "metadata": {},
   "source": [
    "Dado que ambas columnas tienen la misma cantidad de datos solo vamos a calcular el porcentaje de una de ellas (NombreAcogida), sin embargo nos damos cuenta de que estos datos nulos ocupan casi una cuarta parte del data set, aunque por intiución pensemos que el nombre no puede influir en la construcción de nuestro modelo, tenemos que tener bases que demuestren aquello, es por eso, que manejaremos los datos nulos de estas columnas asignándole un nombre que sea **\"noname\"** así podremos darle una determinación a los datos nulos sin incurrir en implicaciones para nuestro modelo y cambiar el proceso/funcionamiento del mismo."
   ]
  },
  {
   "cell_type": "code",
   "execution_count": 203,
   "id": "062cec59",
   "metadata": {},
   "outputs": [],
   "source": [
    "#Nuevo dato\n",
    "nuevo_dato = \"noname\"\n",
    "\n",
    "#Reemplazar los valores nulos\n",
    "data[\"NombreAcogida\"] = data[\"NombreAcogida\"].fillna(nuevo_dato)\n",
    "\n",
    "data[\"NombreSalida\"] = data[\"NombreSalida\"].fillna(nuevo_dato)"
   ]
  },
  {
   "cell_type": "code",
   "execution_count": 204,
   "id": "e41c2bfa",
   "metadata": {},
   "outputs": [
    {
     "name": "stdout",
     "output_type": "stream",
     "text": [
      "Verificación de la cantidad de los valores nulos por columna:\n",
      "NombreAcogida            0\n",
      "SexoAnimal               0\n",
      "NombreSalida             0\n",
      "FormaSalida              0\n",
      "SexoSalida               0\n",
      "EdadSalida               0\n",
      "GeneroAcogida            0\n",
      "GeneroSalida             0\n",
      "EsterilizacionAcogida    0\n",
      "EsterilizacionSalida     0\n",
      "dtype: int64\n"
     ]
    }
   ],
   "source": [
    "columnas=['NombreAcogida', 'SexoAnimal', 'NombreSalida', 'FormaSalida',\n",
    "       'SexoSalida', 'EdadSalida', 'GeneroAcogida',\n",
    "       'GeneroSalida', 'EsterilizacionAcogida', 'EsterilizacionSalida']\n",
    "\n",
    "valoresN_verificar = data[columnas].isnull().sum()\n",
    "\n",
    "print('Verificación de la cantidad de los valores nulos por columna:')\n",
    "print(valoresN_verificar)"
   ]
  },
  {
   "cell_type": "markdown",
   "id": "ae7f2783",
   "metadata": {},
   "source": [
    "Hemos conseguido eliminar todos los datos nulos! Ahora si, podemos continuar con el proceso!"
   ]
  },
  {
   "cell_type": "markdown",
   "id": "eb731d93",
   "metadata": {},
   "source": [
    "#### **Data Standarization**\n",
    "- Lo que haremos ahora será conocer nuestros datos, vamos a corregir los formatos para darles un mejor manejo a los datos."
   ]
  },
  {
   "cell_type": "code",
   "execution_count": 205,
   "id": "774ed942",
   "metadata": {},
   "outputs": [
    {
     "data": {
      "text/plain": [
       "Animal ID                object\n",
       "NombreAcogida            object\n",
       "DateTimeAcogida          object\n",
       "MesAcogida               object\n",
       "LugarAcogida             object\n",
       "ManeraAcogida            object\n",
       "CondicionAcogida         object\n",
       "TipoAnimal               object\n",
       "SexoAnimal               object\n",
       "Edad                     object\n",
       "Raza                     object\n",
       "Color                    object\n",
       "NombreSalida             object\n",
       "DateTimeSalida           object\n",
       "MesSalida                object\n",
       "FormaSalida              object\n",
       "SexoSalida               object\n",
       "EdadSalida               object\n",
       "GeneroAcogida            object\n",
       "GeneroSalida             object\n",
       "EsterilizacionAcogida    object\n",
       "EsterilizacionSalida     object\n",
       "CambioEsterilizacion      int64\n",
       "RangoEdad                object\n",
       "RazaGeneral              object\n",
       "DuracionAcogida          object\n",
       "dtype: object"
      ]
     },
     "execution_count": 205,
     "metadata": {},
     "output_type": "execute_result"
    }
   ],
   "source": [
    "data.dtypes"
   ]
  },
  {
   "cell_type": "markdown",
   "id": "e5e450ff",
   "metadata": {},
   "source": [
    "Podemos observar que la mayoría de ellos son objetos incluso cuando pueden ser enteros. Por ejemplo la columna **Edad** y **EdadSalida** deberían ser int."
   ]
  },
  {
   "cell_type": "markdown",
   "id": "9e00f531",
   "metadata": {},
   "source": [
    "- Empezaremos a colocar los datos en un formato único, esto es debido a que en ambas columnas tenemos diferentes valores como semanas, meses y años entonces pasaremos todos esos valores a uno, que sera el de mes"
   ]
  },
  {
   "cell_type": "code",
   "execution_count": 206,
   "id": "7bccae34",
   "metadata": {},
   "outputs": [],
   "source": [
    "edades_sem = data[data['Edad'].str.endswith(('week', 'weeks'))]['Edad']\n",
    "edades_sem = edades_sem.apply(lambda x: int(x.split()[0]) * 7)"
   ]
  },
  {
   "cell_type": "markdown",
   "id": "eff0e7b3",
   "metadata": {},
   "source": [
    "Para hacer esto primero vamos a ir aplicando filtros, y a estos filtros le vamos a hacer la conversión, comenzamos con semana o semanas, vamos a seleccionar el primer valor del objeto (para eso se utiliza el lambda x) y lo vamos a multiplicar por el valor que recibe una semana respecto a un mes"
   ]
  },
  {
   "cell_type": "code",
   "execution_count": 211,
   "id": "a6544621",
   "metadata": {},
   "outputs": [],
   "source": [
    "data.loc[edades_sem.index, 'Edad'] = edades_sem"
   ]
  },
  {
   "cell_type": "markdown",
   "id": "606b09bd",
   "metadata": {},
   "source": [
    "Luego, actualizamos el data set con la función loc y finalmente comprobamos si de verdad se hizo el cambio:"
   ]
  },
  {
   "cell_type": "code",
   "execution_count": 212,
   "id": "e0f6f20b",
   "metadata": {},
   "outputs": [
    {
     "data": {
      "text/plain": [
       "0     2 years\n",
       "1    5 months\n",
       "2    3 months\n",
       "3     6 years\n",
       "4     2 years\n",
       "Name: Edad, dtype: object"
      ]
     },
     "execution_count": 212,
     "metadata": {},
     "output_type": "execute_result"
    }
   ],
   "source": [
    "data['Edad'].head()"
   ]
  },
  {
   "cell_type": "markdown",
   "id": "48839871",
   "metadata": {},
   "source": [
    "Vamos a los meses:"
   ]
  },
  {
   "cell_type": "code",
   "execution_count": 207,
   "id": "6da7a473",
   "metadata": {},
   "outputs": [
    {
     "data": {
      "text/plain": [
       "1     150\n",
       "2      90\n",
       "20    240\n",
       "22    270\n",
       "27    150\n",
       "28    150\n",
       "29    150\n",
       "33     30\n",
       "37     30\n",
       "38    300\n",
       "Name: Edad, dtype: int64"
      ]
     },
     "execution_count": 207,
     "metadata": {},
     "output_type": "execute_result"
    }
   ],
   "source": [
    "edades_mes = data[data['Edad'].str.endswith(('month', 'months'))]['Edad']\n",
    "edades_mes = edades_mes.apply(lambda x: int(x.split()[0]) * 30)\n",
    "edades_mes.head(10)"
   ]
  },
  {
   "cell_type": "code",
   "execution_count": 213,
   "id": "e38ac80b",
   "metadata": {},
   "outputs": [
    {
     "data": {
      "text/plain": [
       "0    2 years\n",
       "1        150\n",
       "2         90\n",
       "3    6 years\n",
       "4    2 years\n",
       "Name: Edad, dtype: object"
      ]
     },
     "execution_count": 213,
     "metadata": {},
     "output_type": "execute_result"
    }
   ],
   "source": [
    "data.loc[edades_mes.index, 'Edad'] = edades_mes\n",
    "data['Edad'].head()"
   ]
  },
  {
   "cell_type": "markdown",
   "id": "9395574e",
   "metadata": {},
   "source": [
    "Ahora, haremos lo mismo pero con los años:"
   ]
  },
  {
   "cell_type": "code",
   "execution_count": 208,
   "id": "4086b18d",
   "metadata": {},
   "outputs": [
    {
     "data": {
      "text/plain": [
       "0      730\n",
       "3     2190\n",
       "4      730\n",
       "5      730\n",
       "6     2190\n",
       "7     2190\n",
       "8     2190\n",
       "9     2190\n",
       "10    2190\n",
       "11    2190\n",
       "Name: Edad, dtype: int64"
      ]
     },
     "execution_count": 208,
     "metadata": {},
     "output_type": "execute_result"
    }
   ],
   "source": [
    "edades_year = data[data['Edad'].str.endswith(('year', 'years'))]['Edad']\n",
    "edades_year = edades_year.apply(lambda x: int(x.split()[0]) * 365)\n",
    "edades_year.head(10)"
   ]
  },
  {
   "cell_type": "code",
   "execution_count": 214,
   "id": "062008ec",
   "metadata": {},
   "outputs": [
    {
     "data": {
      "text/plain": [
       "0     730\n",
       "1     150\n",
       "2      90\n",
       "3    2190\n",
       "4     730\n",
       "Name: Edad, dtype: object"
      ]
     },
     "execution_count": 214,
     "metadata": {},
     "output_type": "execute_result"
    }
   ],
   "source": [
    "data.loc[edades_year.index, 'Edad'] = edades_year\n",
    "data['Edad'].head()"
   ]
  },
  {
   "cell_type": "markdown",
   "id": "f5b14b2f",
   "metadata": {},
   "source": [
    "Finalmente, voy a reemplazar las palabras 'day' y 'days' para que la columna me quede totalmente como un int"
   ]
  },
  {
   "cell_type": "code",
   "execution_count": 209,
   "id": "bdcbe593",
   "metadata": {},
   "outputs": [],
   "source": [
    "#Hacer la filtración de datos que terminan por month y months\n",
    "edades_dia = data[data['Edad'].str.endswith(('days'))]['Edad']\n",
    "edades_dia1 = data[data['Edad'].str.endswith(('day'))]['Edad']"
   ]
  },
  {
   "cell_type": "code",
   "execution_count": 210,
   "id": "0778819f",
   "metadata": {},
   "outputs": [],
   "source": [
    "#Realizar el strip para quitar ambas palabras de los datos\n",
    "edades_dia = edades_dia.str.rstrip(' days')\n",
    "edades_dia1 = edades_dia1.str.rstrip(' day')"
   ]
  },
  {
   "cell_type": "code",
   "execution_count": 215,
   "id": "e41a3732",
   "metadata": {},
   "outputs": [],
   "source": [
    "#Guardarlos en el Dataset\n",
    "data.loc[edades_dia.index, 'Edad'] = edades_dia\n",
    "data.loc[edades_dia1.index, 'Edad'] = edades_dia1"
   ]
  },
  {
   "cell_type": "markdown",
   "id": "6fd955b7",
   "metadata": {},
   "source": [
    "- Finalmente, podemos ver la columna total con todos sus datos en una misma unidad de tiempo, en meses:"
   ]
  },
  {
   "cell_type": "code",
   "execution_count": 216,
   "id": "e7a4e9cc",
   "metadata": {},
   "outputs": [
    {
     "data": {
      "text/plain": [
       "0     730\n",
       "1     150\n",
       "2      90\n",
       "3    2190\n",
       "4     730\n",
       "5     730\n",
       "6    2190\n",
       "7    2190\n",
       "8    2190\n",
       "9    2190\n",
       "Name: Edad, dtype: int32"
      ]
     },
     "execution_count": 216,
     "metadata": {},
     "output_type": "execute_result"
    }
   ],
   "source": [
    "data[\"Edad\"] = data[\"Edad\"].astype(int)\n",
    "data['Edad'].head(10)"
   ]
  },
  {
   "cell_type": "markdown",
   "id": "eba3e13f",
   "metadata": {},
   "source": [
    "Ahora, tenemos que realizar el mismo proceso pero con la columa **EdadSalida**"
   ]
  },
  {
   "cell_type": "code",
   "execution_count": 217,
   "id": "f766ce88",
   "metadata": {},
   "outputs": [],
   "source": [
    "edades_sem = data[data['EdadSalida'].str.endswith(('week', 'weeks'))]['EdadSalida']\n",
    "edades_sem = edades_sem.apply(lambda x: int(x.split()[0]) * 7)"
   ]
  },
  {
   "cell_type": "code",
   "execution_count": 222,
   "id": "11041ec2",
   "metadata": {},
   "outputs": [],
   "source": [
    "data.loc[edades_sem.index, 'EdadSalida'] = edades_sem"
   ]
  },
  {
   "cell_type": "code",
   "execution_count": 218,
   "id": "e7f324c7",
   "metadata": {},
   "outputs": [],
   "source": [
    "edades_mes = data[data['EdadSalida'].str.endswith(('month', 'months'))]['EdadSalida']\n",
    "edades_mes = edades_mes.apply(lambda x: int(x.split()[0]) * 30)"
   ]
  },
  {
   "cell_type": "code",
   "execution_count": 223,
   "id": "5692f1f9",
   "metadata": {},
   "outputs": [],
   "source": [
    "data.loc[edades_mes.index, 'EdadSalida'] = edades_mes"
   ]
  },
  {
   "cell_type": "code",
   "execution_count": 219,
   "id": "075cc11f",
   "metadata": {},
   "outputs": [],
   "source": [
    "edades_year = data[data['EdadSalida'].str.endswith(('year', 'years'))]['EdadSalida']\n",
    "edades_year = edades_year.apply(lambda x: int(x.split()[0]) * 365)"
   ]
  },
  {
   "cell_type": "code",
   "execution_count": 224,
   "id": "c4497fb7",
   "metadata": {},
   "outputs": [],
   "source": [
    "data.loc[edades_year.index, 'EdadSalida'] = edades_year"
   ]
  },
  {
   "cell_type": "code",
   "execution_count": 220,
   "id": "e54d177d",
   "metadata": {},
   "outputs": [],
   "source": [
    "edades_mon2 = data[data['EdadSalida'].str.endswith((' days'))]['EdadSalida']\n",
    "edades_mon3 = data[data['EdadSalida'].str.endswith((' day'))]['EdadSalida']"
   ]
  },
  {
   "cell_type": "code",
   "execution_count": 221,
   "id": "d20f4f4e",
   "metadata": {},
   "outputs": [],
   "source": [
    "edades_mon2 = edades_mon2.str.rstrip(' days')\n",
    "edades_mon3 = edades_mon3.str.rstrip(' day')"
   ]
  },
  {
   "cell_type": "code",
   "execution_count": 225,
   "id": "2da5da22",
   "metadata": {},
   "outputs": [],
   "source": [
    "data.loc[edades_mon2.index, 'EdadSalida'] = edades_mon2\n",
    "data.loc[edades_mon3.index, 'EdadSalida'] = edades_mon3"
   ]
  },
  {
   "cell_type": "code",
   "execution_count": 226,
   "id": "3fa03102",
   "metadata": {},
   "outputs": [
    {
     "data": {
      "text/plain": [
       "0     730\n",
       "1     210\n",
       "2      90\n",
       "3    2190\n",
       "4     730\n",
       "5     730\n",
       "6    2190\n",
       "7    1825\n",
       "8    1825\n",
       "9    2190\n",
       "Name: EdadSalida, dtype: int32"
      ]
     },
     "execution_count": 226,
     "metadata": {},
     "output_type": "execute_result"
    }
   ],
   "source": [
    "data[\"EdadSalida\"] = data[\"EdadSalida\"].astype(int)\n",
    "data['EdadSalida'].head(10)"
   ]
  },
  {
   "cell_type": "markdown",
   "id": "1f9ba63f",
   "metadata": {},
   "source": [
    "Hemos logrado colocar ambas columnas en las mismas unidades de tiempo! Ahora, tenemos estas columnas como tipo int y va a ser mucho más sencillo para la construcción del Modelo.\n",
    "\n",
    "Por otro lado, tenemos las columnas DateTime, como **DateTimeAcogida** o **DateTimeSalida**, para realizar nuestro analísis vamos a ir tomando mes por mes la cantidad de animales adoptados en Austin, por lo que el dato de la hora, aunque es un dato con el que se pueden realizar muchos más análisis no lo vamos a necesitar en el nuestro, así que vamos a suprimirlo para dejar únicamente la fecha y poder seguir encontrando información valiosa sin tanto trabajo."
   ]
  },
  {
   "cell_type": "code",
   "execution_count": 227,
   "id": "4ad3667e",
   "metadata": {},
   "outputs": [
    {
     "data": {
      "text/plain": [
       "0   2016-05-02\n",
       "1   2015-04-29\n",
       "2   2014-10-15\n",
       "3   2013-12-05\n",
       "4   2014-03-13\n",
       "5   2014-10-20\n",
       "6   2015-03-01\n",
       "7   2015-03-01\n",
       "8   2015-03-01\n",
       "9   2015-03-01\n",
       "Name: DateTimeAcogida, dtype: datetime64[ns]"
      ]
     },
     "execution_count": 227,
     "metadata": {},
     "output_type": "execute_result"
    }
   ],
   "source": [
    "# Extraer solo la fecha (sin hora)\n",
    "data[\"DateTimeAcogida\"] = data[\"DateTimeAcogida\"].str.split().str[0]\n",
    "\n",
    "# Convertir la columna \"fecha\" a formato de fecha (formato ISO)\n",
    "data[\"DateTimeAcogida\"] = pd.to_datetime(data[\"DateTimeAcogida\"], format=\"%d/%m/%Y\")\n",
    "\n",
    "data[\"DateTimeAcogida\"].head(10)"
   ]
  },
  {
   "cell_type": "code",
   "execution_count": 228,
   "id": "4df14bcb",
   "metadata": {},
   "outputs": [
    {
     "data": {
      "text/plain": [
       "0   2016-05-07\n",
       "1   2015-06-01\n",
       "2   2014-10-16\n",
       "3   2013-12-09\n",
       "4   2014-04-19\n",
       "5   2014-10-25\n",
       "6   2015-03-04\n",
       "7   2014-05-15\n",
       "8   2014-09-14\n",
       "9   2015-12-01\n",
       "Name: DateTimeSalida, dtype: datetime64[ns]"
      ]
     },
     "execution_count": 228,
     "metadata": {},
     "output_type": "execute_result"
    }
   ],
   "source": [
    "data[\"DateTimeSalida\"] = data[\"DateTimeSalida\"].str.split().str[0]\n",
    "\n",
    "# Convertir la columna \"fecha\" a formato de fecha (formato ISO)\n",
    "data[\"DateTimeSalida\"] = pd.to_datetime(data[\"DateTimeSalida\"], format=\"%d/%m/%Y\")\n",
    "\n",
    "data[\"DateTimeSalida\"].head(10)"
   ]
  },
  {
   "cell_type": "markdown",
   "id": "a6af71b1",
   "metadata": {},
   "source": [
    "#### **Binning**\n",
    "Vamos a ir yendo por cada una de las columnas verificando si necesitan agrupación o no, el código del animal como ya sabemos, no necesita y por el momento, no vamos a agrupar los nombres hasta ya hayamos observado las relaciones que tienen con la probabilidad de adopción, es así, como llegamos a la columna del DateTime de la acogida, al ser un dato tipo DateTime, vamos a ir agrupando en un primer momento por años."
   ]
  },
  {
   "cell_type": "code",
   "execution_count": 229,
   "id": "b6860b8f",
   "metadata": {},
   "outputs": [
    {
     "data": {
      "text/plain": [
       "22018    2013\n",
       "18245    2013\n",
       "29980    2013\n",
       "50015    2013\n",
       "40577    2013\n",
       "40578    2013\n",
       "40580    2013\n",
       "4578     2013\n",
       "42166    2013\n",
       "32355    2013\n",
       "Name: DateTimeAcogida, dtype: int32"
      ]
     },
     "execution_count": 229,
     "metadata": {},
     "output_type": "execute_result"
    }
   ],
   "source": [
    "# Extraer el año de la columna \"fecha\"\n",
    "columna_año = data[\"DateTimeAcogida\"].dt.year\n",
    "columna_año = columna_año.sort_values()\n",
    "columna_año.head(10)"
   ]
  },
  {
   "cell_type": "code",
   "execution_count": 230,
   "id": "fb704cf5",
   "metadata": {},
   "outputs": [
    {
     "data": {
      "image/png": "[encoded data removed]",
      "text/plain": [
       "<Figure size 640x480 with 1 Axes>"
      ]
     },
     "metadata": {},
     "output_type": "display_data"
    }
   ],
   "source": [
    "# Crear el histograma de la columna DateTimeAcogida agrupado por años\n",
    "%matplotlib inline\n",
    "import matplotlib as plt\n",
    "from matplotlib import pyplot\n",
    "columna_año.value_counts().plot(kind=\"bar\")\n",
    "plt.pyplot.xlabel(\"Año\")\n",
    "plt.pyplot.ylabel(\"Cantidad de animales acogidos\")\n",
    "plt.pyplot.title(\"Histograma de animales acogidos por año\")\n",
    "plt.pyplot.show()"
   ]
  },
  {
   "cell_type": "code",
   "execution_count": 231,
   "id": "35a2a1c0",
   "metadata": {},
   "outputs": [
    {
     "data": {
      "text/plain": [
       "52096    2013\n",
       "33744    2013\n",
       "24699    2013\n",
       "14572    2013\n",
       "16171    2013\n",
       "34730    2013\n",
       "16170    2013\n",
       "2237     2013\n",
       "16168    2013\n",
       "42234    2013\n",
       "Name: DateTimeSalida, dtype: int32"
      ]
     },
     "execution_count": 231,
     "metadata": {},
     "output_type": "execute_result"
    }
   ],
   "source": [
    "# Extrae el año de la columna \"fecha\"\n",
    "columna_año1 = data[\"DateTimeSalida\"].dt.year\n",
    "# Ordenar la columna por Años\n",
    "columna_año1 = columna_año1.sort_values()\n",
    "columna_año1.head(10)"
   ]
  },
  {
   "cell_type": "code",
   "execution_count": 232,
   "id": "11279d7d",
   "metadata": {},
   "outputs": [
    {
     "data": {
      "image/png": "[encoded data removed]",
      "text/plain": [
       "<Figure size 640x480 with 1 Axes>"
      ]
     },
     "metadata": {},
     "output_type": "display_data"
    }
   ],
   "source": [
    "# Crear el histograma de la columna DateTimeSalida agrupado por años\n",
    "%matplotlib inline\n",
    "import matplotlib as plt\n",
    "from matplotlib import pyplot\n",
    "columna_año1.value_counts().plot(kind=\"bar\")\n",
    "plt.pyplot.xlabel(\"Año\")\n",
    "plt.pyplot.ylabel(\"Cantidad animales que salieron\")\n",
    "plt.pyplot.title(\"Histograma animales que salieron por año\")\n",
    "plt.pyplot.show()"
   ]
  },
  {
   "cell_type": "markdown",
   "id": "6b6c9225",
   "metadata": {},
   "source": [
    "- En ambos histogramas podemos observar que la cantidad de animales que entran y salen son casi las mismas por año, con algunas diferencias pero de comportamiento muy similar, lo que nos da a entender que el flujo de animales en el refugio es bastante bueno, lo que da a entender que así como muchos animales son ayudados en las calles, también hay muchos animales que son ayudados en el refugio. "
   ]
  },
  {
   "cell_type": "code",
   "execution_count": 58,
   "id": "ecf104b1",
   "metadata": {},
   "outputs": [
    {
     "data": {
      "text/plain": [
       "Text(0.5, 1.0, 'Manera en la que el animal llegó al centro')"
      ]
     },
     "execution_count": 58,
     "metadata": {},
     "output_type": "execute_result"
    },
    {
     "data": {
      "image/png": "[encoded data removed]",
      "text/plain": [
       "<Figure size 640x480 with 1 Axes>"
      ]
     },
     "metadata": {},
     "output_type": "display_data"
    }
   ],
   "source": [
    "%matplotlib inline\n",
    "import matplotlib as plt\n",
    "from matplotlib import pyplot\n",
    "plt.pyplot.hist(data[\"ManeraAcogida\"])\n",
    "\n",
    "# set x/y labels and plot title\n",
    "plt.pyplot.ylabel(\"Cantidad\")\n",
    "plt.pyplot.title(\"Manera en la que el animal llegó al centro\")"
   ]
  },
  {
   "cell_type": "markdown",
   "id": "abd69526",
   "metadata": {},
   "source": [
    "- En el histograma anterior se puede observar como la mayoría (por mucha diferencia) de animales que llegan están extraviados, el otro grupo de animales con una cantidad considerable son entregados por los dueños, y la cantidad restante se dividen entre la asistencia pública del estado, los encontrados en la fauna y a los que los entregaban para aplicarles la eutanasia, la anterior información nos da una posible razón del porqué el flujo de los animales es tan alta, quizás al ser extraviados sus dueños los buscan hasta finalmente poder volver a tener, también nos habla de la comunidad y la importancia que pueden tener los animales en su cultura, al tener la responsabilidad de entregar el animalito en un lugar donde cuiden de él y que también los entes públicos ayuden a esto da una muy buena perspectiva de la colectividad y cultura de las personas"
   ]
  },
  {
   "cell_type": "code",
   "execution_count": 59,
   "id": "b4a00949",
   "metadata": {},
   "outputs": [
    {
     "data": {
      "image/png": "[encoded data removed]",
      "text/plain": [
       "<Figure size 640x480 with 1 Axes>"
      ]
     },
     "metadata": {},
     "output_type": "display_data"
    }
   ],
   "source": [
    "%matplotlib inline\n",
    "import matplotlib as plt\n",
    "from matplotlib import pyplot\n",
    "data['FormaSalida'].value_counts().plot(kind=\"bar\")\n",
    "plt.pyplot.ylabel(\"Cantidad\")\n",
    "plt.pyplot.title(\"Forma en la que los animales salieron del refugio\")\n",
    "plt.pyplot.show()"
   ]
  },
  {
   "cell_type": "code",
   "execution_count": 60,
   "id": "7126361f",
   "metadata": {},
   "outputs": [
    {
     "data": {
      "text/plain": [
       "Text(0.5, 1.0, 'Condición en la que el animal llegó')"
      ]
     },
     "execution_count": 60,
     "metadata": {},
     "output_type": "execute_result"
    },
    {
     "data": {
      "image/png": "[encoded data removed]",
      "text/plain": [
       "<Figure size 640x480 with 1 Axes>"
      ]
     },
     "metadata": {},
     "output_type": "display_data"
    }
   ],
   "source": [
    "%matplotlib inline\n",
    "import matplotlib as plt\n",
    "from matplotlib import pyplot\n",
    "plt.pyplot.hist(data[\"CondicionAcogida\"])\n",
    "\n",
    "# set x/y labels and plot title\n",
    "plt.pyplot.ylabel(\"cantidad\")\n",
    "plt.pyplot.title(\"Condición en la que el animal llegó\")"
   ]
  },
  {
   "cell_type": "markdown",
   "id": "04b45b8d",
   "metadata": {},
   "source": [
    "- En este histograma conoces un poco sobre la condición en la que los animales llegan al refugio, la mayoría de ellos llegan en un estado normal, sin embargo hay algunos que si pueden llegar enfermos o heridos, y también algunos pocos tienen edades muy altas, llegan en estado salvaje o en embarazo. Este es un paisaje bastante bueno para la calidad de vida de los animalitos en Austin, nos podemos hacer una idea del cuidado que se le brinda a ellos, así como la importancia por su salud y el poco abuso que se podría generar hacia ellos "
   ]
  },
  {
   "cell_type": "code",
   "execution_count": 61,
   "id": "8471632d",
   "metadata": {},
   "outputs": [
    {
     "data": {
      "text/plain": [
       "Text(0.5, 1.0, 'Sexo del animal')"
      ]
     },
     "execution_count": 61,
     "metadata": {},
     "output_type": "execute_result"
    },
    {
     "data": {
      "image/png": "[encoded data removed]",
      "text/plain": [
       "<Figure size 640x480 with 1 Axes>"
      ]
     },
     "metadata": {},
     "output_type": "display_data"
    }
   ],
   "source": [
    "%matplotlib inline\n",
    "import matplotlib as plt\n",
    "from matplotlib import pyplot\n",
    "plt.pyplot.hist(data[\"SexoAnimal\"])\n",
    "\n",
    "# set x/y labels and plot title\n",
    "plt.pyplot.ylabel(\"Cantidad\")\n",
    "plt.pyplot.title(\"Sexo del animal\")"
   ]
  },
  {
   "cell_type": "markdown",
   "id": "94ab55ed",
   "metadata": {},
   "source": [
    "- Acá observamos la distribución del sexo en los animales, existen tanto del género femenino esterilizadas como no, y lo mismo sucede en el género masculino, sin embargo, el género masculino tiene una proporción más alta, así mismo, hay una gran cantidad de datos que hacen referencia a al género desconocido, lo anterior nos puede dar la idea de que quizás estos datos desconocidos pueden pertenecer en gran medida al género másculino."
   ]
  },
  {
   "cell_type": "code",
   "execution_count": 62,
   "id": "0592b40a",
   "metadata": {},
   "outputs": [
    {
     "data": {
      "text/plain": [
       "Text(0.5, 1.0, 'Especies de animales que llegan al refugio')"
      ]
     },
     "execution_count": 62,
     "metadata": {},
     "output_type": "execute_result"
    },
    {
     "data": {
      "image/png": "[encoded data removed]",
      "text/plain": [
       "<Figure size 640x480 with 1 Axes>"
      ]
     },
     "metadata": {},
     "output_type": "display_data"
    }
   ],
   "source": [
    "%matplotlib inline\n",
    "import matplotlib as plt\n",
    "from matplotlib import pyplot\n",
    "plt.pyplot.hist(data[\"TipoAnimal\"])\n",
    "\n",
    "# set x/y labels and plot title\n",
    "plt.pyplot.ylabel(\"Cantidad\")\n",
    "plt.pyplot.title(\"Especies de animales que llegan al refugio\")"
   ]
  },
  {
   "cell_type": "code",
   "execution_count": 233,
   "id": "332cd8d0",
   "metadata": {},
   "outputs": [
    {
     "data": {
      "text/plain": [
       "array([   0.        , 1520.83333333, 3041.66666667, 4562.5       ,\n",
       "       6083.33333333, 7604.16666667, 9125.        ])"
      ]
     },
     "execution_count": 233,
     "metadata": {},
     "output_type": "execute_result"
    }
   ],
   "source": [
    "import numpy as np\n",
    "bins = np.linspace((min(data['Edad'])), max(data['Edad']), 7)\n",
    "agrupacion = ['1 - 4', '4 - 8','8 - 12', '12 - 16','16 - 20','20 - 24']\n",
    "bins"
   ]
  },
  {
   "cell_type": "code",
   "execution_count": 234,
   "id": "006f3a10",
   "metadata": {},
   "outputs": [
    {
     "data": {
      "text/plain": [
       "EdadAgrupada\n",
       "1 - 4      50544\n",
       "4 - 8       6465\n",
       "8 - 12      2283\n",
       "12 - 16      641\n",
       "16 - 20       61\n",
       "20 - 24        5\n",
       "Name: count, dtype: int64"
      ]
     },
     "execution_count": 234,
     "metadata": {},
     "output_type": "execute_result"
    }
   ],
   "source": [
    "data['EdadAgrupada'] = pd.cut(data['Edad'], bins, labels=agrupacion, include_lowest=True )\n",
    "data['EdadAgrupada'].value_counts()"
   ]
  },
  {
   "cell_type": "code",
   "execution_count": 65,
   "id": "1931d1db",
   "metadata": {},
   "outputs": [
    {
     "data": {
      "text/plain": [
       "Text(0.5, 1.0, 'Rango de edad de los animales que entraron al refugio en años')"
      ]
     },
     "execution_count": 65,
     "metadata": {},
     "output_type": "execute_result"
    },
    {
     "data": {
      "image/png": "[encoded data removed]",
      "text/plain": [
       "<Figure size 640x480 with 1 Axes>"
      ]
     },
     "metadata": {},
     "output_type": "display_data"
    }
   ],
   "source": [
    "%matplotlib inline\n",
    "import matplotlib as plt\n",
    "from matplotlib import pyplot\n",
    "pyplot.bar(agrupacion, data['EdadAgrupada'].value_counts())\n",
    "\n",
    "# set x/y labels and plot title\n",
    "plt.pyplot.ylabel(\"Cantidad\")\n",
    "plt.pyplot.title(\"Rango de edad de los animales que entraron al refugio en años\")"
   ]
  },
  {
   "cell_type": "markdown",
   "id": "aa164aa1",
   "metadata": {},
   "source": [
    "- En el anterior histograma estuve realizando la clasificación de la edad de los animales que entraban al refugio, la distribución la realicé por medio de la cantidad de días que tenían los animales y de allí pase a realizar los rangos, se puede visualizar que la mayoria de animales se ubican en el primer rango 1 - 4 años pero también observamos que hay animales muy longevos que alcanzaron a llegar al refugio lo cual es sorprendente, pues un animal extraviado o en condiciones de calle y que tenga además tanta edad es muy difícil que sobreviva, sin embargo algunos de ellos tal vez lo hicieron y esto nos da a entender que tanto la calidad de vida como la longevidad de los animales es mucho mayor a la que estamos viendo en nuestro país"
   ]
  },
  {
   "cell_type": "code",
   "execution_count": 235,
   "id": "437e2eb5",
   "metadata": {},
   "outputs": [
    {
     "data": {
      "text/plain": [
       "array([   0.        , 1520.83333333, 3041.66666667, 4562.5       ,\n",
       "       6083.33333333, 7604.16666667, 9125.        ])"
      ]
     },
     "execution_count": 235,
     "metadata": {},
     "output_type": "execute_result"
    }
   ],
   "source": [
    "import numpy as np\n",
    "bins = np.linspace((min(data['EdadSalida'])), max(data['EdadSalida']), 7)\n",
    "agrupacion = ['1 - 4', '4 - 8','8 - 12', '12 - 16','16 - 20','20 - 24']\n",
    "bins"
   ]
  },
  {
   "cell_type": "code",
   "execution_count": 236,
   "id": "dedd7914",
   "metadata": {},
   "outputs": [
    {
     "data": {
      "text/plain": [
       "EdadSAgrupada\n",
       "1 - 4      50442\n",
       "4 - 8       6519\n",
       "8 - 12      2315\n",
       "12 - 16      656\n",
       "16 - 20       62\n",
       "20 - 24        5\n",
       "Name: count, dtype: int64"
      ]
     },
     "execution_count": 236,
     "metadata": {},
     "output_type": "execute_result"
    }
   ],
   "source": [
    "data['EdadSAgrupada'] = pd.cut(data['EdadSalida'], bins, labels=agrupacion, include_lowest=True )\n",
    "data['EdadSAgrupada'].value_counts()"
   ]
  },
  {
   "cell_type": "code",
   "execution_count": 68,
   "id": "719ac9df",
   "metadata": {},
   "outputs": [
    {
     "data": {
      "text/plain": [
       "Text(0.5, 1.0, 'Rango de edad de los animales que salieron del refugio en años')"
      ]
     },
     "execution_count": 68,
     "metadata": {},
     "output_type": "execute_result"
    },
    {
     "data": {
      "image/png": "[encoded data removed]",
      "text/plain": [
       "<Figure size 640x480 with 1 Axes>"
      ]
     },
     "metadata": {},
     "output_type": "display_data"
    }
   ],
   "source": [
    "%matplotlib inline\n",
    "import matplotlib as plt\n",
    "from matplotlib import pyplot\n",
    "pyplot.bar(agrupacion, data['EdadSAgrupada'].value_counts())\n",
    "\n",
    "# set x/y labels and plot title\n",
    "plt.pyplot.ylabel(\"Cantidad\")\n",
    "plt.pyplot.title(\"Rango de edad de los animales que salieron del refugio en años\")"
   ]
  },
  {
   "cell_type": "markdown",
   "id": "9c277783",
   "metadata": {},
   "source": [
    "- En el anterior histograma sucede lo mismo que en el anterior de las edades de ingreso, con la única diferencia que incrementan algunas unidades en los rangos de edades más altas, esto puede ser a que varios animales se quedaron en el refugio algún tiempo y esto hizo que los valores de la edad en la salida incrementaran un poco."
   ]
  },
  {
   "cell_type": "code",
   "execution_count": 69,
   "id": "fad75855",
   "metadata": {},
   "outputs": [
    {
     "data": {
      "text/plain": [
       "Text(0.5, 1.0, 'Género de los animales que entraron al refugio')"
      ]
     },
     "execution_count": 69,
     "metadata": {},
     "output_type": "execute_result"
    },
    {
     "data": {
      "image/png": "[encoded data removed]",
      "text/plain": [
       "<Figure size 640x480 with 1 Axes>"
      ]
     },
     "metadata": {},
     "output_type": "display_data"
    }
   ],
   "source": [
    "%matplotlib inline\n",
    "import matplotlib as plt\n",
    "from matplotlib import pyplot\n",
    "plt.pyplot.hist(data['GeneroAcogida'], bins=2)\n",
    "\n",
    "# set x/y labels and plot title\n",
    "plt.pyplot.ylabel(\"Cantidad\")\n",
    "plt.pyplot.title(\"Género de los animales que entraron al refugio\")"
   ]
  },
  {
   "cell_type": "code",
   "execution_count": 70,
   "id": "365a4381",
   "metadata": {},
   "outputs": [
    {
     "data": {
      "text/plain": [
       "Text(0.5, 1.0, 'Género de los animales que salieron del refugio')"
      ]
     },
     "execution_count": 70,
     "metadata": {},
     "output_type": "execute_result"
    },
    {
     "data": {
      "image/png": "[encoded data removed]",
      "text/plain": [
       "<Figure size 640x480 with 1 Axes>"
      ]
     },
     "metadata": {},
     "output_type": "display_data"
    }
   ],
   "source": [
    "%matplotlib inline\n",
    "import matplotlib as plt\n",
    "from matplotlib import pyplot\n",
    "plt.pyplot.hist(data['GeneroSalida'], bins=2)\n",
    "\n",
    "# set x/y labels and plot title\n",
    "plt.pyplot.ylabel(\"Cantidad\")\n",
    "plt.pyplot.title(\"Género de los animales que salieron del refugio\")"
   ]
  },
  {
   "cell_type": "code",
   "execution_count": 71,
   "id": "b208c006",
   "metadata": {},
   "outputs": [
    {
     "data": {
      "text/plain": [
       "Text(0.5, 1.0, 'Esterilizaciones que se hicieron en el refugio')"
      ]
     },
     "execution_count": 71,
     "metadata": {},
     "output_type": "execute_result"
    },
    {
     "data": {
      "image/png": "[encoded data removed]",
      "text/plain": [
       "<Figure size 640x480 with 1 Axes>"
      ]
     },
     "metadata": {},
     "output_type": "display_data"
    }
   ],
   "source": [
    "%matplotlib inline\n",
    "import matplotlib as plt\n",
    "from matplotlib import pyplot\n",
    "plt.pyplot.hist(data['CambioEsterilizacion'])\n",
    "\n",
    "# set x/y labels and plot title\n",
    "plt.pyplot.ylabel(\"Cantidad\")\n",
    "plt.pyplot.xlabel('0=no cambio      1=cambio')\n",
    "plt.pyplot.title(\"Esterilizaciones que se hicieron en el refugio\")"
   ]
  },
  {
   "cell_type": "code",
   "execution_count": 237,
   "id": "01450aff",
   "metadata": {},
   "outputs": [],
   "source": [
    "\n",
    "#Hice esto para separar los días de la hora en columnas diferentes\n",
    "# Convierte la columna \"DuracionAcogida\" a objetos timedelta\n",
    "data[\"DuracionAcogida\"] = pd.to_timedelta(data[\"DuracionAcogida\"])\n",
    "\n",
    "# Extrae los días y la hora\n",
    "data[\"Dias\"] = data[\"DuracionAcogida\"].dt.days\n",
    "\n",
    "# Extrae la hora exacta utilizando el método dt.components() y la clave 'hours'\n",
    "data[\"Hora_Exacta\"] = data[\"DuracionAcogida\"].dt.components['hours']\n"
   ]
  },
  {
   "cell_type": "code",
   "execution_count": 238,
   "id": "d5a415e1",
   "metadata": {},
   "outputs": [
    {
     "data": {
      "text/plain": [
       "array([   0. ,  316.5,  633. ,  949.5, 1266. ])"
      ]
     },
     "execution_count": 238,
     "metadata": {},
     "output_type": "execute_result"
    }
   ],
   "source": [
    "import numpy as np\n",
    "bins = np.linspace((min(data['Dias'])), max(data['Dias']), 5)\n",
    "agrupacion = ['Poco', 'Medio', 'Mucho', 'Bastante']\n",
    "bins"
   ]
  },
  {
   "cell_type": "code",
   "execution_count": 239,
   "id": "f3661e47",
   "metadata": {},
   "outputs": [
    {
     "data": {
      "text/plain": [
       "TiempoAgrupado\n",
       "Poco        57108\n",
       "Medio        2044\n",
       "Mucho         670\n",
       "Bastante      177\n",
       "Name: count, dtype: int64"
      ]
     },
     "execution_count": 239,
     "metadata": {},
     "output_type": "execute_result"
    }
   ],
   "source": [
    "data['TiempoAgrupado'] = pd.cut(data['Dias'], bins, labels=agrupacion, include_lowest=True )\n",
    "data['TiempoAgrupado'].value_counts()"
   ]
  },
  {
   "cell_type": "code",
   "execution_count": 75,
   "id": "9d675c1b",
   "metadata": {},
   "outputs": [
    {
     "data": {
      "text/plain": [
       "Text(0.5, 1.0, 'Rango de tiempo que los animales han permanecido')"
      ]
     },
     "execution_count": 75,
     "metadata": {},
     "output_type": "execute_result"
    },
    {
     "data": {
      "image/png": "[encoded data removed]",
      "text/plain": [
       "<Figure size 640x480 with 1 Axes>"
      ]
     },
     "metadata": {},
     "output_type": "display_data"
    }
   ],
   "source": [
    "%matplotlib inline\n",
    "import matplotlib as plt\n",
    "from matplotlib import pyplot\n",
    "pyplot.bar(agrupacion, data['TiempoAgrupado'].value_counts())\n",
    "\n",
    "# set x/y labels and plot title\n",
    "plt.pyplot.xlabel(\"Rango de Dias\")\n",
    "plt.pyplot.ylabel(\"Cantidad de animales\")\n",
    "plt.pyplot.title(\"Rango de tiempo que los animales han permanecido\")"
   ]
  },
  {
   "cell_type": "markdown",
   "id": "b022c81c",
   "metadata": {},
   "source": [
    "- En este histograma tuve que realizar la subdivisión de las columnas para separar las horas exactas de los días y así poder hacer la cuenta y los rangos, en general, podemos decir que los animales en el refugio duran muy poco, esto es bastante interesante ya que un muchas fundaciones locales no se logra conseguir esta clase de flujo, esto nos puede llevar a preguntas de cómo hacen para que este flujo sea tan alto, o quizás qué hay de diferente en las culturas que hace que los animales sean un poco más respetados en ciudades como Austin, de igual manera existen animales que llevan bastante tiempo, pero en relación con la cantidad no es una cifra preocupante"
   ]
  },
  {
   "cell_type": "markdown",
   "id": "52715430",
   "metadata": {},
   "source": [
    "### **Variables Indicadoras:**\n",
    "Acá voy a empezar a realizar las variables indicadoras para a la hora de hacer el modelo regresión, pueda comprender mejor los datos.\n",
    "- Comenzaré por la columna **NombreAcogida** allí, voy a crear una variable indicadora o una columna categórica indicando si el animal tiene o no nombre o no para poder después mirar en el modelo de correlación que tanta influencia tiene el nombre en la adopción de un animalito.\n",
    "\n",
    "- Continuaré con la columnna **FormaSalida** Para saber si fue adopatado o no, esto con la finalidad de tener el resultado y los datos de los animales adoptados más a la mano.\n",
    "\n",
    "- Y finalmente le asignaré los valores de True y False a la columna de **Genero** para tener más claridad a la hora de realizar el modelo."
   ]
  },
  {
   "cell_type": "code",
   "execution_count": 240,
   "id": "b1055438",
   "metadata": {},
   "outputs": [
    {
     "data": {
      "text/plain": [
       "0      nombre\n",
       "1    nonombre\n",
       "2    nonombre\n",
       "3    nonombre\n",
       "4      nombre\n",
       "Name: TieneNombre, dtype: object"
      ]
     },
     "execution_count": 240,
     "metadata": {},
     "output_type": "execute_result"
    }
   ],
   "source": [
    "# Definir una función lambda para verificar si el nombre es diferente a \"noname\"\n",
    "tiene_nombre = lambda nombre: nombre != \"noname\"\n",
    "\n",
    "# Aplicar la función lambda a la columna \"NombreAcogida\" y crea una nueva columna llamada \"TieneNombre\"\n",
    "data[\"TieneNombre\"] = data[\"NombreAcogida\"].apply(tiene_nombre)\n",
    "\n",
    "# Reemplazar True/False por nombre/nonombre\n",
    "data[\"TieneNombre\"]= data['TieneNombre'].replace({True: \"nombre\", False: \"nonombre\"})\n",
    "data['TieneNombre'].head()\n"
   ]
  },
  {
   "cell_type": "code",
   "execution_count": 241,
   "id": "f428f87c",
   "metadata": {},
   "outputs": [
    {
     "data": {
      "text/plain": [
       "0      adoptado\n",
       "1    noadoptado\n",
       "2    noadoptado\n",
       "3    noadoptado\n",
       "4      adoptado\n",
       "5      adoptado\n",
       "6    noadoptado\n",
       "7    noadoptado\n",
       "8      adoptado\n",
       "9    noadoptado\n",
       "Name: Adoptado, dtype: object"
      ]
     },
     "execution_count": 241,
     "metadata": {},
     "output_type": "execute_result"
    }
   ],
   "source": [
    "# Definir una función lambda para verificar si la Forma de salida es diferente a \"Adoption\"\n",
    "adoptado = lambda adoptado: adoptado != \"Adoption\"\n",
    "\n",
    "# Aplicar la función lambda a la columna \"FormaSalida\" y crea una nueva columna llamada \"NoAdoptado\"\n",
    "data[\"Adoptado\"] = data[\"FormaSalida\"].apply(adoptado)\n",
    "\n",
    "# Reemplazar True/False por nombre/nonombre\n",
    "data[\"Adoptado\"]= data['Adoptado'].replace({True: \"noadoptado\", False: \"adoptado\"})\n",
    "data['Adoptado'].head()\n",
    "\n",
    "data['Adoptado'].head(10)"
   ]
  },
  {
   "cell_type": "markdown",
   "id": "cad5884a",
   "metadata": {},
   "source": [
    "Por otro lado voy a empezar a agrupar los datos de las columnas para poder hacer el modelo de correlación más preciso y sencillo"
   ]
  },
  {
   "cell_type": "code",
   "execution_count": 242,
   "id": "cd4cee4e",
   "metadata": {},
   "outputs": [],
   "source": [
    "# Crear la columna \"MesAñoSalida\" que muestra el mes y el año en conjunto\n",
    "data[\"MesAñoSalida\"] = pd.to_datetime(data[\"DateTimeSalida\"]).dt.strftime(\"%b %Y\")\n"
   ]
  },
  {
   "cell_type": "code",
   "execution_count": 81,
   "id": "cf44802e",
   "metadata": {},
   "outputs": [
    {
     "data": {
      "text/html": [
       "<div>\n",
       "<style scoped>\n",
       "    .dataframe tbody tr th:only-of-type {\n",
       "        vertical-align: middle;\n",
       "    }\n",
       "\n",
       "    .dataframe tbody tr th {\n",
       "        vertical-align: top;\n",
       "    }\n",
       "\n",
       "    .dataframe thead th {\n",
       "        text-align: right;\n",
       "    }\n",
       "</style>\n",
       "<table border=\"1\" class=\"dataframe\">\n",
       "  <thead>\n",
       "    <tr style=\"text-align: right;\">\n",
       "      <th></th>\n",
       "      <th>Animal ID</th>\n",
       "      <th>NombreAcogida</th>\n",
       "      <th>DateTimeAcogida</th>\n",
       "      <th>MesAcogida</th>\n",
       "      <th>LugarAcogida</th>\n",
       "      <th>ManeraAcogida</th>\n",
       "      <th>CondicionAcogida</th>\n",
       "      <th>TipoAnimal</th>\n",
       "      <th>SexoAnimal</th>\n",
       "      <th>Edad</th>\n",
       "      <th>...</th>\n",
       "      <th>DuracionAcogida</th>\n",
       "      <th>EdadAgrupada</th>\n",
       "      <th>EdadSAgrupada</th>\n",
       "      <th>Dias</th>\n",
       "      <th>Hora_Exacta</th>\n",
       "      <th>TiempoAgrupado</th>\n",
       "      <th>TieneNombre</th>\n",
       "      <th>Adoptado</th>\n",
       "      <th>ColorPrimario</th>\n",
       "      <th>MesAñoSalida</th>\n",
       "    </tr>\n",
       "  </thead>\n",
       "  <tbody>\n",
       "    <tr>\n",
       "      <th>0</th>\n",
       "      <td>A725713</td>\n",
       "      <td>*Luxor</td>\n",
       "      <td>2016-05-02</td>\n",
       "      <td>05/02/2016 11:43</td>\n",
       "      <td>100 Block Of East Murray in Manor (TX)</td>\n",
       "      <td>Stray</td>\n",
       "      <td>Normal</td>\n",
       "      <td>Dog</td>\n",
       "      <td>Intact Male</td>\n",
       "      <td>730</td>\n",
       "      <td>...</td>\n",
       "      <td>4 days 12:17:00</td>\n",
       "      <td>1 - 4</td>\n",
       "      <td>1 - 4</td>\n",
       "      <td>4</td>\n",
       "      <td>12</td>\n",
       "      <td>Poco</td>\n",
       "      <td>nombre</td>\n",
       "      <td>adoptado</td>\n",
       "      <td>Black</td>\n",
       "      <td>May 2016</td>\n",
       "    </tr>\n",
       "    <tr>\n",
       "      <th>1</th>\n",
       "      <td>A701465</td>\n",
       "      <td>noname</td>\n",
       "      <td>2015-04-29</td>\n",
       "      <td>04/29/2015 10:18:00 PM</td>\n",
       "      <td>100 E Hoopes Ave in Travis (TX)</td>\n",
       "      <td>Wildlife</td>\n",
       "      <td>Normal</td>\n",
       "      <td>Other</td>\n",
       "      <td>Unknown</td>\n",
       "      <td>150</td>\n",
       "      <td>...</td>\n",
       "      <td>32 days 15:13:00</td>\n",
       "      <td>1 - 4</td>\n",
       "      <td>1 - 4</td>\n",
       "      <td>32</td>\n",
       "      <td>15</td>\n",
       "      <td>Poco</td>\n",
       "      <td>nonombre</td>\n",
       "      <td>noadoptado</td>\n",
       "      <td>Brown</td>\n",
       "      <td>Jun 2015</td>\n",
       "    </tr>\n",
       "    <tr>\n",
       "      <th>2</th>\n",
       "      <td>A690177</td>\n",
       "      <td>noname</td>\n",
       "      <td>2014-10-15</td>\n",
       "      <td>10/15/2014 04:46:00 PM</td>\n",
       "      <td>100 E10Th in Austin (TX)</td>\n",
       "      <td>Wildlife</td>\n",
       "      <td>Normal</td>\n",
       "      <td>Other</td>\n",
       "      <td>Unknown</td>\n",
       "      <td>90</td>\n",
       "      <td>...</td>\n",
       "      <td>0 days 15:18:00</td>\n",
       "      <td>1 - 4</td>\n",
       "      <td>1 - 4</td>\n",
       "      <td>0</td>\n",
       "      <td>15</td>\n",
       "      <td>Poco</td>\n",
       "      <td>nonombre</td>\n",
       "      <td>noadoptado</td>\n",
       "      <td>Brown</td>\n",
       "      <td>Oct 2014</td>\n",
       "    </tr>\n",
       "    <tr>\n",
       "      <th>3</th>\n",
       "      <td>A668614</td>\n",
       "      <td>noname</td>\n",
       "      <td>2013-12-05</td>\n",
       "      <td>12/05/2013 23:22</td>\n",
       "      <td>Martin Luther King Jr in Austin (TX)</td>\n",
       "      <td>Stray</td>\n",
       "      <td>Injured</td>\n",
       "      <td>Dog</td>\n",
       "      <td>Intact Female</td>\n",
       "      <td>2190</td>\n",
       "      <td>...</td>\n",
       "      <td>3 days 15:40:00</td>\n",
       "      <td>4 - 8</td>\n",
       "      <td>4 - 8</td>\n",
       "      <td>3</td>\n",
       "      <td>15</td>\n",
       "      <td>Poco</td>\n",
       "      <td>nonombre</td>\n",
       "      <td>noadoptado</td>\n",
       "      <td>Brown</td>\n",
       "      <td>Dec 2013</td>\n",
       "    </tr>\n",
       "    <tr>\n",
       "      <th>4</th>\n",
       "      <td>A674484</td>\n",
       "      <td>*Beans</td>\n",
       "      <td>2014-03-13</td>\n",
       "      <td>03/13/2014 05:37:00 PM</td>\n",
       "      <td>100 Water Rd in Webberville (TX)</td>\n",
       "      <td>Stray</td>\n",
       "      <td>Normal</td>\n",
       "      <td>Dog</td>\n",
       "      <td>Intact Male</td>\n",
       "      <td>730</td>\n",
       "      <td>...</td>\n",
       "      <td>36 days 22:33:00</td>\n",
       "      <td>1 - 4</td>\n",
       "      <td>1 - 4</td>\n",
       "      <td>36</td>\n",
       "      <td>22</td>\n",
       "      <td>Poco</td>\n",
       "      <td>nombre</td>\n",
       "      <td>adoptado</td>\n",
       "      <td>Black</td>\n",
       "      <td>Apr 2014</td>\n",
       "    </tr>\n",
       "  </tbody>\n",
       "</table>\n",
       "<p>5 rows × 35 columns</p>\n",
       "</div>"
      ],
      "text/plain": [
       "  Animal ID NombreAcogida DateTimeAcogida              MesAcogida  \\\n",
       "0   A725713        *Luxor      2016-05-02        05/02/2016 11:43   \n",
       "1   A701465        noname      2015-04-29  04/29/2015 10:18:00 PM   \n",
       "2   A690177        noname      2014-10-15  10/15/2014 04:46:00 PM   \n",
       "3   A668614        noname      2013-12-05        12/05/2013 23:22   \n",
       "4   A674484        *Beans      2014-03-13  03/13/2014 05:37:00 PM   \n",
       "\n",
       "                             LugarAcogida ManeraAcogida CondicionAcogida  \\\n",
       "0  100 Block Of East Murray in Manor (TX)         Stray           Normal   \n",
       "1         100 E Hoopes Ave in Travis (TX)      Wildlife           Normal   \n",
       "2                100 E10Th in Austin (TX)      Wildlife           Normal   \n",
       "3    Martin Luther King Jr in Austin (TX)         Stray          Injured   \n",
       "4        100 Water Rd in Webberville (TX)         Stray           Normal   \n",
       "\n",
       "  TipoAnimal     SexoAnimal  Edad  ...  DuracionAcogida EdadAgrupada  \\\n",
       "0        Dog    Intact Male   730  ...  4 days 12:17:00        1 - 4   \n",
       "1      Other        Unknown   150  ... 32 days 15:13:00        1 - 4   \n",
       "2      Other        Unknown    90  ...  0 days 15:18:00        1 - 4   \n",
       "3        Dog  Intact Female  2190  ...  3 days 15:40:00        4 - 8   \n",
       "4        Dog    Intact Male   730  ... 36 days 22:33:00        1 - 4   \n",
       "\n",
       "  EdadSAgrupada Dias Hora_Exacta TiempoAgrupado TieneNombre    Adoptado  \\\n",
       "0         1 - 4    4          12           Poco      nombre    adoptado   \n",
       "1         1 - 4   32          15           Poco    nonombre  noadoptado   \n",
       "2         1 - 4    0          15           Poco    nonombre  noadoptado   \n",
       "3         4 - 8    3          15           Poco    nonombre  noadoptado   \n",
       "4         1 - 4   36          22           Poco      nombre    adoptado   \n",
       "\n",
       "  ColorPrimario MesAñoSalida  \n",
       "0         Black     May 2016  \n",
       "1         Brown     Jun 2015  \n",
       "2         Brown     Oct 2014  \n",
       "3         Brown     Dec 2013  \n",
       "4         Black     Apr 2014  \n",
       "\n",
       "[5 rows x 35 columns]"
      ]
     },
     "execution_count": 81,
     "metadata": {},
     "output_type": "execute_result"
    }
   ],
   "source": [
    "data.head()"
   ]
  },
  {
   "cell_type": "markdown",
   "id": "e65aa2dc",
   "metadata": {},
   "source": [
    "### **Correlación entre variables**\n",
    "- Para empezar a correlacionar las columnas vamos a tener que dejar claro cual de ellas vamos a escoger, y el porqué, es de este modo que teniendo en total 34 columnas vamos a escoger **TieneNombre, DateTimeAcogida(Por años), ManeraAcogida, CondiciónAcogida, TipoAnimal, Edad, Color, DateTimeSalida, MesAñoSalida,Adoptado, SexoSalida, EdadSalida, RazaGeneral, Dias**"
   ]
  },
  {
   "cell_type": "code",
   "execution_count": 82,
   "id": "cb9179d2",
   "metadata": {},
   "outputs": [],
   "source": [
    "import matplotlib.pyplot as plt\n",
    "import seaborn as sns\n",
    "%matplotlib inline"
   ]
  },
  {
   "cell_type": "code",
   "execution_count": 243,
   "id": "850ce6a8",
   "metadata": {},
   "outputs": [
    {
     "data": {
      "text/html": [
       "<div>\n",
       "<style scoped>\n",
       "    .dataframe tbody tr th:only-of-type {\n",
       "        vertical-align: middle;\n",
       "    }\n",
       "\n",
       "    .dataframe tbody tr th {\n",
       "        vertical-align: top;\n",
       "    }\n",
       "\n",
       "    .dataframe thead th {\n",
       "        text-align: right;\n",
       "    }\n",
       "</style>\n",
       "<table border=\"1\" class=\"dataframe\">\n",
       "  <thead>\n",
       "    <tr style=\"text-align: right;\">\n",
       "      <th></th>\n",
       "      <th>Edad</th>\n",
       "      <th>Dias</th>\n",
       "    </tr>\n",
       "  </thead>\n",
       "  <tbody>\n",
       "    <tr>\n",
       "      <th>Edad</th>\n",
       "      <td>1.000000</td>\n",
       "      <td>0.101156</td>\n",
       "    </tr>\n",
       "    <tr>\n",
       "      <th>Dias</th>\n",
       "      <td>0.101156</td>\n",
       "      <td>1.000000</td>\n",
       "    </tr>\n",
       "  </tbody>\n",
       "</table>\n",
       "</div>"
      ],
      "text/plain": [
       "          Edad      Dias\n",
       "Edad  1.000000  0.101156\n",
       "Dias  0.101156  1.000000"
      ]
     },
     "execution_count": 243,
     "metadata": {},
     "output_type": "execute_result"
    }
   ],
   "source": [
    "data [['Edad' , 'Dias']].corr()"
   ]
  },
  {
   "cell_type": "code",
   "execution_count": 84,
   "id": "c63b80e9",
   "metadata": {},
   "outputs": [
    {
     "data": {
      "text/plain": [
       "(0.0, 1329.3)"
      ]
     },
     "execution_count": 84,
     "metadata": {},
     "output_type": "execute_result"
    },
    {
     "data": {
      "image/png": "[encoded data removed]",
      "text/plain": [
       "<Figure size 640x480 with 1 Axes>"
      ]
     },
     "metadata": {},
     "output_type": "display_data"
    }
   ],
   "source": [
    "sns.regplot(x = 'Edad' , y = 'Dias', data = data)\n",
    "plt.ylim(0,)"
   ]
  },
  {
   "cell_type": "markdown",
   "id": "3105e1a0",
   "metadata": {},
   "source": [
    "Un valor de correlación de 0.101156 es cercano a 0, lo que significa que la relación lineal entre la edad de los animales y la cantidad de días que se quedan en el refugio es débil.\n",
    "El valor positivo (0.101156) indica que existe una leve tendencia a que los animales más viejos se queden más días en el refugio. Sin embargo, esta tendencia es débil y no significa que haya una relación causal directa entre la edad y el tiempo de permanencia.\n",
    "\n",
    "Es importante tener en cuenta que la correlación no implica causalidad. Solo porque dos variables estén correlacionadas no significa que una cause la otra. En este caso, es posible que haya otros factores que influyan en la cantidad de días que un animal se queda en el refugio, como la raza, la condición de salud, el comportamiento, o la disponibilidad de hogares adoptivos."
   ]
  },
  {
   "cell_type": "code",
   "execution_count": 85,
   "id": "9fff9b72",
   "metadata": {},
   "outputs": [
    {
     "data": {
      "text/plain": [
       "<Axes: xlabel='Adoptado', ylabel='Edad'>"
      ]
     },
     "execution_count": 85,
     "metadata": {},
     "output_type": "execute_result"
    },
    {
     "data": {
      "image/png": "[encoded data removed]",
      "text/plain": [
       "<Figure size 640x480 with 1 Axes>"
      ]
     },
     "metadata": {},
     "output_type": "display_data"
    }
   ],
   "source": [
    "sns.boxplot (x = 'Adoptado', y = 'Edad', data = data)"
   ]
  },
  {
   "cell_type": "code",
   "execution_count": 244,
   "id": "480e4c04",
   "metadata": {},
   "outputs": [
    {
     "name": "stdout",
     "output_type": "stream",
     "text": [
      "Chi-cuadrado:  3845.0875215044316\n"
     ]
    },
    {
     "data": {
      "text/html": [
       "<div>\n",
       "<style scoped>\n",
       "    .dataframe tbody tr th:only-of-type {\n",
       "        vertical-align: middle;\n",
       "    }\n",
       "\n",
       "    .dataframe tbody tr th {\n",
       "        vertical-align: top;\n",
       "    }\n",
       "\n",
       "    .dataframe thead th {\n",
       "        text-align: right;\n",
       "    }\n",
       "</style>\n",
       "<table border=\"1\" class=\"dataframe\">\n",
       "  <thead>\n",
       "    <tr style=\"text-align: right;\">\n",
       "      <th>Adoptado</th>\n",
       "      <th>adoptado</th>\n",
       "      <th>noadoptado</th>\n",
       "    </tr>\n",
       "    <tr>\n",
       "      <th>Edad</th>\n",
       "      <th></th>\n",
       "      <th></th>\n",
       "    </tr>\n",
       "  </thead>\n",
       "  <tbody>\n",
       "    <tr>\n",
       "      <th>0</th>\n",
       "      <td>106</td>\n",
       "      <td>162</td>\n",
       "    </tr>\n",
       "    <tr>\n",
       "      <th>1</th>\n",
       "      <td>68</td>\n",
       "      <td>123</td>\n",
       "    </tr>\n",
       "    <tr>\n",
       "      <th>2</th>\n",
       "      <td>40</td>\n",
       "      <td>136</td>\n",
       "    </tr>\n",
       "    <tr>\n",
       "      <th>3</th>\n",
       "      <td>19</td>\n",
       "      <td>174</td>\n",
       "    </tr>\n",
       "    <tr>\n",
       "      <th>4</th>\n",
       "      <td>45</td>\n",
       "      <td>66</td>\n",
       "    </tr>\n",
       "    <tr>\n",
       "      <th>5</th>\n",
       "      <td>12</td>\n",
       "      <td>61</td>\n",
       "    </tr>\n",
       "    <tr>\n",
       "      <th>6</th>\n",
       "      <td>19</td>\n",
       "      <td>73</td>\n",
       "    </tr>\n",
       "    <tr>\n",
       "      <th>7</th>\n",
       "      <td>141</td>\n",
       "      <td>552</td>\n",
       "    </tr>\n",
       "    <tr>\n",
       "      <th>14</th>\n",
       "      <td>152</td>\n",
       "      <td>754</td>\n",
       "    </tr>\n",
       "    <tr>\n",
       "      <th>21</th>\n",
       "      <td>365</td>\n",
       "      <td>958</td>\n",
       "    </tr>\n",
       "    <tr>\n",
       "      <th>28</th>\n",
       "      <td>810</td>\n",
       "      <td>881</td>\n",
       "    </tr>\n",
       "    <tr>\n",
       "      <th>30</th>\n",
       "      <td>2986</td>\n",
       "      <td>1551</td>\n",
       "    </tr>\n",
       "    <tr>\n",
       "      <th>35</th>\n",
       "      <td>56</td>\n",
       "      <td>38</td>\n",
       "    </tr>\n",
       "    <tr>\n",
       "      <th>60</th>\n",
       "      <td>1903</td>\n",
       "      <td>760</td>\n",
       "    </tr>\n",
       "    <tr>\n",
       "      <th>90</th>\n",
       "      <td>704</td>\n",
       "      <td>628</td>\n",
       "    </tr>\n",
       "    <tr>\n",
       "      <th>120</th>\n",
       "      <td>868</td>\n",
       "      <td>658</td>\n",
       "    </tr>\n",
       "    <tr>\n",
       "      <th>150</th>\n",
       "      <td>689</td>\n",
       "      <td>746</td>\n",
       "    </tr>\n",
       "    <tr>\n",
       "      <th>180</th>\n",
       "      <td>545</td>\n",
       "      <td>623</td>\n",
       "    </tr>\n",
       "    <tr>\n",
       "      <th>210</th>\n",
       "      <td>460</td>\n",
       "      <td>456</td>\n",
       "    </tr>\n",
       "    <tr>\n",
       "      <th>240</th>\n",
       "      <td>395</td>\n",
       "      <td>313</td>\n",
       "    </tr>\n",
       "    <tr>\n",
       "      <th>270</th>\n",
       "      <td>511</td>\n",
       "      <td>465</td>\n",
       "    </tr>\n",
       "    <tr>\n",
       "      <th>300</th>\n",
       "      <td>353</td>\n",
       "      <td>360</td>\n",
       "    </tr>\n",
       "    <tr>\n",
       "      <th>330</th>\n",
       "      <td>257</td>\n",
       "      <td>257</td>\n",
       "    </tr>\n",
       "    <tr>\n",
       "      <th>365</th>\n",
       "      <td>4943</td>\n",
       "      <td>6756</td>\n",
       "    </tr>\n",
       "    <tr>\n",
       "      <th>730</th>\n",
       "      <td>3497</td>\n",
       "      <td>5714</td>\n",
       "    </tr>\n",
       "    <tr>\n",
       "      <th>1095</th>\n",
       "      <td>1656</td>\n",
       "      <td>2993</td>\n",
       "    </tr>\n",
       "    <tr>\n",
       "      <th>1460</th>\n",
       "      <td>882</td>\n",
       "      <td>1804</td>\n",
       "    </tr>\n",
       "    <tr>\n",
       "      <th>1825</th>\n",
       "      <td>785</td>\n",
       "      <td>1643</td>\n",
       "    </tr>\n",
       "    <tr>\n",
       "      <th>2190</th>\n",
       "      <td>502</td>\n",
       "      <td>1029</td>\n",
       "    </tr>\n",
       "    <tr>\n",
       "      <th>2555</th>\n",
       "      <td>443</td>\n",
       "      <td>861</td>\n",
       "    </tr>\n",
       "    <tr>\n",
       "      <th>2920</th>\n",
       "      <td>397</td>\n",
       "      <td>805</td>\n",
       "    </tr>\n",
       "    <tr>\n",
       "      <th>3285</th>\n",
       "      <td>238</td>\n",
       "      <td>458</td>\n",
       "    </tr>\n",
       "    <tr>\n",
       "      <th>3650</th>\n",
       "      <td>245</td>\n",
       "      <td>572</td>\n",
       "    </tr>\n",
       "    <tr>\n",
       "      <th>4015</th>\n",
       "      <td>90</td>\n",
       "      <td>254</td>\n",
       "    </tr>\n",
       "    <tr>\n",
       "      <th>4380</th>\n",
       "      <td>101</td>\n",
       "      <td>325</td>\n",
       "    </tr>\n",
       "    <tr>\n",
       "      <th>4745</th>\n",
       "      <td>66</td>\n",
       "      <td>193</td>\n",
       "    </tr>\n",
       "    <tr>\n",
       "      <th>5110</th>\n",
       "      <td>27</td>\n",
       "      <td>146</td>\n",
       "    </tr>\n",
       "    <tr>\n",
       "      <th>5475</th>\n",
       "      <td>22</td>\n",
       "      <td>127</td>\n",
       "    </tr>\n",
       "    <tr>\n",
       "      <th>5840</th>\n",
       "      <td>4</td>\n",
       "      <td>56</td>\n",
       "    </tr>\n",
       "    <tr>\n",
       "      <th>6205</th>\n",
       "      <td>5</td>\n",
       "      <td>32</td>\n",
       "    </tr>\n",
       "    <tr>\n",
       "      <th>6570</th>\n",
       "      <td>2</td>\n",
       "      <td>12</td>\n",
       "    </tr>\n",
       "    <tr>\n",
       "      <th>6935</th>\n",
       "      <td>0</td>\n",
       "      <td>5</td>\n",
       "    </tr>\n",
       "    <tr>\n",
       "      <th>7300</th>\n",
       "      <td>0</td>\n",
       "      <td>5</td>\n",
       "    </tr>\n",
       "    <tr>\n",
       "      <th>8030</th>\n",
       "      <td>0</td>\n",
       "      <td>4</td>\n",
       "    </tr>\n",
       "    <tr>\n",
       "      <th>9125</th>\n",
       "      <td>0</td>\n",
       "      <td>1</td>\n",
       "    </tr>\n",
       "  </tbody>\n",
       "</table>\n",
       "</div>"
      ],
      "text/plain": [
       "Adoptado  adoptado  noadoptado\n",
       "Edad                          \n",
       "0              106         162\n",
       "1               68         123\n",
       "2               40         136\n",
       "3               19         174\n",
       "4               45          66\n",
       "5               12          61\n",
       "6               19          73\n",
       "7              141         552\n",
       "14             152         754\n",
       "21             365         958\n",
       "28             810         881\n",
       "30            2986        1551\n",
       "35              56          38\n",
       "60            1903         760\n",
       "90             704         628\n",
       "120            868         658\n",
       "150            689         746\n",
       "180            545         623\n",
       "210            460         456\n",
       "240            395         313\n",
       "270            511         465\n",
       "300            353         360\n",
       "330            257         257\n",
       "365           4943        6756\n",
       "730           3497        5714\n",
       "1095          1656        2993\n",
       "1460           882        1804\n",
       "1825           785        1643\n",
       "2190           502        1029\n",
       "2555           443         861\n",
       "2920           397         805\n",
       "3285           238         458\n",
       "3650           245         572\n",
       "4015            90         254\n",
       "4380           101         325\n",
       "4745            66         193\n",
       "5110            27         146\n",
       "5475            22         127\n",
       "5840             4          56\n",
       "6205             5          32\n",
       "6570             2          12\n",
       "6935             0           5\n",
       "7300             0           5\n",
       "8030             0           4\n",
       "9125             0           1"
      ]
     },
     "execution_count": 244,
     "metadata": {},
     "output_type": "execute_result"
    }
   ],
   "source": [
    "from scipy.stats import chi2_contingency\n",
    "contingencia = pd.crosstab(data[\"Edad\"], data[\"Adoptado\"])\n",
    "chi2, pval, dof, expected = chi2_contingency(contingencia)\n",
    "print('Chi-cuadrado: ', chi2)\n",
    "contingencia\n",
    "#Se calculan los grados de libertad:\n",
    "#(numero filas - 1)*(numero columnas - 1)\n",
    "#(45-1)*(2-1)=44"
   ]
  },
  {
   "cell_type": "code",
   "execution_count": 245,
   "id": "47a9d329",
   "metadata": {},
   "outputs": [
    {
     "data": {
      "text/plain": [
       "<Axes: xlabel='Adoptado', ylabel='EdadSalida'>"
      ]
     },
     "execution_count": 245,
     "metadata": {},
     "output_type": "execute_result"
    },
    {
     "data": {
      "image/png": "[encoded data removed]",
      "text/plain": [
       "<Figure size 640x480 with 1 Axes>"
      ]
     },
     "metadata": {},
     "output_type": "display_data"
    }
   ],
   "source": [
    "sns.boxplot (x = 'Adoptado', y = 'EdadSalida', data = data)"
   ]
  },
  {
   "cell_type": "code",
   "execution_count": 87,
   "id": "e4979131",
   "metadata": {},
   "outputs": [
    {
     "data": {
      "text/plain": [
       "<Axes: xlabel='Adoptado', ylabel='Dias'>"
      ]
     },
     "execution_count": 87,
     "metadata": {},
     "output_type": "execute_result"
    },
    {
     "data": {
      "image/png": "[encoded data removed]",
      "text/plain": [
       "<Figure size 640x480 with 1 Axes>"
      ]
     },
     "metadata": {},
     "output_type": "display_data"
    }
   ],
   "source": [
    "sns.boxplot (x = 'Adoptado', y = 'Dias', data = data)"
   ]
  },
  {
   "cell_type": "markdown",
   "id": "8d4512bd",
   "metadata": {},
   "source": [
    "- Ahora empezaremos a encontrar la correlación entre las variables categóricas, para ello voy a utilizar las tablas de contingencia, el chi-cuadrado y el Valor p de la librería Spicy"
   ]
  },
  {
   "cell_type": "code",
   "execution_count": 246,
   "id": "6e1eaeec",
   "metadata": {},
   "outputs": [],
   "source": [
    "AñosNum = {\n",
    "    \"Jan 2013\": \"201301\",\n",
    "    \"Feb 2013\": \"201302\",\n",
    "    \"Mar 2013\": \"201303\",\n",
    "    \"Apr 2013\": \"201304\",\n",
    "    \"May 2013\": \"201305\",\n",
    "    \"Jun 2013\": \"201306\",\n",
    "    \"Jul 2013\": \"201307\",\n",
    "    \"Aug 2013\": \"201308\",\n",
    "    \"Sep 2013\": \"201309\",\n",
    "    \"Oct 2013\": \"201310\",\n",
    "    \"Nov 2013\": \"201311\",\n",
    "    \"Dec 2013\": \"201312\",\n",
    "    \"Jan 2014\": \"201401\",\n",
    "    \"Feb 2014\": \"201402\",\n",
    "    \"Mar 2014\": \"201403\",\n",
    "    \"Apr 2014\": \"201404\",\n",
    "    \"May 2014\": \"201405\",\n",
    "    \"Jun 2014\": \"201406\",\n",
    "    \"Jul 2014\": \"201407\",\n",
    "    \"Aug 2014\": \"201408\",\n",
    "    \"Sep 2014\": \"201409\",\n",
    "    \"Oct 2014\": \"201410\",\n",
    "    \"Nov 2014\": \"201411\",\n",
    "    \"Dec 2014\": \"201412\",\n",
    "    \"Jan 2015\": \"201501\",\n",
    "    \"Feb 2015\": \"201502\",\n",
    "    \"Mar 2015\": \"201503\",\n",
    "    \"Apr 2015\": \"201504\",\n",
    "    \"May 2015\": \"201505\",\n",
    "    \"Jun 2015\": \"201506\",\n",
    "    \"Jul 2015\": \"201507\",\n",
    "    \"Aug 2015\": \"201508\",\n",
    "    \"Sep 2015\": \"201509\",\n",
    "    \"Oct 2015\": \"201510\",\n",
    "    \"Nov 2015\": \"201511\",\n",
    "    \"Dec 2015\": \"201512\",\n",
    "    \"Jan 2016\": \"201601\",\n",
    "    \"Feb 2016\": \"201602\",\n",
    "    \"Mar 2016\": \"201603\",\n",
    "    \"Apr 2016\": \"201604\",\n",
    "    \"May 2016\": \"201605\",\n",
    "    \"Jun 2016\": \"201606\",\n",
    "    \"Jul 2016\": \"201607\",\n",
    "    \"Aug 2016\": \"201608\",\n",
    "    \"Sep 2016\": \"201609\",\n",
    "    \"Oct 2016\": \"201610\",\n",
    "    \"Nov 2016\": \"201611\",\n",
    "    \"Dec 2016\": \"201612\",\n",
    "    \"Jan 2017\": \"201701\",\n",
    "    \"Feb 2017\": \"201702\",\n",
    "    \"Mar 2017\": \"201703\",\n",
    "    \"Apr 2017\": \"201704\",\n",
    "    \"May 2017\": \"201705\",\n",
    "    \"Jun 2017\": \"201706\",\n",
    "    \"Jul 2017\": \"201707\",\n",
    "    \"Aug 2017\": \"201708\",\n",
    "    \"Sep 2017\": \"201709\",\n",
    "    \"Oct 2017\": \"201710\",\n",
    "    \"Nov 2017\": \"201711\",\n",
    "    \"Dec 2017\": \"201712\"\n",
    "}"
   ]
  },
  {
   "cell_type": "code",
   "execution_count": 247,
   "id": "3915699b",
   "metadata": {},
   "outputs": [
    {
     "data": {
      "text/plain": [
       "0    201605\n",
       "1    201506\n",
       "2    201410\n",
       "3    201312\n",
       "4    201404\n",
       "Name: AñosNum, dtype: object"
      ]
     },
     "execution_count": 247,
     "metadata": {},
     "output_type": "execute_result"
    }
   ],
   "source": [
    "data[\"AñosNum\"] = data[\"MesAñoSalida\"].replace(AñosNum)\n",
    "data['AñosNum'].head()"
   ]
  },
  {
   "cell_type": "code",
   "execution_count": 88,
   "id": "f0e3fe94",
   "metadata": {},
   "outputs": [
    {
     "data": {
      "text/html": [
       "<div>\n",
       "<style scoped>\n",
       "    .dataframe tbody tr th:only-of-type {\n",
       "        vertical-align: middle;\n",
       "    }\n",
       "\n",
       "    .dataframe tbody tr th {\n",
       "        vertical-align: top;\n",
       "    }\n",
       "\n",
       "    .dataframe thead th {\n",
       "        text-align: right;\n",
       "    }\n",
       "</style>\n",
       "<table border=\"1\" class=\"dataframe\">\n",
       "  <thead>\n",
       "    <tr style=\"text-align: right;\">\n",
       "      <th></th>\n",
       "      <th>Animal ID</th>\n",
       "      <th>NombreAcogida</th>\n",
       "      <th>DateTimeAcogida</th>\n",
       "      <th>MesAcogida</th>\n",
       "      <th>LugarAcogida</th>\n",
       "      <th>ManeraAcogida</th>\n",
       "      <th>CondicionAcogida</th>\n",
       "      <th>TipoAnimal</th>\n",
       "      <th>SexoAnimal</th>\n",
       "      <th>Edad</th>\n",
       "      <th>...</th>\n",
       "      <th>DuracionAcogida</th>\n",
       "      <th>EdadAgrupada</th>\n",
       "      <th>EdadSAgrupada</th>\n",
       "      <th>Dias</th>\n",
       "      <th>Hora_Exacta</th>\n",
       "      <th>TiempoAgrupado</th>\n",
       "      <th>TieneNombre</th>\n",
       "      <th>Adoptado</th>\n",
       "      <th>ColorPrimario</th>\n",
       "      <th>MesAñoSalida</th>\n",
       "    </tr>\n",
       "  </thead>\n",
       "  <tbody>\n",
       "    <tr>\n",
       "      <th>3</th>\n",
       "      <td>A668614</td>\n",
       "      <td>noname</td>\n",
       "      <td>2013-12-05</td>\n",
       "      <td>12/05/2013 23:22</td>\n",
       "      <td>Martin Luther King Jr in Austin (TX)</td>\n",
       "      <td>Stray</td>\n",
       "      <td>Injured</td>\n",
       "      <td>Dog</td>\n",
       "      <td>Intact Female</td>\n",
       "      <td>2190</td>\n",
       "      <td>...</td>\n",
       "      <td>3 days 15:40:00</td>\n",
       "      <td>4 - 8</td>\n",
       "      <td>4 - 8</td>\n",
       "      <td>3</td>\n",
       "      <td>15</td>\n",
       "      <td>Poco</td>\n",
       "      <td>nonombre</td>\n",
       "      <td>noadoptado</td>\n",
       "      <td>Brown</td>\n",
       "      <td>Dec 2013</td>\n",
       "    </tr>\n",
       "    <tr>\n",
       "      <th>32</th>\n",
       "      <td>A668522</td>\n",
       "      <td>Taquita</td>\n",
       "      <td>2013-12-04</td>\n",
       "      <td>12/04/2013 20:40</td>\n",
       "      <td>1000 E. 41St St. in Austin (TX)</td>\n",
       "      <td>Public Assist</td>\n",
       "      <td>Normal</td>\n",
       "      <td>Dog</td>\n",
       "      <td>Intact Female</td>\n",
       "      <td>2190</td>\n",
       "      <td>...</td>\n",
       "      <td>9 days 22:21:00</td>\n",
       "      <td>4 - 8</td>\n",
       "      <td>4 - 8</td>\n",
       "      <td>9</td>\n",
       "      <td>22</td>\n",
       "      <td>Poco</td>\n",
       "      <td>nombre</td>\n",
       "      <td>noadoptado</td>\n",
       "      <td>Red</td>\n",
       "      <td>Dec 2013</td>\n",
       "    </tr>\n",
       "    <tr>\n",
       "      <th>35</th>\n",
       "      <td>A668523</td>\n",
       "      <td>Chique</td>\n",
       "      <td>2013-12-04</td>\n",
       "      <td>12/04/2013 20:40</td>\n",
       "      <td>1000 E. 41St St. in Austin (TX)</td>\n",
       "      <td>Public Assist</td>\n",
       "      <td>Normal</td>\n",
       "      <td>Dog</td>\n",
       "      <td>Intact Female</td>\n",
       "      <td>1460</td>\n",
       "      <td>...</td>\n",
       "      <td>9 days 22:19:00</td>\n",
       "      <td>1 - 4</td>\n",
       "      <td>1 - 4</td>\n",
       "      <td>9</td>\n",
       "      <td>22</td>\n",
       "      <td>Poco</td>\n",
       "      <td>nombre</td>\n",
       "      <td>noadoptado</td>\n",
       "      <td>Tan</td>\n",
       "      <td>Dec 2013</td>\n",
       "    </tr>\n",
       "    <tr>\n",
       "      <th>53</th>\n",
       "      <td>A668218</td>\n",
       "      <td>noname</td>\n",
       "      <td>2013-11-30</td>\n",
       "      <td>11/30/2013 12:36:00 PM</td>\n",
       "      <td>1006 E 7Th St in Austin (TX)</td>\n",
       "      <td>Stray</td>\n",
       "      <td>Normal</td>\n",
       "      <td>Cat</td>\n",
       "      <td>Intact Female</td>\n",
       "      <td>30</td>\n",
       "      <td>...</td>\n",
       "      <td>9 days 01:58:00</td>\n",
       "      <td>1 - 4</td>\n",
       "      <td>1 - 4</td>\n",
       "      <td>9</td>\n",
       "      <td>1</td>\n",
       "      <td>Poco</td>\n",
       "      <td>nonombre</td>\n",
       "      <td>adoptado</td>\n",
       "      <td>Black</td>\n",
       "      <td>Dec 2013</td>\n",
       "    </tr>\n",
       "    <tr>\n",
       "      <th>54</th>\n",
       "      <td>A668217</td>\n",
       "      <td>noname</td>\n",
       "      <td>2013-11-30</td>\n",
       "      <td>11/30/2013 12:36:00 PM</td>\n",
       "      <td>1006 E 7Th St in Austin (TX)</td>\n",
       "      <td>Stray</td>\n",
       "      <td>Normal</td>\n",
       "      <td>Cat</td>\n",
       "      <td>Intact Female</td>\n",
       "      <td>30</td>\n",
       "      <td>...</td>\n",
       "      <td>4 days 06:11:00</td>\n",
       "      <td>1 - 4</td>\n",
       "      <td>1 - 4</td>\n",
       "      <td>4</td>\n",
       "      <td>6</td>\n",
       "      <td>Poco</td>\n",
       "      <td>nonombre</td>\n",
       "      <td>adoptado</td>\n",
       "      <td>Blue</td>\n",
       "      <td>Dec 2013</td>\n",
       "    </tr>\n",
       "  </tbody>\n",
       "</table>\n",
       "<p>5 rows × 35 columns</p>\n",
       "</div>"
      ],
      "text/plain": [
       "   Animal ID NombreAcogida DateTimeAcogida              MesAcogida  \\\n",
       "3    A668614        noname      2013-12-05        12/05/2013 23:22   \n",
       "32   A668522       Taquita      2013-12-04        12/04/2013 20:40   \n",
       "35   A668523        Chique      2013-12-04        12/04/2013 20:40   \n",
       "53   A668218        noname      2013-11-30  11/30/2013 12:36:00 PM   \n",
       "54   A668217        noname      2013-11-30  11/30/2013 12:36:00 PM   \n",
       "\n",
       "                            LugarAcogida  ManeraAcogida CondicionAcogida  \\\n",
       "3   Martin Luther King Jr in Austin (TX)          Stray          Injured   \n",
       "32       1000 E. 41St St. in Austin (TX)  Public Assist           Normal   \n",
       "35       1000 E. 41St St. in Austin (TX)  Public Assist           Normal   \n",
       "53          1006 E 7Th St in Austin (TX)          Stray           Normal   \n",
       "54          1006 E 7Th St in Austin (TX)          Stray           Normal   \n",
       "\n",
       "   TipoAnimal     SexoAnimal  Edad  ... DuracionAcogida EdadAgrupada  \\\n",
       "3         Dog  Intact Female  2190  ... 3 days 15:40:00        4 - 8   \n",
       "32        Dog  Intact Female  2190  ... 9 days 22:21:00        4 - 8   \n",
       "35        Dog  Intact Female  1460  ... 9 days 22:19:00        1 - 4   \n",
       "53        Cat  Intact Female    30  ... 9 days 01:58:00        1 - 4   \n",
       "54        Cat  Intact Female    30  ... 4 days 06:11:00        1 - 4   \n",
       "\n",
       "   EdadSAgrupada Dias Hora_Exacta TiempoAgrupado TieneNombre    Adoptado  \\\n",
       "3          4 - 8    3          15           Poco    nonombre  noadoptado   \n",
       "32         4 - 8    9          22           Poco      nombre  noadoptado   \n",
       "35         1 - 4    9          22           Poco      nombre  noadoptado   \n",
       "53         1 - 4    9           1           Poco    nonombre    adoptado   \n",
       "54         1 - 4    4           6           Poco    nonombre    adoptado   \n",
       "\n",
       "   ColorPrimario MesAñoSalida  \n",
       "3          Brown     Dec 2013  \n",
       "32           Red     Dec 2013  \n",
       "35           Tan     Dec 2013  \n",
       "53         Black     Dec 2013  \n",
       "54          Blue     Dec 2013  \n",
       "\n",
       "[5 rows x 35 columns]"
      ]
     },
     "execution_count": 88,
     "metadata": {},
     "output_type": "execute_result"
    }
   ],
   "source": [
    "df2013 = data[data[\"MesAñoSalida\"].str.contains(\"2013\")]\n",
    "df2013.head()"
   ]
  },
  {
   "cell_type": "code",
   "execution_count": 248,
   "id": "61380614",
   "metadata": {},
   "outputs": [
    {
     "name": "stdout",
     "output_type": "stream",
     "text": [
      "Chi-cuadrado:  45.54633771253508\n"
     ]
    },
    {
     "data": {
      "text/html": [
       "<div>\n",
       "<style scoped>\n",
       "    .dataframe tbody tr th:only-of-type {\n",
       "        vertical-align: middle;\n",
       "    }\n",
       "\n",
       "    .dataframe tbody tr th {\n",
       "        vertical-align: top;\n",
       "    }\n",
       "\n",
       "    .dataframe thead th {\n",
       "        text-align: right;\n",
       "    }\n",
       "</style>\n",
       "<table border=\"1\" class=\"dataframe\">\n",
       "  <thead>\n",
       "    <tr style=\"text-align: right;\">\n",
       "      <th>MesAñoSalida</th>\n",
       "      <th>Dec 2013</th>\n",
       "      <th>Nov 2013</th>\n",
       "      <th>Oct 2013</th>\n",
       "    </tr>\n",
       "    <tr>\n",
       "      <th>Adoptado</th>\n",
       "      <th></th>\n",
       "      <th></th>\n",
       "      <th></th>\n",
       "    </tr>\n",
       "  </thead>\n",
       "  <tbody>\n",
       "    <tr>\n",
       "      <th>adoptado</th>\n",
       "      <td>559</td>\n",
       "      <td>426</td>\n",
       "      <td>284</td>\n",
       "    </tr>\n",
       "    <tr>\n",
       "      <th>noadoptado</th>\n",
       "      <td>710</td>\n",
       "      <td>701</td>\n",
       "      <td>663</td>\n",
       "    </tr>\n",
       "  </tbody>\n",
       "</table>\n",
       "</div>"
      ],
      "text/plain": [
       "MesAñoSalida  Dec 2013  Nov 2013  Oct 2013\n",
       "Adoptado                                  \n",
       "adoptado           559       426       284\n",
       "noadoptado         710       701       663"
      ]
     },
     "execution_count": 248,
     "metadata": {},
     "output_type": "execute_result"
    }
   ],
   "source": [
    "contingencia = pd.crosstab(df2013[\"Adoptado\"], df2013[\"MesAñoSalida\"])\n",
    "chi2, pval, dof, expected = chi2_contingency(contingencia)\n",
    "print('Chi-cuadrado: ', chi2)\n",
    "contingencia"
   ]
  },
  {
   "cell_type": "code",
   "execution_count": 249,
   "id": "f10898ef",
   "metadata": {},
   "outputs": [
    {
     "data": {
      "text/html": [
       "<div>\n",
       "<style scoped>\n",
       "    .dataframe tbody tr th:only-of-type {\n",
       "        vertical-align: middle;\n",
       "    }\n",
       "\n",
       "    .dataframe tbody tr th {\n",
       "        vertical-align: top;\n",
       "    }\n",
       "\n",
       "    .dataframe thead th {\n",
       "        text-align: right;\n",
       "    }\n",
       "</style>\n",
       "<table border=\"1\" class=\"dataframe\">\n",
       "  <thead>\n",
       "    <tr style=\"text-align: right;\">\n",
       "      <th></th>\n",
       "      <th>Animal ID</th>\n",
       "      <th>NombreAcogida</th>\n",
       "      <th>DateTimeAcogida</th>\n",
       "      <th>MesAcogida</th>\n",
       "      <th>LugarAcogida</th>\n",
       "      <th>ManeraAcogida</th>\n",
       "      <th>CondicionAcogida</th>\n",
       "      <th>TipoAnimal</th>\n",
       "      <th>SexoAnimal</th>\n",
       "      <th>Edad</th>\n",
       "      <th>...</th>\n",
       "      <th>DuracionAcogida</th>\n",
       "      <th>EdadAgrupada</th>\n",
       "      <th>EdadSAgrupada</th>\n",
       "      <th>Dias</th>\n",
       "      <th>Hora_Exacta</th>\n",
       "      <th>TiempoAgrupado</th>\n",
       "      <th>TieneNombre</th>\n",
       "      <th>Adoptado</th>\n",
       "      <th>MesAñoSalida</th>\n",
       "      <th>AñosNum</th>\n",
       "    </tr>\n",
       "  </thead>\n",
       "  <tbody>\n",
       "    <tr>\n",
       "      <th>2</th>\n",
       "      <td>A690177</td>\n",
       "      <td>noname</td>\n",
       "      <td>2014-10-15</td>\n",
       "      <td>10/15/2014 04:46:00 PM</td>\n",
       "      <td>100 E10Th in Austin (TX)</td>\n",
       "      <td>Wildlife</td>\n",
       "      <td>Normal</td>\n",
       "      <td>Other</td>\n",
       "      <td>Unknown</td>\n",
       "      <td>90</td>\n",
       "      <td>...</td>\n",
       "      <td>0 days 15:18:00</td>\n",
       "      <td>1 - 4</td>\n",
       "      <td>1 - 4</td>\n",
       "      <td>0</td>\n",
       "      <td>15</td>\n",
       "      <td>Poco</td>\n",
       "      <td>nonombre</td>\n",
       "      <td>noadoptado</td>\n",
       "      <td>Oct 2014</td>\n",
       "      <td>201410</td>\n",
       "    </tr>\n",
       "    <tr>\n",
       "      <th>4</th>\n",
       "      <td>A674484</td>\n",
       "      <td>*Beans</td>\n",
       "      <td>2014-03-13</td>\n",
       "      <td>03/13/2014 05:37:00 PM</td>\n",
       "      <td>100 Water Rd in Webberville (TX)</td>\n",
       "      <td>Stray</td>\n",
       "      <td>Normal</td>\n",
       "      <td>Dog</td>\n",
       "      <td>Intact Male</td>\n",
       "      <td>730</td>\n",
       "      <td>...</td>\n",
       "      <td>36 days 22:33:00</td>\n",
       "      <td>1 - 4</td>\n",
       "      <td>1 - 4</td>\n",
       "      <td>36</td>\n",
       "      <td>22</td>\n",
       "      <td>Poco</td>\n",
       "      <td>nombre</td>\n",
       "      <td>adoptado</td>\n",
       "      <td>Apr 2014</td>\n",
       "      <td>201404</td>\n",
       "    </tr>\n",
       "    <tr>\n",
       "      <th>5</th>\n",
       "      <td>A690430</td>\n",
       "      <td>Mia</td>\n",
       "      <td>2014-10-20</td>\n",
       "      <td>10/20/2014 03:58:00 PM</td>\n",
       "      <td>100 Wonsley Dr E in Austin (TX)</td>\n",
       "      <td>Stray</td>\n",
       "      <td>Normal</td>\n",
       "      <td>Dog</td>\n",
       "      <td>Intact Female</td>\n",
       "      <td>730</td>\n",
       "      <td>...</td>\n",
       "      <td>4 days 22:01:00</td>\n",
       "      <td>1 - 4</td>\n",
       "      <td>1 - 4</td>\n",
       "      <td>4</td>\n",
       "      <td>22</td>\n",
       "      <td>Poco</td>\n",
       "      <td>nombre</td>\n",
       "      <td>adoptado</td>\n",
       "      <td>Oct 2014</td>\n",
       "      <td>201410</td>\n",
       "    </tr>\n",
       "    <tr>\n",
       "      <th>7</th>\n",
       "      <td>A593537</td>\n",
       "      <td>Chacha</td>\n",
       "      <td>2015-03-01</td>\n",
       "      <td>03/01/2015 10:41</td>\n",
       "      <td>1000 Blk Lott Ave in Austin (TX)</td>\n",
       "      <td>Stray</td>\n",
       "      <td>Normal</td>\n",
       "      <td>Dog</td>\n",
       "      <td>Spayed Female</td>\n",
       "      <td>2190</td>\n",
       "      <td>...</td>\n",
       "      <td>290 days 01:31:00</td>\n",
       "      <td>4 - 8</td>\n",
       "      <td>4 - 8</td>\n",
       "      <td>290</td>\n",
       "      <td>1</td>\n",
       "      <td>Poco</td>\n",
       "      <td>nombre</td>\n",
       "      <td>noadoptado</td>\n",
       "      <td>May 2014</td>\n",
       "      <td>201405</td>\n",
       "    </tr>\n",
       "    <tr>\n",
       "      <th>8</th>\n",
       "      <td>A593537</td>\n",
       "      <td>Chacha</td>\n",
       "      <td>2015-03-01</td>\n",
       "      <td>03/01/2015 10:41</td>\n",
       "      <td>1000 Blk Lott Ave in Austin (TX)</td>\n",
       "      <td>Stray</td>\n",
       "      <td>Normal</td>\n",
       "      <td>Dog</td>\n",
       "      <td>Spayed Female</td>\n",
       "      <td>2190</td>\n",
       "      <td>...</td>\n",
       "      <td>168 days 07:24:00</td>\n",
       "      <td>4 - 8</td>\n",
       "      <td>4 - 8</td>\n",
       "      <td>168</td>\n",
       "      <td>7</td>\n",
       "      <td>Poco</td>\n",
       "      <td>nombre</td>\n",
       "      <td>adoptado</td>\n",
       "      <td>Sep 2014</td>\n",
       "      <td>201409</td>\n",
       "    </tr>\n",
       "  </tbody>\n",
       "</table>\n",
       "<p>5 rows × 35 columns</p>\n",
       "</div>"
      ],
      "text/plain": [
       "  Animal ID NombreAcogida DateTimeAcogida              MesAcogida  \\\n",
       "2   A690177        noname      2014-10-15  10/15/2014 04:46:00 PM   \n",
       "4   A674484        *Beans      2014-03-13  03/13/2014 05:37:00 PM   \n",
       "5   A690430           Mia      2014-10-20  10/20/2014 03:58:00 PM   \n",
       "7   A593537        Chacha      2015-03-01        03/01/2015 10:41   \n",
       "8   A593537        Chacha      2015-03-01        03/01/2015 10:41   \n",
       "\n",
       "                       LugarAcogida ManeraAcogida CondicionAcogida TipoAnimal  \\\n",
       "2          100 E10Th in Austin (TX)      Wildlife           Normal      Other   \n",
       "4  100 Water Rd in Webberville (TX)         Stray           Normal        Dog   \n",
       "5   100 Wonsley Dr E in Austin (TX)         Stray           Normal        Dog   \n",
       "7  1000 Blk Lott Ave in Austin (TX)         Stray           Normal        Dog   \n",
       "8  1000 Blk Lott Ave in Austin (TX)         Stray           Normal        Dog   \n",
       "\n",
       "      SexoAnimal  Edad  ...   DuracionAcogida EdadAgrupada EdadSAgrupada Dias  \\\n",
       "2        Unknown    90  ...   0 days 15:18:00        1 - 4         1 - 4    0   \n",
       "4    Intact Male   730  ...  36 days 22:33:00        1 - 4         1 - 4   36   \n",
       "5  Intact Female   730  ...   4 days 22:01:00        1 - 4         1 - 4    4   \n",
       "7  Spayed Female  2190  ... 290 days 01:31:00        4 - 8         4 - 8  290   \n",
       "8  Spayed Female  2190  ... 168 days 07:24:00        4 - 8         4 - 8  168   \n",
       "\n",
       "  Hora_Exacta TiempoAgrupado TieneNombre    Adoptado MesAñoSalida AñosNum  \n",
       "2          15           Poco    nonombre  noadoptado     Oct 2014  201410  \n",
       "4          22           Poco      nombre    adoptado     Apr 2014  201404  \n",
       "5          22           Poco      nombre    adoptado     Oct 2014  201410  \n",
       "7           1           Poco      nombre  noadoptado     May 2014  201405  \n",
       "8           7           Poco      nombre    adoptado     Sep 2014  201409  \n",
       "\n",
       "[5 rows x 35 columns]"
      ]
     },
     "execution_count": 249,
     "metadata": {},
     "output_type": "execute_result"
    }
   ],
   "source": [
    "df2014 = data[data[\"MesAñoSalida\"].str.contains(\"2014\")]\n",
    "df2014.head()"
   ]
  },
  {
   "cell_type": "code",
   "execution_count": 250,
   "id": "48d5db61",
   "metadata": {},
   "outputs": [
    {
     "name": "stdout",
     "output_type": "stream",
     "text": [
      "Chi-cuadrado:  147.44596858377966\n"
     ]
    },
    {
     "data": {
      "text/html": [
       "<div>\n",
       "<style scoped>\n",
       "    .dataframe tbody tr th:only-of-type {\n",
       "        vertical-align: middle;\n",
       "    }\n",
       "\n",
       "    .dataframe tbody tr th {\n",
       "        vertical-align: top;\n",
       "    }\n",
       "\n",
       "    .dataframe thead th {\n",
       "        text-align: right;\n",
       "    }\n",
       "</style>\n",
       "<table border=\"1\" class=\"dataframe\">\n",
       "  <thead>\n",
       "    <tr style=\"text-align: right;\">\n",
       "      <th>MesAñoSalida</th>\n",
       "      <th>Apr 2014</th>\n",
       "      <th>Aug 2014</th>\n",
       "      <th>Dec 2014</th>\n",
       "      <th>Feb 2014</th>\n",
       "      <th>Jan 2014</th>\n",
       "      <th>Jul 2014</th>\n",
       "      <th>Jun 2014</th>\n",
       "      <th>Mar 2014</th>\n",
       "      <th>May 2014</th>\n",
       "      <th>Nov 2014</th>\n",
       "      <th>Oct 2014</th>\n",
       "      <th>Sep 2014</th>\n",
       "    </tr>\n",
       "    <tr>\n",
       "      <th>Adoptado</th>\n",
       "      <th></th>\n",
       "      <th></th>\n",
       "      <th></th>\n",
       "      <th></th>\n",
       "      <th></th>\n",
       "      <th></th>\n",
       "      <th></th>\n",
       "      <th></th>\n",
       "      <th></th>\n",
       "      <th></th>\n",
       "      <th></th>\n",
       "      <th></th>\n",
       "    </tr>\n",
       "  </thead>\n",
       "  <tbody>\n",
       "    <tr>\n",
       "      <th>adoptado</th>\n",
       "      <td>442</td>\n",
       "      <td>761</td>\n",
       "      <td>642</td>\n",
       "      <td>405</td>\n",
       "      <td>473</td>\n",
       "      <td>849</td>\n",
       "      <td>647</td>\n",
       "      <td>458</td>\n",
       "      <td>453</td>\n",
       "      <td>525</td>\n",
       "      <td>579</td>\n",
       "      <td>593</td>\n",
       "    </tr>\n",
       "    <tr>\n",
       "      <th>noadoptado</th>\n",
       "      <td>871</td>\n",
       "      <td>910</td>\n",
       "      <td>803</td>\n",
       "      <td>637</td>\n",
       "      <td>714</td>\n",
       "      <td>1049</td>\n",
       "      <td>919</td>\n",
       "      <td>901</td>\n",
       "      <td>995</td>\n",
       "      <td>895</td>\n",
       "      <td>898</td>\n",
       "      <td>943</td>\n",
       "    </tr>\n",
       "  </tbody>\n",
       "</table>\n",
       "</div>"
      ],
      "text/plain": [
       "MesAñoSalida  Apr 2014  Aug 2014  Dec 2014  Feb 2014  Jan 2014  Jul 2014  \\\n",
       "Adoptado                                                                   \n",
       "adoptado           442       761       642       405       473       849   \n",
       "noadoptado         871       910       803       637       714      1049   \n",
       "\n",
       "MesAñoSalida  Jun 2014  Mar 2014  May 2014  Nov 2014  Oct 2014  Sep 2014  \n",
       "Adoptado                                                                  \n",
       "adoptado           647       458       453       525       579       593  \n",
       "noadoptado         919       901       995       895       898       943  "
      ]
     },
     "execution_count": 250,
     "metadata": {},
     "output_type": "execute_result"
    }
   ],
   "source": [
    "contingencia = pd.crosstab(df2014[\"Adoptado\"], df2014[\"MesAñoSalida\"])\n",
    "chi2, pval, dof, expected = chi2_contingency(contingencia)\n",
    "print('Chi-cuadrado: ', chi2)\n",
    "contingencia"
   ]
  },
  {
   "cell_type": "code",
   "execution_count": 251,
   "id": "06589437",
   "metadata": {},
   "outputs": [
    {
     "data": {
      "text/html": [
       "<div>\n",
       "<style scoped>\n",
       "    .dataframe tbody tr th:only-of-type {\n",
       "        vertical-align: middle;\n",
       "    }\n",
       "\n",
       "    .dataframe tbody tr th {\n",
       "        vertical-align: top;\n",
       "    }\n",
       "\n",
       "    .dataframe thead th {\n",
       "        text-align: right;\n",
       "    }\n",
       "</style>\n",
       "<table border=\"1\" class=\"dataframe\">\n",
       "  <thead>\n",
       "    <tr style=\"text-align: right;\">\n",
       "      <th></th>\n",
       "      <th>Animal ID</th>\n",
       "      <th>NombreAcogida</th>\n",
       "      <th>DateTimeAcogida</th>\n",
       "      <th>MesAcogida</th>\n",
       "      <th>LugarAcogida</th>\n",
       "      <th>ManeraAcogida</th>\n",
       "      <th>CondicionAcogida</th>\n",
       "      <th>TipoAnimal</th>\n",
       "      <th>SexoAnimal</th>\n",
       "      <th>Edad</th>\n",
       "      <th>...</th>\n",
       "      <th>DuracionAcogida</th>\n",
       "      <th>EdadAgrupada</th>\n",
       "      <th>EdadSAgrupada</th>\n",
       "      <th>Dias</th>\n",
       "      <th>Hora_Exacta</th>\n",
       "      <th>TiempoAgrupado</th>\n",
       "      <th>TieneNombre</th>\n",
       "      <th>Adoptado</th>\n",
       "      <th>MesAñoSalida</th>\n",
       "      <th>AñosNum</th>\n",
       "    </tr>\n",
       "  </thead>\n",
       "  <tbody>\n",
       "    <tr>\n",
       "      <th>1</th>\n",
       "      <td>A701465</td>\n",
       "      <td>noname</td>\n",
       "      <td>2015-04-29</td>\n",
       "      <td>04/29/2015 10:18:00 PM</td>\n",
       "      <td>100 E Hoopes Ave in Travis (TX)</td>\n",
       "      <td>Wildlife</td>\n",
       "      <td>Normal</td>\n",
       "      <td>Other</td>\n",
       "      <td>Unknown</td>\n",
       "      <td>150</td>\n",
       "      <td>...</td>\n",
       "      <td>32 days 15:13:00</td>\n",
       "      <td>1 - 4</td>\n",
       "      <td>1 - 4</td>\n",
       "      <td>32</td>\n",
       "      <td>15</td>\n",
       "      <td>Poco</td>\n",
       "      <td>nonombre</td>\n",
       "      <td>noadoptado</td>\n",
       "      <td>Jun 2015</td>\n",
       "      <td>201506</td>\n",
       "    </tr>\n",
       "    <tr>\n",
       "      <th>6</th>\n",
       "      <td>A593537</td>\n",
       "      <td>Chacha</td>\n",
       "      <td>2015-03-01</td>\n",
       "      <td>03/01/2015 10:41</td>\n",
       "      <td>1000 Blk Lott Ave in Austin (TX)</td>\n",
       "      <td>Stray</td>\n",
       "      <td>Normal</td>\n",
       "      <td>Dog</td>\n",
       "      <td>Spayed Female</td>\n",
       "      <td>2190</td>\n",
       "      <td>...</td>\n",
       "      <td>3 days 07:33:00</td>\n",
       "      <td>4 - 8</td>\n",
       "      <td>4 - 8</td>\n",
       "      <td>3</td>\n",
       "      <td>7</td>\n",
       "      <td>Poco</td>\n",
       "      <td>nombre</td>\n",
       "      <td>noadoptado</td>\n",
       "      <td>Mar 2015</td>\n",
       "      <td>201503</td>\n",
       "    </tr>\n",
       "    <tr>\n",
       "      <th>9</th>\n",
       "      <td>A593537</td>\n",
       "      <td>Chacha</td>\n",
       "      <td>2015-03-01</td>\n",
       "      <td>03/01/2015 10:41</td>\n",
       "      <td>1000 Blk Lott Ave in Austin (TX)</td>\n",
       "      <td>Stray</td>\n",
       "      <td>Normal</td>\n",
       "      <td>Dog</td>\n",
       "      <td>Spayed Female</td>\n",
       "      <td>2190</td>\n",
       "      <td>...</td>\n",
       "      <td>275 days 04:08:00</td>\n",
       "      <td>4 - 8</td>\n",
       "      <td>4 - 8</td>\n",
       "      <td>275</td>\n",
       "      <td>4</td>\n",
       "      <td>Poco</td>\n",
       "      <td>nombre</td>\n",
       "      <td>noadoptado</td>\n",
       "      <td>Dec 2015</td>\n",
       "      <td>201512</td>\n",
       "    </tr>\n",
       "    <tr>\n",
       "      <th>11</th>\n",
       "      <td>A593537</td>\n",
       "      <td>Chacha</td>\n",
       "      <td>2015-03-01</td>\n",
       "      <td>03/01/2015 10:41</td>\n",
       "      <td>1000 Blk Lott Ave in Austin (TX)</td>\n",
       "      <td>Stray</td>\n",
       "      <td>Normal</td>\n",
       "      <td>Dog</td>\n",
       "      <td>Spayed Female</td>\n",
       "      <td>2190</td>\n",
       "      <td>...</td>\n",
       "      <td>267 days 04:43:00</td>\n",
       "      <td>4 - 8</td>\n",
       "      <td>4 - 8</td>\n",
       "      <td>267</td>\n",
       "      <td>4</td>\n",
       "      <td>Poco</td>\n",
       "      <td>nombre</td>\n",
       "      <td>noadoptado</td>\n",
       "      <td>Nov 2015</td>\n",
       "      <td>201511</td>\n",
       "    </tr>\n",
       "    <tr>\n",
       "      <th>12</th>\n",
       "      <td>A697810</td>\n",
       "      <td>Raider</td>\n",
       "      <td>2015-03-01</td>\n",
       "      <td>03/01/2015 10:41</td>\n",
       "      <td>1000 Blk Lott Ave in Austin (TX)</td>\n",
       "      <td>Stray</td>\n",
       "      <td>Normal</td>\n",
       "      <td>Dog</td>\n",
       "      <td>Intact Male</td>\n",
       "      <td>365</td>\n",
       "      <td>...</td>\n",
       "      <td>65 days 08:24:00</td>\n",
       "      <td>1 - 4</td>\n",
       "      <td>1 - 4</td>\n",
       "      <td>65</td>\n",
       "      <td>8</td>\n",
       "      <td>Poco</td>\n",
       "      <td>nombre</td>\n",
       "      <td>adoptado</td>\n",
       "      <td>May 2015</td>\n",
       "      <td>201505</td>\n",
       "    </tr>\n",
       "  </tbody>\n",
       "</table>\n",
       "<p>5 rows × 35 columns</p>\n",
       "</div>"
      ],
      "text/plain": [
       "   Animal ID NombreAcogida DateTimeAcogida              MesAcogida  \\\n",
       "1    A701465        noname      2015-04-29  04/29/2015 10:18:00 PM   \n",
       "6    A593537        Chacha      2015-03-01        03/01/2015 10:41   \n",
       "9    A593537        Chacha      2015-03-01        03/01/2015 10:41   \n",
       "11   A593537        Chacha      2015-03-01        03/01/2015 10:41   \n",
       "12   A697810        Raider      2015-03-01        03/01/2015 10:41   \n",
       "\n",
       "                        LugarAcogida ManeraAcogida CondicionAcogida  \\\n",
       "1    100 E Hoopes Ave in Travis (TX)      Wildlife           Normal   \n",
       "6   1000 Blk Lott Ave in Austin (TX)         Stray           Normal   \n",
       "9   1000 Blk Lott Ave in Austin (TX)         Stray           Normal   \n",
       "11  1000 Blk Lott Ave in Austin (TX)         Stray           Normal   \n",
       "12  1000 Blk Lott Ave in Austin (TX)         Stray           Normal   \n",
       "\n",
       "   TipoAnimal     SexoAnimal  Edad  ...   DuracionAcogida EdadAgrupada  \\\n",
       "1       Other        Unknown   150  ...  32 days 15:13:00        1 - 4   \n",
       "6         Dog  Spayed Female  2190  ...   3 days 07:33:00        4 - 8   \n",
       "9         Dog  Spayed Female  2190  ... 275 days 04:08:00        4 - 8   \n",
       "11        Dog  Spayed Female  2190  ... 267 days 04:43:00        4 - 8   \n",
       "12        Dog    Intact Male   365  ...  65 days 08:24:00        1 - 4   \n",
       "\n",
       "   EdadSAgrupada Dias Hora_Exacta TiempoAgrupado TieneNombre    Adoptado  \\\n",
       "1          1 - 4   32          15           Poco    nonombre  noadoptado   \n",
       "6          4 - 8    3           7           Poco      nombre  noadoptado   \n",
       "9          4 - 8  275           4           Poco      nombre  noadoptado   \n",
       "11         4 - 8  267           4           Poco      nombre  noadoptado   \n",
       "12         1 - 4   65           8           Poco      nombre    adoptado   \n",
       "\n",
       "   MesAñoSalida AñosNum  \n",
       "1      Jun 2015  201506  \n",
       "6      Mar 2015  201503  \n",
       "9      Dec 2015  201512  \n",
       "11     Nov 2015  201511  \n",
       "12     May 2015  201505  \n",
       "\n",
       "[5 rows x 35 columns]"
      ]
     },
     "execution_count": 251,
     "metadata": {},
     "output_type": "execute_result"
    }
   ],
   "source": [
    "df2015 = data[data[\"MesAñoSalida\"].str.contains(\"2015\")]\n",
    "df2015.head()"
   ]
  },
  {
   "cell_type": "code",
   "execution_count": 252,
   "id": "4a3c1128",
   "metadata": {},
   "outputs": [
    {
     "name": "stdout",
     "output_type": "stream",
     "text": [
      "Chi-cuadrado:  148.31477684250552\n"
     ]
    },
    {
     "data": {
      "text/html": [
       "<div>\n",
       "<style scoped>\n",
       "    .dataframe tbody tr th:only-of-type {\n",
       "        vertical-align: middle;\n",
       "    }\n",
       "\n",
       "    .dataframe tbody tr th {\n",
       "        vertical-align: top;\n",
       "    }\n",
       "\n",
       "    .dataframe thead th {\n",
       "        text-align: right;\n",
       "    }\n",
       "</style>\n",
       "<table border=\"1\" class=\"dataframe\">\n",
       "  <thead>\n",
       "    <tr style=\"text-align: right;\">\n",
       "      <th>MesAñoSalida</th>\n",
       "      <th>Apr 2015</th>\n",
       "      <th>Aug 2015</th>\n",
       "      <th>Dec 2015</th>\n",
       "      <th>Feb 2015</th>\n",
       "      <th>Jan 2015</th>\n",
       "      <th>Jul 2015</th>\n",
       "      <th>Jun 2015</th>\n",
       "      <th>Mar 2015</th>\n",
       "      <th>May 2015</th>\n",
       "      <th>Nov 2015</th>\n",
       "      <th>Oct 2015</th>\n",
       "      <th>Sep 2015</th>\n",
       "    </tr>\n",
       "    <tr>\n",
       "      <th>Adoptado</th>\n",
       "      <th></th>\n",
       "      <th></th>\n",
       "      <th></th>\n",
       "      <th></th>\n",
       "      <th></th>\n",
       "      <th></th>\n",
       "      <th></th>\n",
       "      <th></th>\n",
       "      <th></th>\n",
       "      <th></th>\n",
       "      <th></th>\n",
       "      <th></th>\n",
       "    </tr>\n",
       "  </thead>\n",
       "  <tbody>\n",
       "    <tr>\n",
       "      <th>adoptado</th>\n",
       "      <td>436</td>\n",
       "      <td>688</td>\n",
       "      <td>629</td>\n",
       "      <td>506</td>\n",
       "      <td>575</td>\n",
       "      <td>834</td>\n",
       "      <td>720</td>\n",
       "      <td>518</td>\n",
       "      <td>626</td>\n",
       "      <td>626</td>\n",
       "      <td>598</td>\n",
       "      <td>621</td>\n",
       "    </tr>\n",
       "    <tr>\n",
       "      <th>noadoptado</th>\n",
       "      <td>918</td>\n",
       "      <td>920</td>\n",
       "      <td>779</td>\n",
       "      <td>642</td>\n",
       "      <td>676</td>\n",
       "      <td>965</td>\n",
       "      <td>1165</td>\n",
       "      <td>741</td>\n",
       "      <td>1263</td>\n",
       "      <td>937</td>\n",
       "      <td>937</td>\n",
       "      <td>888</td>\n",
       "    </tr>\n",
       "  </tbody>\n",
       "</table>\n",
       "</div>"
      ],
      "text/plain": [
       "MesAñoSalida  Apr 2015  Aug 2015  Dec 2015  Feb 2015  Jan 2015  Jul 2015  \\\n",
       "Adoptado                                                                   \n",
       "adoptado           436       688       629       506       575       834   \n",
       "noadoptado         918       920       779       642       676       965   \n",
       "\n",
       "MesAñoSalida  Jun 2015  Mar 2015  May 2015  Nov 2015  Oct 2015  Sep 2015  \n",
       "Adoptado                                                                  \n",
       "adoptado           720       518       626       626       598       621  \n",
       "noadoptado        1165       741      1263       937       937       888  "
      ]
     },
     "execution_count": 252,
     "metadata": {},
     "output_type": "execute_result"
    }
   ],
   "source": [
    "contingencia = pd.crosstab(df2015[\"Adoptado\"], df2015[\"MesAñoSalida\"])\n",
    "chi2, pval, dof, expected = chi2_contingency(contingencia)\n",
    "print('Chi-cuadrado: ', chi2)\n",
    "contingencia"
   ]
  },
  {
   "cell_type": "code",
   "execution_count": 253,
   "id": "361ff4b0",
   "metadata": {},
   "outputs": [
    {
     "data": {
      "text/html": [
       "<div>\n",
       "<style scoped>\n",
       "    .dataframe tbody tr th:only-of-type {\n",
       "        vertical-align: middle;\n",
       "    }\n",
       "\n",
       "    .dataframe tbody tr th {\n",
       "        vertical-align: top;\n",
       "    }\n",
       "\n",
       "    .dataframe thead th {\n",
       "        text-align: right;\n",
       "    }\n",
       "</style>\n",
       "<table border=\"1\" class=\"dataframe\">\n",
       "  <thead>\n",
       "    <tr style=\"text-align: right;\">\n",
       "      <th></th>\n",
       "      <th>Animal ID</th>\n",
       "      <th>NombreAcogida</th>\n",
       "      <th>DateTimeAcogida</th>\n",
       "      <th>MesAcogida</th>\n",
       "      <th>LugarAcogida</th>\n",
       "      <th>ManeraAcogida</th>\n",
       "      <th>CondicionAcogida</th>\n",
       "      <th>TipoAnimal</th>\n",
       "      <th>SexoAnimal</th>\n",
       "      <th>Edad</th>\n",
       "      <th>...</th>\n",
       "      <th>DuracionAcogida</th>\n",
       "      <th>EdadAgrupada</th>\n",
       "      <th>EdadSAgrupada</th>\n",
       "      <th>Dias</th>\n",
       "      <th>Hora_Exacta</th>\n",
       "      <th>TiempoAgrupado</th>\n",
       "      <th>TieneNombre</th>\n",
       "      <th>Adoptado</th>\n",
       "      <th>MesAñoSalida</th>\n",
       "      <th>AñosNum</th>\n",
       "    </tr>\n",
       "  </thead>\n",
       "  <tbody>\n",
       "    <tr>\n",
       "      <th>0</th>\n",
       "      <td>A725713</td>\n",
       "      <td>*Luxor</td>\n",
       "      <td>2016-05-02</td>\n",
       "      <td>05/02/2016 11:43</td>\n",
       "      <td>100 Block Of East Murray in Manor (TX)</td>\n",
       "      <td>Stray</td>\n",
       "      <td>Normal</td>\n",
       "      <td>Dog</td>\n",
       "      <td>Intact Male</td>\n",
       "      <td>730</td>\n",
       "      <td>...</td>\n",
       "      <td>4 days 12:17:00</td>\n",
       "      <td>1 - 4</td>\n",
       "      <td>1 - 4</td>\n",
       "      <td>4</td>\n",
       "      <td>12</td>\n",
       "      <td>Poco</td>\n",
       "      <td>nombre</td>\n",
       "      <td>adoptado</td>\n",
       "      <td>May 2016</td>\n",
       "      <td>201605</td>\n",
       "    </tr>\n",
       "    <tr>\n",
       "      <th>13</th>\n",
       "      <td>A722871</td>\n",
       "      <td>noname</td>\n",
       "      <td>2016-03-23</td>\n",
       "      <td>03/23/2016 02:54:00 PM</td>\n",
       "      <td>1000 E 11Th in Austin (TX)</td>\n",
       "      <td>Wildlife</td>\n",
       "      <td>Normal</td>\n",
       "      <td>Other</td>\n",
       "      <td>Unknown</td>\n",
       "      <td>365</td>\n",
       "      <td>...</td>\n",
       "      <td>0 days 00:08:00</td>\n",
       "      <td>1 - 4</td>\n",
       "      <td>1 - 4</td>\n",
       "      <td>0</td>\n",
       "      <td>0</td>\n",
       "      <td>Poco</td>\n",
       "      <td>nonombre</td>\n",
       "      <td>noadoptado</td>\n",
       "      <td>Mar 2016</td>\n",
       "      <td>201603</td>\n",
       "    </tr>\n",
       "    <tr>\n",
       "      <th>16</th>\n",
       "      <td>A723964</td>\n",
       "      <td>noname</td>\n",
       "      <td>2016-04-09</td>\n",
       "      <td>04/09/2016 15:00</td>\n",
       "      <td>1000 E 41St in Austin (TX)</td>\n",
       "      <td>Stray</td>\n",
       "      <td>Normal</td>\n",
       "      <td>Dog</td>\n",
       "      <td>Intact Female</td>\n",
       "      <td>28</td>\n",
       "      <td>...</td>\n",
       "      <td>23 days 00:34:00</td>\n",
       "      <td>1 - 4</td>\n",
       "      <td>1 - 4</td>\n",
       "      <td>23</td>\n",
       "      <td>0</td>\n",
       "      <td>Poco</td>\n",
       "      <td>nonombre</td>\n",
       "      <td>adoptado</td>\n",
       "      <td>May 2016</td>\n",
       "      <td>201605</td>\n",
       "    </tr>\n",
       "    <tr>\n",
       "      <th>17</th>\n",
       "      <td>A723965</td>\n",
       "      <td>Belle</td>\n",
       "      <td>2016-04-09</td>\n",
       "      <td>04/09/2016 15:00</td>\n",
       "      <td>1000 E 41St in Austin (TX)</td>\n",
       "      <td>Stray</td>\n",
       "      <td>Normal</td>\n",
       "      <td>Dog</td>\n",
       "      <td>Intact Female</td>\n",
       "      <td>28</td>\n",
       "      <td>...</td>\n",
       "      <td>22 days 02:43:00</td>\n",
       "      <td>1 - 4</td>\n",
       "      <td>1 - 4</td>\n",
       "      <td>22</td>\n",
       "      <td>2</td>\n",
       "      <td>Poco</td>\n",
       "      <td>nombre</td>\n",
       "      <td>adoptado</td>\n",
       "      <td>May 2016</td>\n",
       "      <td>201605</td>\n",
       "    </tr>\n",
       "    <tr>\n",
       "      <th>18</th>\n",
       "      <td>A730511</td>\n",
       "      <td>Rocky</td>\n",
       "      <td>2016-07-05</td>\n",
       "      <td>07/05/2016 17:50</td>\n",
       "      <td>1000 E 41St St in Austin (TX)</td>\n",
       "      <td>Stray</td>\n",
       "      <td>Normal</td>\n",
       "      <td>Dog</td>\n",
       "      <td>Neutered Male</td>\n",
       "      <td>1825</td>\n",
       "      <td>...</td>\n",
       "      <td>147 days 19:08:00</td>\n",
       "      <td>4 - 8</td>\n",
       "      <td>4 - 8</td>\n",
       "      <td>147</td>\n",
       "      <td>19</td>\n",
       "      <td>Poco</td>\n",
       "      <td>nombre</td>\n",
       "      <td>noadoptado</td>\n",
       "      <td>Nov 2016</td>\n",
       "      <td>201611</td>\n",
       "    </tr>\n",
       "  </tbody>\n",
       "</table>\n",
       "<p>5 rows × 35 columns</p>\n",
       "</div>"
      ],
      "text/plain": [
       "   Animal ID NombreAcogida DateTimeAcogida              MesAcogida  \\\n",
       "0    A725713        *Luxor      2016-05-02        05/02/2016 11:43   \n",
       "13   A722871        noname      2016-03-23  03/23/2016 02:54:00 PM   \n",
       "16   A723964        noname      2016-04-09        04/09/2016 15:00   \n",
       "17   A723965         Belle      2016-04-09        04/09/2016 15:00   \n",
       "18   A730511         Rocky      2016-07-05        07/05/2016 17:50   \n",
       "\n",
       "                              LugarAcogida ManeraAcogida CondicionAcogida  \\\n",
       "0   100 Block Of East Murray in Manor (TX)         Stray           Normal   \n",
       "13              1000 E 11Th in Austin (TX)      Wildlife           Normal   \n",
       "16              1000 E 41St in Austin (TX)         Stray           Normal   \n",
       "17              1000 E 41St in Austin (TX)         Stray           Normal   \n",
       "18           1000 E 41St St in Austin (TX)         Stray           Normal   \n",
       "\n",
       "   TipoAnimal     SexoAnimal  Edad  ...   DuracionAcogida EdadAgrupada  \\\n",
       "0         Dog    Intact Male   730  ...   4 days 12:17:00        1 - 4   \n",
       "13      Other        Unknown   365  ...   0 days 00:08:00        1 - 4   \n",
       "16        Dog  Intact Female    28  ...  23 days 00:34:00        1 - 4   \n",
       "17        Dog  Intact Female    28  ...  22 days 02:43:00        1 - 4   \n",
       "18        Dog  Neutered Male  1825  ... 147 days 19:08:00        4 - 8   \n",
       "\n",
       "   EdadSAgrupada Dias Hora_Exacta TiempoAgrupado TieneNombre    Adoptado  \\\n",
       "0          1 - 4    4          12           Poco      nombre    adoptado   \n",
       "13         1 - 4    0           0           Poco    nonombre  noadoptado   \n",
       "16         1 - 4   23           0           Poco    nonombre    adoptado   \n",
       "17         1 - 4   22           2           Poco      nombre    adoptado   \n",
       "18         4 - 8  147          19           Poco      nombre  noadoptado   \n",
       "\n",
       "   MesAñoSalida AñosNum  \n",
       "0      May 2016  201605  \n",
       "13     Mar 2016  201603  \n",
       "16     May 2016  201605  \n",
       "17     May 2016  201605  \n",
       "18     Nov 2016  201611  \n",
       "\n",
       "[5 rows x 35 columns]"
      ]
     },
     "execution_count": 253,
     "metadata": {},
     "output_type": "execute_result"
    }
   ],
   "source": [
    "df2016 = data[data[\"MesAñoSalida\"].str.contains(\"2016\")]\n",
    "df2016.head()"
   ]
  },
  {
   "cell_type": "code",
   "execution_count": 254,
   "id": "499993a5",
   "metadata": {},
   "outputs": [
    {
     "name": "stdout",
     "output_type": "stream",
     "text": [
      "Chi-cuadrado:  355.5357527381073\n"
     ]
    },
    {
     "data": {
      "text/html": [
       "<div>\n",
       "<style scoped>\n",
       "    .dataframe tbody tr th:only-of-type {\n",
       "        vertical-align: middle;\n",
       "    }\n",
       "\n",
       "    .dataframe tbody tr th {\n",
       "        vertical-align: top;\n",
       "    }\n",
       "\n",
       "    .dataframe thead th {\n",
       "        text-align: right;\n",
       "    }\n",
       "</style>\n",
       "<table border=\"1\" class=\"dataframe\">\n",
       "  <thead>\n",
       "    <tr style=\"text-align: right;\">\n",
       "      <th>MesAñoSalida</th>\n",
       "      <th>Apr 2016</th>\n",
       "      <th>Aug 2016</th>\n",
       "      <th>Dec 2016</th>\n",
       "      <th>Feb 2016</th>\n",
       "      <th>Jan 2016</th>\n",
       "      <th>Jul 2016</th>\n",
       "      <th>Jun 2016</th>\n",
       "      <th>Mar 2016</th>\n",
       "      <th>May 2016</th>\n",
       "      <th>Nov 2016</th>\n",
       "      <th>Oct 2016</th>\n",
       "      <th>Sep 2016</th>\n",
       "    </tr>\n",
       "    <tr>\n",
       "      <th>Adoptado</th>\n",
       "      <th></th>\n",
       "      <th></th>\n",
       "      <th></th>\n",
       "      <th></th>\n",
       "      <th></th>\n",
       "      <th></th>\n",
       "      <th></th>\n",
       "      <th></th>\n",
       "      <th></th>\n",
       "      <th></th>\n",
       "      <th></th>\n",
       "      <th></th>\n",
       "    </tr>\n",
       "  </thead>\n",
       "  <tbody>\n",
       "    <tr>\n",
       "      <th>adoptado</th>\n",
       "      <td>474</td>\n",
       "      <td>734</td>\n",
       "      <td>708</td>\n",
       "      <td>583</td>\n",
       "      <td>608</td>\n",
       "      <td>980</td>\n",
       "      <td>825</td>\n",
       "      <td>588</td>\n",
       "      <td>611</td>\n",
       "      <td>734</td>\n",
       "      <td>649</td>\n",
       "      <td>764</td>\n",
       "    </tr>\n",
       "    <tr>\n",
       "      <th>noadoptado</th>\n",
       "      <td>849</td>\n",
       "      <td>741</td>\n",
       "      <td>636</td>\n",
       "      <td>601</td>\n",
       "      <td>750</td>\n",
       "      <td>670</td>\n",
       "      <td>709</td>\n",
       "      <td>915</td>\n",
       "      <td>1098</td>\n",
       "      <td>727</td>\n",
       "      <td>782</td>\n",
       "      <td>881</td>\n",
       "    </tr>\n",
       "  </tbody>\n",
       "</table>\n",
       "</div>"
      ],
      "text/plain": [
       "MesAñoSalida  Apr 2016  Aug 2016  Dec 2016  Feb 2016  Jan 2016  Jul 2016  \\\n",
       "Adoptado                                                                   \n",
       "adoptado           474       734       708       583       608       980   \n",
       "noadoptado         849       741       636       601       750       670   \n",
       "\n",
       "MesAñoSalida  Jun 2016  Mar 2016  May 2016  Nov 2016  Oct 2016  Sep 2016  \n",
       "Adoptado                                                                  \n",
       "adoptado           825       588       611       734       649       764  \n",
       "noadoptado         709       915      1098       727       782       881  "
      ]
     },
     "execution_count": 254,
     "metadata": {},
     "output_type": "execute_result"
    }
   ],
   "source": [
    "contingencia = pd.crosstab(df2016[\"Adoptado\"], df2016[\"MesAñoSalida\"])\n",
    "chi2, pval, dof, expected = chi2_contingency(contingencia)\n",
    "print('Chi-cuadrado: ', chi2)\n",
    "contingencia"
   ]
  },
  {
   "cell_type": "code",
   "execution_count": 255,
   "id": "04a0c6c0",
   "metadata": {},
   "outputs": [
    {
     "data": {
      "text/html": [
       "<div>\n",
       "<style scoped>\n",
       "    .dataframe tbody tr th:only-of-type {\n",
       "        vertical-align: middle;\n",
       "    }\n",
       "\n",
       "    .dataframe tbody tr th {\n",
       "        vertical-align: top;\n",
       "    }\n",
       "\n",
       "    .dataframe thead th {\n",
       "        text-align: right;\n",
       "    }\n",
       "</style>\n",
       "<table border=\"1\" class=\"dataframe\">\n",
       "  <thead>\n",
       "    <tr style=\"text-align: right;\">\n",
       "      <th></th>\n",
       "      <th>Animal ID</th>\n",
       "      <th>NombreAcogida</th>\n",
       "      <th>DateTimeAcogida</th>\n",
       "      <th>MesAcogida</th>\n",
       "      <th>LugarAcogida</th>\n",
       "      <th>ManeraAcogida</th>\n",
       "      <th>CondicionAcogida</th>\n",
       "      <th>TipoAnimal</th>\n",
       "      <th>SexoAnimal</th>\n",
       "      <th>Edad</th>\n",
       "      <th>...</th>\n",
       "      <th>DuracionAcogida</th>\n",
       "      <th>EdadAgrupada</th>\n",
       "      <th>EdadSAgrupada</th>\n",
       "      <th>Dias</th>\n",
       "      <th>Hora_Exacta</th>\n",
       "      <th>TiempoAgrupado</th>\n",
       "      <th>TieneNombre</th>\n",
       "      <th>Adoptado</th>\n",
       "      <th>MesAñoSalida</th>\n",
       "      <th>AñosNum</th>\n",
       "    </tr>\n",
       "  </thead>\n",
       "  <tbody>\n",
       "    <tr>\n",
       "      <th>20</th>\n",
       "      <td>A743670</td>\n",
       "      <td>Presley</td>\n",
       "      <td>2017-02-14</td>\n",
       "      <td>02/14/2017 02:19:00 PM</td>\n",
       "      <td>1000 E 41St St in Austin (TX)</td>\n",
       "      <td>Stray</td>\n",
       "      <td>Normal</td>\n",
       "      <td>Dog</td>\n",
       "      <td>Intact Female</td>\n",
       "      <td>240</td>\n",
       "      <td>...</td>\n",
       "      <td>6 days 03:31:00</td>\n",
       "      <td>1 - 4</td>\n",
       "      <td>1 - 4</td>\n",
       "      <td>6</td>\n",
       "      <td>3</td>\n",
       "      <td>Poco</td>\n",
       "      <td>nombre</td>\n",
       "      <td>adoptado</td>\n",
       "      <td>Feb 2017</td>\n",
       "      <td>201702</td>\n",
       "    </tr>\n",
       "    <tr>\n",
       "      <th>60</th>\n",
       "      <td>A738511</td>\n",
       "      <td>*Helene</td>\n",
       "      <td>2016-11-16</td>\n",
       "      <td>11/16/2016 05:00:00 PM</td>\n",
       "      <td>1007 E 7Th St in Austin (TX)</td>\n",
       "      <td>Stray</td>\n",
       "      <td>Normal</td>\n",
       "      <td>Cat</td>\n",
       "      <td>Intact Female</td>\n",
       "      <td>365</td>\n",
       "      <td>...</td>\n",
       "      <td>60 days 07:00:00</td>\n",
       "      <td>1 - 4</td>\n",
       "      <td>1 - 4</td>\n",
       "      <td>60</td>\n",
       "      <td>7</td>\n",
       "      <td>Poco</td>\n",
       "      <td>nombre</td>\n",
       "      <td>noadoptado</td>\n",
       "      <td>Jan 2017</td>\n",
       "      <td>201701</td>\n",
       "    </tr>\n",
       "    <tr>\n",
       "      <th>70</th>\n",
       "      <td>A743009</td>\n",
       "      <td>*Gabe</td>\n",
       "      <td>2017-02-01</td>\n",
       "      <td>02/01/2017 19:41</td>\n",
       "      <td>1015 E Yager in Austin (TX)</td>\n",
       "      <td>Stray</td>\n",
       "      <td>Normal</td>\n",
       "      <td>Dog</td>\n",
       "      <td>Intact Male</td>\n",
       "      <td>240</td>\n",
       "      <td>...</td>\n",
       "      <td>9 days 15:37:00</td>\n",
       "      <td>1 - 4</td>\n",
       "      <td>1 - 4</td>\n",
       "      <td>9</td>\n",
       "      <td>15</td>\n",
       "      <td>Poco</td>\n",
       "      <td>nombre</td>\n",
       "      <td>adoptado</td>\n",
       "      <td>Feb 2017</td>\n",
       "      <td>201702</td>\n",
       "    </tr>\n",
       "    <tr>\n",
       "      <th>98</th>\n",
       "      <td>A731162</td>\n",
       "      <td>Roxy</td>\n",
       "      <td>2017-01-23</td>\n",
       "      <td>01/23/2017 11:03:00 AM</td>\n",
       "      <td>Travis (TX)</td>\n",
       "      <td>Owner Surrender</td>\n",
       "      <td>Sick</td>\n",
       "      <td>Dog</td>\n",
       "      <td>Spayed Female</td>\n",
       "      <td>365</td>\n",
       "      <td>...</td>\n",
       "      <td>0 days 01:34:00</td>\n",
       "      <td>1 - 4</td>\n",
       "      <td>1 - 4</td>\n",
       "      <td>0</td>\n",
       "      <td>1</td>\n",
       "      <td>Poco</td>\n",
       "      <td>nombre</td>\n",
       "      <td>noadoptado</td>\n",
       "      <td>Jan 2017</td>\n",
       "      <td>201701</td>\n",
       "    </tr>\n",
       "    <tr>\n",
       "      <th>131</th>\n",
       "      <td>A742283</td>\n",
       "      <td>Luna</td>\n",
       "      <td>2017-02-25</td>\n",
       "      <td>02/25/2017 04:35:00 PM</td>\n",
       "      <td>Travis (TX)</td>\n",
       "      <td>Owner Surrender</td>\n",
       "      <td>Normal</td>\n",
       "      <td>Dog</td>\n",
       "      <td>Spayed Female</td>\n",
       "      <td>730</td>\n",
       "      <td>...</td>\n",
       "      <td>38 days 15:12:00</td>\n",
       "      <td>1 - 4</td>\n",
       "      <td>1 - 4</td>\n",
       "      <td>38</td>\n",
       "      <td>15</td>\n",
       "      <td>Poco</td>\n",
       "      <td>nombre</td>\n",
       "      <td>noadoptado</td>\n",
       "      <td>Jan 2017</td>\n",
       "      <td>201701</td>\n",
       "    </tr>\n",
       "  </tbody>\n",
       "</table>\n",
       "<p>5 rows × 35 columns</p>\n",
       "</div>"
      ],
      "text/plain": [
       "    Animal ID NombreAcogida DateTimeAcogida              MesAcogida  \\\n",
       "20    A743670       Presley      2017-02-14  02/14/2017 02:19:00 PM   \n",
       "60    A738511       *Helene      2016-11-16  11/16/2016 05:00:00 PM   \n",
       "70    A743009         *Gabe      2017-02-01        02/01/2017 19:41   \n",
       "98    A731162          Roxy      2017-01-23  01/23/2017 11:03:00 AM   \n",
       "131   A742283          Luna      2017-02-25  02/25/2017 04:35:00 PM   \n",
       "\n",
       "                      LugarAcogida    ManeraAcogida CondicionAcogida  \\\n",
       "20   1000 E 41St St in Austin (TX)            Stray           Normal   \n",
       "60    1007 E 7Th St in Austin (TX)            Stray           Normal   \n",
       "70     1015 E Yager in Austin (TX)            Stray           Normal   \n",
       "98                     Travis (TX)  Owner Surrender             Sick   \n",
       "131                    Travis (TX)  Owner Surrender           Normal   \n",
       "\n",
       "    TipoAnimal     SexoAnimal  Edad  ...  DuracionAcogida EdadAgrupada  \\\n",
       "20         Dog  Intact Female   240  ...  6 days 03:31:00        1 - 4   \n",
       "60         Cat  Intact Female   365  ... 60 days 07:00:00        1 - 4   \n",
       "70         Dog    Intact Male   240  ...  9 days 15:37:00        1 - 4   \n",
       "98         Dog  Spayed Female   365  ...  0 days 01:34:00        1 - 4   \n",
       "131        Dog  Spayed Female   730  ... 38 days 15:12:00        1 - 4   \n",
       "\n",
       "    EdadSAgrupada Dias Hora_Exacta TiempoAgrupado TieneNombre    Adoptado  \\\n",
       "20          1 - 4    6           3           Poco      nombre    adoptado   \n",
       "60          1 - 4   60           7           Poco      nombre  noadoptado   \n",
       "70          1 - 4    9          15           Poco      nombre    adoptado   \n",
       "98          1 - 4    0           1           Poco      nombre  noadoptado   \n",
       "131         1 - 4   38          15           Poco      nombre  noadoptado   \n",
       "\n",
       "    MesAñoSalida AñosNum  \n",
       "20      Feb 2017  201702  \n",
       "60      Jan 2017  201701  \n",
       "70      Feb 2017  201702  \n",
       "98      Jan 2017  201701  \n",
       "131     Jan 2017  201701  \n",
       "\n",
       "[5 rows x 35 columns]"
      ]
     },
     "execution_count": 255,
     "metadata": {},
     "output_type": "execute_result"
    }
   ],
   "source": [
    "df2017 = data[data[\"MesAñoSalida\"].str.contains(\"2017\")]\n",
    "df2017.head()"
   ]
  },
  {
   "cell_type": "code",
   "execution_count": 256,
   "id": "b8652829",
   "metadata": {},
   "outputs": [
    {
     "name": "stdout",
     "output_type": "stream",
     "text": [
      "Chi-cuadrado:  50.39913877321114\n"
     ]
    },
    {
     "data": {
      "text/html": [
       "<div>\n",
       "<style scoped>\n",
       "    .dataframe tbody tr th:only-of-type {\n",
       "        vertical-align: middle;\n",
       "    }\n",
       "\n",
       "    .dataframe tbody tr th {\n",
       "        vertical-align: top;\n",
       "    }\n",
       "\n",
       "    .dataframe thead th {\n",
       "        text-align: right;\n",
       "    }\n",
       "</style>\n",
       "<table border=\"1\" class=\"dataframe\">\n",
       "  <thead>\n",
       "    <tr style=\"text-align: right;\">\n",
       "      <th>MesAñoSalida</th>\n",
       "      <th>Apr 2017</th>\n",
       "      <th>Feb 2017</th>\n",
       "      <th>Jan 2017</th>\n",
       "      <th>Mar 2017</th>\n",
       "    </tr>\n",
       "    <tr>\n",
       "      <th>Adoptado</th>\n",
       "      <th></th>\n",
       "      <th></th>\n",
       "      <th></th>\n",
       "      <th></th>\n",
       "    </tr>\n",
       "  </thead>\n",
       "  <tbody>\n",
       "    <tr>\n",
       "      <th>adoptado</th>\n",
       "      <td>38</td>\n",
       "      <td>640</td>\n",
       "      <td>730</td>\n",
       "      <td>270</td>\n",
       "    </tr>\n",
       "    <tr>\n",
       "      <th>noadoptado</th>\n",
       "      <td>25</td>\n",
       "      <td>634</td>\n",
       "      <td>673</td>\n",
       "      <td>459</td>\n",
       "    </tr>\n",
       "  </tbody>\n",
       "</table>\n",
       "</div>"
      ],
      "text/plain": [
       "MesAñoSalida  Apr 2017  Feb 2017  Jan 2017  Mar 2017\n",
       "Adoptado                                            \n",
       "adoptado            38       640       730       270\n",
       "noadoptado          25       634       673       459"
      ]
     },
     "execution_count": 256,
     "metadata": {},
     "output_type": "execute_result"
    }
   ],
   "source": [
    "contingencia = pd.crosstab(df2017[\"Adoptado\"], df2017[\"MesAñoSalida\"])\n",
    "chi2, pval, dof, expected = chi2_contingency(contingencia)\n",
    "print('Chi-cuadrado: ', chi2)\n",
    "contingencia"
   ]
  },
  {
   "cell_type": "code",
   "execution_count": 257,
   "id": "721557d8",
   "metadata": {},
   "outputs": [
    {
     "name": "stdout",
     "output_type": "stream",
     "text": [
      "Chi-cuadrado:  3179.666263109603\n"
     ]
    },
    {
     "data": {
      "text/html": [
       "<div>\n",
       "<style scoped>\n",
       "    .dataframe tbody tr th:only-of-type {\n",
       "        vertical-align: middle;\n",
       "    }\n",
       "\n",
       "    .dataframe tbody tr th {\n",
       "        vertical-align: top;\n",
       "    }\n",
       "\n",
       "    .dataframe thead th {\n",
       "        text-align: right;\n",
       "    }\n",
       "</style>\n",
       "<table border=\"1\" class=\"dataframe\">\n",
       "  <thead>\n",
       "    <tr style=\"text-align: right;\">\n",
       "      <th>Adoptado</th>\n",
       "      <th>adoptado</th>\n",
       "      <th>noadoptado</th>\n",
       "    </tr>\n",
       "    <tr>\n",
       "      <th>TieneNombre</th>\n",
       "      <th></th>\n",
       "      <th></th>\n",
       "    </tr>\n",
       "  </thead>\n",
       "  <tbody>\n",
       "    <tr>\n",
       "      <th>nombre</th>\n",
       "      <td>22357</td>\n",
       "      <td>23613</td>\n",
       "    </tr>\n",
       "    <tr>\n",
       "      <th>nonombre</th>\n",
       "      <td>3052</td>\n",
       "      <td>10977</td>\n",
       "    </tr>\n",
       "  </tbody>\n",
       "</table>\n",
       "</div>"
      ],
      "text/plain": [
       "Adoptado     adoptado  noadoptado\n",
       "TieneNombre                      \n",
       "nombre          22357       23613\n",
       "nonombre         3052       10977"
      ]
     },
     "execution_count": 257,
     "metadata": {},
     "output_type": "execute_result"
    }
   ],
   "source": [
    "contingencia = pd.crosstab(data[\"TieneNombre\"], data[\"Adoptado\"])\n",
    "chi2, pval, dof, expected = chi2_contingency(contingencia)\n",
    "print('Chi-cuadrado: ', chi2)\n",
    "contingencia"
   ]
  },
  {
   "cell_type": "code",
   "execution_count": 258,
   "id": "c16a63a8",
   "metadata": {},
   "outputs": [
    {
     "name": "stdout",
     "output_type": "stream",
     "text": [
      "Chi-cuadrado:  5454.774673975238\n"
     ]
    },
    {
     "data": {
      "text/html": [
       "<div>\n",
       "<style scoped>\n",
       "    .dataframe tbody tr th:only-of-type {\n",
       "        vertical-align: middle;\n",
       "    }\n",
       "\n",
       "    .dataframe tbody tr th {\n",
       "        vertical-align: top;\n",
       "    }\n",
       "\n",
       "    .dataframe thead th {\n",
       "        text-align: right;\n",
       "    }\n",
       "</style>\n",
       "<table border=\"1\" class=\"dataframe\">\n",
       "  <thead>\n",
       "    <tr style=\"text-align: right;\">\n",
       "      <th>Adoptado</th>\n",
       "      <th>adoptado</th>\n",
       "      <th>noadoptado</th>\n",
       "    </tr>\n",
       "    <tr>\n",
       "      <th>ManeraAcogida</th>\n",
       "      <th></th>\n",
       "      <th></th>\n",
       "    </tr>\n",
       "  </thead>\n",
       "  <tbody>\n",
       "    <tr>\n",
       "      <th>Euthanasia</th>\n",
       "      <td>19</td>\n",
       "      <td>194</td>\n",
       "    </tr>\n",
       "    <tr>\n",
       "      <th>Owner Surrender</th>\n",
       "      <td>8356</td>\n",
       "      <td>4686</td>\n",
       "    </tr>\n",
       "    <tr>\n",
       "      <th>Public Assist</th>\n",
       "      <td>621</td>\n",
       "      <td>3726</td>\n",
       "    </tr>\n",
       "    <tr>\n",
       "      <th>Stray</th>\n",
       "      <td>16408</td>\n",
       "      <td>24088</td>\n",
       "    </tr>\n",
       "    <tr>\n",
       "      <th>Wildlife</th>\n",
       "      <td>5</td>\n",
       "      <td>1896</td>\n",
       "    </tr>\n",
       "  </tbody>\n",
       "</table>\n",
       "</div>"
      ],
      "text/plain": [
       "Adoptado         adoptado  noadoptado\n",
       "ManeraAcogida                        \n",
       "Euthanasia             19         194\n",
       "Owner Surrender      8356        4686\n",
       "Public Assist         621        3726\n",
       "Stray               16408       24088\n",
       "Wildlife                5        1896"
      ]
     },
     "execution_count": 258,
     "metadata": {},
     "output_type": "execute_result"
    }
   ],
   "source": [
    "contingencia = pd.crosstab(data[\"ManeraAcogida\"], data[\"Adoptado\"])\n",
    "chi2, pval, dof, expected = chi2_contingency(contingencia)\n",
    "print('Chi-cuadrado: ', chi2)\n",
    "contingencia"
   ]
  },
  {
   "cell_type": "code",
   "execution_count": 259,
   "id": "2cf0bd98",
   "metadata": {},
   "outputs": [
    {
     "name": "stdout",
     "output_type": "stream",
     "text": [
      "Chi-cuadrado:  1118.3609977963329\n"
     ]
    },
    {
     "data": {
      "text/html": [
       "<div>\n",
       "<style scoped>\n",
       "    .dataframe tbody tr th:only-of-type {\n",
       "        vertical-align: middle;\n",
       "    }\n",
       "\n",
       "    .dataframe tbody tr th {\n",
       "        vertical-align: top;\n",
       "    }\n",
       "\n",
       "    .dataframe thead th {\n",
       "        text-align: right;\n",
       "    }\n",
       "</style>\n",
       "<table border=\"1\" class=\"dataframe\">\n",
       "  <thead>\n",
       "    <tr style=\"text-align: right;\">\n",
       "      <th>Adoptado</th>\n",
       "      <th>adoptado</th>\n",
       "      <th>noadoptado</th>\n",
       "    </tr>\n",
       "    <tr>\n",
       "      <th>CondicionAcogida</th>\n",
       "      <th></th>\n",
       "      <th></th>\n",
       "    </tr>\n",
       "  </thead>\n",
       "  <tbody>\n",
       "    <tr>\n",
       "      <th>Aged</th>\n",
       "      <td>52</td>\n",
       "      <td>181</td>\n",
       "    </tr>\n",
       "    <tr>\n",
       "      <th>Feral</th>\n",
       "      <td>12</td>\n",
       "      <td>40</td>\n",
       "    </tr>\n",
       "    <tr>\n",
       "      <th>Normal</th>\n",
       "      <td>23993</td>\n",
       "      <td>29744</td>\n",
       "    </tr>\n",
       "    <tr>\n",
       "      <th>Other</th>\n",
       "      <td>23</td>\n",
       "      <td>81</td>\n",
       "    </tr>\n",
       "    <tr>\n",
       "      <th>Pregnant</th>\n",
       "      <td>14</td>\n",
       "      <td>25</td>\n",
       "    </tr>\n",
       "    <tr>\n",
       "      <th>Sick</th>\n",
       "      <td>1315</td>\n",
       "      <td>4519</td>\n",
       "    </tr>\n",
       "  </tbody>\n",
       "</table>\n",
       "</div>"
      ],
      "text/plain": [
       "Adoptado          adoptado  noadoptado\n",
       "CondicionAcogida                      \n",
       "Aged                    52         181\n",
       "Feral                   12          40\n",
       "Normal               23993       29744\n",
       "Other                   23          81\n",
       "Pregnant                14          25\n",
       "Sick                  1315        4519"
      ]
     },
     "execution_count": 259,
     "metadata": {},
     "output_type": "execute_result"
    }
   ],
   "source": [
    "contingencia = pd.crosstab(data[\"CondicionAcogida\"], data[\"Adoptado\"])\n",
    "chi2, pval, dof, expected = chi2_contingency(contingencia)\n",
    "print('Chi-cuadrado: ', chi2)\n",
    "contingencia"
   ]
  },
  {
   "cell_type": "code",
   "execution_count": 260,
   "id": "3442852b",
   "metadata": {},
   "outputs": [
    {
     "name": "stdout",
     "output_type": "stream",
     "text": [
      "Chi-cuadrado:  1546.7010337756035\n"
     ]
    },
    {
     "data": {
      "text/html": [
       "<div>\n",
       "<style scoped>\n",
       "    .dataframe tbody tr th:only-of-type {\n",
       "        vertical-align: middle;\n",
       "    }\n",
       "\n",
       "    .dataframe tbody tr th {\n",
       "        vertical-align: top;\n",
       "    }\n",
       "\n",
       "    .dataframe thead th {\n",
       "        text-align: right;\n",
       "    }\n",
       "</style>\n",
       "<table border=\"1\" class=\"dataframe\">\n",
       "  <thead>\n",
       "    <tr style=\"text-align: right;\">\n",
       "      <th>Adoptado</th>\n",
       "      <th>adoptado</th>\n",
       "      <th>noadoptado</th>\n",
       "    </tr>\n",
       "    <tr>\n",
       "      <th>TipoAnimal</th>\n",
       "      <th></th>\n",
       "      <th></th>\n",
       "    </tr>\n",
       "  </thead>\n",
       "  <tbody>\n",
       "    <tr>\n",
       "      <th>Bird</th>\n",
       "      <td>65</td>\n",
       "      <td>122</td>\n",
       "    </tr>\n",
       "    <tr>\n",
       "      <th>Cat</th>\n",
       "      <td>8054</td>\n",
       "      <td>10603</td>\n",
       "    </tr>\n",
       "    <tr>\n",
       "      <th>Dog</th>\n",
       "      <td>17196</td>\n",
       "      <td>21537</td>\n",
       "    </tr>\n",
       "    <tr>\n",
       "      <th>Livestock</th>\n",
       "      <td>2</td>\n",
       "      <td>3</td>\n",
       "    </tr>\n",
       "    <tr>\n",
       "      <th>Other</th>\n",
       "      <td>92</td>\n",
       "      <td>2325</td>\n",
       "    </tr>\n",
       "  </tbody>\n",
       "</table>\n",
       "</div>"
      ],
      "text/plain": [
       "Adoptado    adoptado  noadoptado\n",
       "TipoAnimal                      \n",
       "Bird              65         122\n",
       "Cat             8054       10603\n",
       "Dog            17196       21537\n",
       "Livestock          2           3\n",
       "Other             92        2325"
      ]
     },
     "execution_count": 260,
     "metadata": {},
     "output_type": "execute_result"
    }
   ],
   "source": [
    "contingencia = pd.crosstab(data[\"TipoAnimal\"], data[\"Adoptado\"])\n",
    "chi2, pval, dof, expected = chi2_contingency(contingencia)\n",
    "print('Chi-cuadrado: ', chi2)\n",
    "contingencia"
   ]
  },
  {
   "cell_type": "code",
   "execution_count": 261,
   "id": "5b921581",
   "metadata": {},
   "outputs": [
    {
     "name": "stdout",
     "output_type": "stream",
     "text": [
      "Chi-cuadrado:  11796.859154151309\n"
     ]
    },
    {
     "data": {
      "text/html": [
       "<div>\n",
       "<style scoped>\n",
       "    .dataframe tbody tr th:only-of-type {\n",
       "        vertical-align: middle;\n",
       "    }\n",
       "\n",
       "    .dataframe tbody tr th {\n",
       "        vertical-align: top;\n",
       "    }\n",
       "\n",
       "    .dataframe thead th {\n",
       "        text-align: right;\n",
       "    }\n",
       "</style>\n",
       "<table border=\"1\" class=\"dataframe\">\n",
       "  <thead>\n",
       "    <tr style=\"text-align: right;\">\n",
       "      <th>Adoptado</th>\n",
       "      <th>adoptado</th>\n",
       "      <th>noadoptado</th>\n",
       "    </tr>\n",
       "    <tr>\n",
       "      <th>SexoSalida</th>\n",
       "      <th></th>\n",
       "      <th></th>\n",
       "    </tr>\n",
       "  </thead>\n",
       "  <tbody>\n",
       "    <tr>\n",
       "      <th>Intact Female</th>\n",
       "      <td>494</td>\n",
       "      <td>5170</td>\n",
       "    </tr>\n",
       "    <tr>\n",
       "      <th>Intact Male</th>\n",
       "      <td>357</td>\n",
       "      <td>5663</td>\n",
       "    </tr>\n",
       "    <tr>\n",
       "      <th>Neutered Male</th>\n",
       "      <td>12458</td>\n",
       "      <td>11246</td>\n",
       "    </tr>\n",
       "    <tr>\n",
       "      <th>Spayed Female</th>\n",
       "      <td>12064</td>\n",
       "      <td>8643</td>\n",
       "    </tr>\n",
       "    <tr>\n",
       "      <th>Unknown</th>\n",
       "      <td>36</td>\n",
       "      <td>3868</td>\n",
       "    </tr>\n",
       "  </tbody>\n",
       "</table>\n",
       "</div>"
      ],
      "text/plain": [
       "Adoptado       adoptado  noadoptado\n",
       "SexoSalida                         \n",
       "Intact Female       494        5170\n",
       "Intact Male         357        5663\n",
       "Neutered Male     12458       11246\n",
       "Spayed Female     12064        8643\n",
       "Unknown              36        3868"
      ]
     },
     "execution_count": 261,
     "metadata": {},
     "output_type": "execute_result"
    }
   ],
   "source": [
    "contingencia = pd.crosstab(data[\"SexoSalida\"], data[\"Adoptado\"])\n",
    "chi2, pval, dof, expected = chi2_contingency(contingencia)\n",
    "print('Chi-cuadrado: ', chi2)\n",
    "contingencia"
   ]
  },
  {
   "cell_type": "code",
   "execution_count": 103,
   "id": "b80d0706",
   "metadata": {},
   "outputs": [
    {
     "name": "stdout",
     "output_type": "stream",
     "text": [
      "Chi-cuadrado:  380.9391615993997\n"
     ]
    },
    {
     "data": {
      "text/html": [
       "<div>\n",
       "<style scoped>\n",
       "    .dataframe tbody tr th:only-of-type {\n",
       "        vertical-align: middle;\n",
       "    }\n",
       "\n",
       "    .dataframe tbody tr th {\n",
       "        vertical-align: top;\n",
       "    }\n",
       "\n",
       "    .dataframe thead th {\n",
       "        text-align: right;\n",
       "    }\n",
       "</style>\n",
       "<table border=\"1\" class=\"dataframe\">\n",
       "  <thead>\n",
       "    <tr style=\"text-align: right;\">\n",
       "      <th>Adoptado</th>\n",
       "      <th>adoptado</th>\n",
       "      <th>noadoptado</th>\n",
       "    </tr>\n",
       "    <tr>\n",
       "      <th>RazaGeneral</th>\n",
       "      <th></th>\n",
       "      <th></th>\n",
       "    </tr>\n",
       "  </thead>\n",
       "  <tbody>\n",
       "    <tr>\n",
       "      <th>Beagle</th>\n",
       "      <td>307</td>\n",
       "      <td>369</td>\n",
       "    </tr>\n",
       "    <tr>\n",
       "      <th>Boxer</th>\n",
       "      <td>469</td>\n",
       "      <td>680</td>\n",
       "    </tr>\n",
       "    <tr>\n",
       "      <th>Chihuahua</th>\n",
       "      <td>2455</td>\n",
       "      <td>2608</td>\n",
       "    </tr>\n",
       "    <tr>\n",
       "      <th>Pastor</th>\n",
       "      <td>1676</td>\n",
       "      <td>1791</td>\n",
       "    </tr>\n",
       "    <tr>\n",
       "      <th>Pitbull</th>\n",
       "      <td>2295</td>\n",
       "      <td>4256</td>\n",
       "    </tr>\n",
       "    <tr>\n",
       "      <th>Poodle</th>\n",
       "      <td>471</td>\n",
       "      <td>594</td>\n",
       "    </tr>\n",
       "    <tr>\n",
       "      <th>Retriever</th>\n",
       "      <td>2608</td>\n",
       "      <td>3073</td>\n",
       "    </tr>\n",
       "    <tr>\n",
       "      <th>Rottweiler</th>\n",
       "      <td>188</td>\n",
       "      <td>288</td>\n",
       "    </tr>\n",
       "    <tr>\n",
       "      <th>Tejonero</th>\n",
       "      <td>586</td>\n",
       "      <td>541</td>\n",
       "    </tr>\n",
       "    <tr>\n",
       "      <th>Terrier</th>\n",
       "      <td>1402</td>\n",
       "      <td>1755</td>\n",
       "    </tr>\n",
       "    <tr>\n",
       "      <th>Unknow</th>\n",
       "      <td>12952</td>\n",
       "      <td>18635</td>\n",
       "    </tr>\n",
       "  </tbody>\n",
       "</table>\n",
       "</div>"
      ],
      "text/plain": [
       "Adoptado     adoptado  noadoptado\n",
       "RazaGeneral                      \n",
       "Beagle            307         369\n",
       "Boxer             469         680\n",
       "Chihuahua        2455        2608\n",
       "Pastor           1676        1791\n",
       "Pitbull          2295        4256\n",
       "Poodle            471         594\n",
       "Retriever        2608        3073\n",
       "Rottweiler        188         288\n",
       "Tejonero          586         541\n",
       "Terrier          1402        1755\n",
       "Unknow          12952       18635"
      ]
     },
     "execution_count": 103,
     "metadata": {},
     "output_type": "execute_result"
    }
   ],
   "source": [
    "contingencia = pd.crosstab(data[\"RazaGeneral\"], data[\"Adoptado\"])\n",
    "chi2, pval, dof, expected = chi2_contingency(contingencia)\n",
    "print('Chi-cuadrado: ', chi2)\n",
    "contingencia"
   ]
  },
  {
   "cell_type": "code",
   "execution_count": 104,
   "id": "7e5767f0",
   "metadata": {},
   "outputs": [
    {
     "name": "stdout",
     "output_type": "stream",
     "text": [
      "Chi-cuadrado:  409.9085631034854\n"
     ]
    },
    {
     "data": {
      "text/html": [
       "<div>\n",
       "<style scoped>\n",
       "    .dataframe tbody tr th:only-of-type {\n",
       "        vertical-align: middle;\n",
       "    }\n",
       "\n",
       "    .dataframe tbody tr th {\n",
       "        vertical-align: top;\n",
       "    }\n",
       "\n",
       "    .dataframe thead th {\n",
       "        text-align: right;\n",
       "    }\n",
       "</style>\n",
       "<table border=\"1\" class=\"dataframe\">\n",
       "  <thead>\n",
       "    <tr style=\"text-align: right;\">\n",
       "      <th>Adoptado</th>\n",
       "      <th>adoptado</th>\n",
       "      <th>noadoptado</th>\n",
       "    </tr>\n",
       "    <tr>\n",
       "      <th>ColorPrimario</th>\n",
       "      <th></th>\n",
       "      <th></th>\n",
       "    </tr>\n",
       "  </thead>\n",
       "  <tbody>\n",
       "    <tr>\n",
       "      <th>Apricot</th>\n",
       "      <td>23</td>\n",
       "      <td>31</td>\n",
       "    </tr>\n",
       "    <tr>\n",
       "      <th>Black</th>\n",
       "      <td>6440</td>\n",
       "      <td>8433</td>\n",
       "    </tr>\n",
       "    <tr>\n",
       "      <th>Blue</th>\n",
       "      <td>1816</td>\n",
       "      <td>2375</td>\n",
       "    </tr>\n",
       "    <tr>\n",
       "      <th>Blue</th>\n",
       "      <td>82</td>\n",
       "      <td>126</td>\n",
       "    </tr>\n",
       "    <tr>\n",
       "      <th>Blue  Brindle</th>\n",
       "      <td>1</td>\n",
       "      <td>1</td>\n",
       "    </tr>\n",
       "    <tr>\n",
       "      <th>Brown</th>\n",
       "      <td>4941</td>\n",
       "      <td>7567</td>\n",
       "    </tr>\n",
       "    <tr>\n",
       "      <th>Calico</th>\n",
       "      <td>461</td>\n",
       "      <td>503</td>\n",
       "    </tr>\n",
       "    <tr>\n",
       "      <th>Chocolate</th>\n",
       "      <td>865</td>\n",
       "      <td>973</td>\n",
       "    </tr>\n",
       "    <tr>\n",
       "      <th>Cream</th>\n",
       "      <td>714</td>\n",
       "      <td>837</td>\n",
       "    </tr>\n",
       "    <tr>\n",
       "      <th>Cream</th>\n",
       "      <td>13</td>\n",
       "      <td>9</td>\n",
       "    </tr>\n",
       "    <tr>\n",
       "      <th>Gold</th>\n",
       "      <td>123</td>\n",
       "      <td>164</td>\n",
       "    </tr>\n",
       "    <tr>\n",
       "      <th>Gray</th>\n",
       "      <td>138</td>\n",
       "      <td>684</td>\n",
       "    </tr>\n",
       "    <tr>\n",
       "      <th>Gray</th>\n",
       "      <td>15</td>\n",
       "      <td>38</td>\n",
       "    </tr>\n",
       "    <tr>\n",
       "      <th>Green</th>\n",
       "      <td>8</td>\n",
       "      <td>20</td>\n",
       "    </tr>\n",
       "    <tr>\n",
       "      <th>Orange</th>\n",
       "      <td>1131</td>\n",
       "      <td>1740</td>\n",
       "    </tr>\n",
       "    <tr>\n",
       "      <th>Pink</th>\n",
       "      <td>0</td>\n",
       "      <td>21</td>\n",
       "    </tr>\n",
       "    <tr>\n",
       "      <th>Red</th>\n",
       "      <td>525</td>\n",
       "      <td>666</td>\n",
       "    </tr>\n",
       "    <tr>\n",
       "      <th>Red</th>\n",
       "      <td>397</td>\n",
       "      <td>487</td>\n",
       "    </tr>\n",
       "    <tr>\n",
       "      <th>Silver</th>\n",
       "      <td>56</td>\n",
       "      <td>97</td>\n",
       "    </tr>\n",
       "    <tr>\n",
       "      <th>Tan</th>\n",
       "      <td>2097</td>\n",
       "      <td>2360</td>\n",
       "    </tr>\n",
       "    <tr>\n",
       "      <th>Tricolor</th>\n",
       "      <td>1564</td>\n",
       "      <td>1896</td>\n",
       "    </tr>\n",
       "    <tr>\n",
       "      <th>White</th>\n",
       "      <td>3515</td>\n",
       "      <td>4908</td>\n",
       "    </tr>\n",
       "    <tr>\n",
       "      <th>White</th>\n",
       "      <td>2</td>\n",
       "      <td>2</td>\n",
       "    </tr>\n",
       "    <tr>\n",
       "      <th>White/Brown</th>\n",
       "      <td>1</td>\n",
       "      <td>0</td>\n",
       "    </tr>\n",
       "    <tr>\n",
       "      <th>Yellow</th>\n",
       "      <td>432</td>\n",
       "      <td>615</td>\n",
       "    </tr>\n",
       "    <tr>\n",
       "      <th>Yellow</th>\n",
       "      <td>49</td>\n",
       "      <td>37</td>\n",
       "    </tr>\n",
       "  </tbody>\n",
       "</table>\n",
       "</div>"
      ],
      "text/plain": [
       "Adoptado       adoptado  noadoptado\n",
       "ColorPrimario                      \n",
       "Apricot              23          31\n",
       "Black              6440        8433\n",
       "Blue               1816        2375\n",
       "Blue                 82         126\n",
       "Blue  Brindle         1           1\n",
       "Brown              4941        7567\n",
       "Calico              461         503\n",
       "Chocolate           865         973\n",
       "Cream               714         837\n",
       "Cream                13           9\n",
       "Gold                123         164\n",
       "Gray                138         684\n",
       "Gray                 15          38\n",
       "Green                 8          20\n",
       "Orange             1131        1740\n",
       "Pink                  0          21\n",
       "Red                 525         666\n",
       "Red                 397         487\n",
       "Silver               56          97\n",
       "Tan                2097        2360\n",
       "Tricolor           1564        1896\n",
       "White              3515        4908\n",
       "White                 2           2\n",
       "White/Brown           1           0\n",
       "Yellow              432         615\n",
       "Yellow               49          37"
      ]
     },
     "execution_count": 104,
     "metadata": {},
     "output_type": "execute_result"
    }
   ],
   "source": [
    "contingencia = pd.crosstab(data[\"ColorPrimario\"], data[\"Adoptado\"])\n",
    "chi2, pval, dof, expected = chi2_contingency(contingencia)\n",
    "print('Chi-cuadrado: ', chi2)\n",
    "contingencia"
   ]
  },
  {
   "cell_type": "markdown",
   "id": "be580eb8",
   "metadata": {},
   "source": [
    "Las variables que utilizaremos para el modelo según el Chi van a ser las siguientes: **SexoSalida, TipoAnimal, CondicionAcogida, ManeraAcogida, TieneNombre**, esto va a ser para calcular la variable **Adoptado**, según el análisis que hicimos estas son las variables que más influyen a la hora de tomar la decisión de si el animal va a ser adoptado o no. \n",
    "\n",
    "### Modelo de Regresión Lineal Múltiple"
   ]
  },
  {
   "cell_type": "code",
   "execution_count": 105,
   "id": "6b60ae77",
   "metadata": {},
   "outputs": [
    {
     "name": "stdout",
     "output_type": "stream",
     "text": [
      "Chi-cuadrado:  11796.859154151309\n"
     ]
    },
    {
     "data": {
      "text/html": [
       "<div>\n",
       "<style scoped>\n",
       "    .dataframe tbody tr th:only-of-type {\n",
       "        vertical-align: middle;\n",
       "    }\n",
       "\n",
       "    .dataframe tbody tr th {\n",
       "        vertical-align: top;\n",
       "    }\n",
       "\n",
       "    .dataframe thead th {\n",
       "        text-align: right;\n",
       "    }\n",
       "</style>\n",
       "<table border=\"1\" class=\"dataframe\">\n",
       "  <thead>\n",
       "    <tr style=\"text-align: right;\">\n",
       "      <th>Adoptado</th>\n",
       "      <th>adoptado</th>\n",
       "      <th>noadoptado</th>\n",
       "    </tr>\n",
       "    <tr>\n",
       "      <th>SexoSalida</th>\n",
       "      <th></th>\n",
       "      <th></th>\n",
       "    </tr>\n",
       "  </thead>\n",
       "  <tbody>\n",
       "    <tr>\n",
       "      <th>Intact Female</th>\n",
       "      <td>494</td>\n",
       "      <td>5170</td>\n",
       "    </tr>\n",
       "    <tr>\n",
       "      <th>Intact Male</th>\n",
       "      <td>357</td>\n",
       "      <td>5663</td>\n",
       "    </tr>\n",
       "    <tr>\n",
       "      <th>Neutered Male</th>\n",
       "      <td>12458</td>\n",
       "      <td>11246</td>\n",
       "    </tr>\n",
       "    <tr>\n",
       "      <th>Spayed Female</th>\n",
       "      <td>12064</td>\n",
       "      <td>8643</td>\n",
       "    </tr>\n",
       "    <tr>\n",
       "      <th>Unknown</th>\n",
       "      <td>36</td>\n",
       "      <td>3868</td>\n",
       "    </tr>\n",
       "  </tbody>\n",
       "</table>\n",
       "</div>"
      ],
      "text/plain": [
       "Adoptado       adoptado  noadoptado\n",
       "SexoSalida                         \n",
       "Intact Female       494        5170\n",
       "Intact Male         357        5663\n",
       "Neutered Male     12458       11246\n",
       "Spayed Female     12064        8643\n",
       "Unknown              36        3868"
      ]
     },
     "execution_count": 105,
     "metadata": {},
     "output_type": "execute_result"
    }
   ],
   "source": [
    "contingencia = pd.crosstab(data[\"SexoSalida\"], data[\"Adoptado\"])\n",
    "chi2, pval, dof, expected = chi2_contingency(contingencia)\n",
    "print('Chi-cuadrado: ', chi2)\n",
    "contingencia"
   ]
  },
  {
   "cell_type": "code",
   "execution_count": 262,
   "id": "9ca6e36b",
   "metadata": {},
   "outputs": [
    {
     "data": {
      "text/plain": [
       "0    3\n",
       "1    5\n",
       "2    5\n",
       "3    1\n",
       "4    3\n",
       "Name: SexoSalidaNum, dtype: int64"
      ]
     },
     "execution_count": 262,
     "metadata": {},
     "output_type": "execute_result"
    }
   ],
   "source": [
    "# Diccionario para mapear categorías a números\n",
    "categoria_a_numero = {\n",
    "    \"Intact Female\": 1,\n",
    "    \"Intact Male\": 2,\n",
    "    \"Neutered Male\": 3,\n",
    "    \"Spayed Female\": 4,\n",
    "    \"Unknown\": 5\n",
    "}\n",
    "\n",
    "# Creación de la nueva columna numerada\n",
    "data[\"SexoSalidaNum\"] = data[\"SexoSalida\"].map(categoria_a_numero)\n",
    "\n",
    "data['SexoSalidaNum'].head()"
   ]
  },
  {
   "cell_type": "code",
   "execution_count": 106,
   "id": "c70825a1",
   "metadata": {},
   "outputs": [
    {
     "name": "stdout",
     "output_type": "stream",
     "text": [
      "Chi-cuadrado:  1546.7010337756035\n"
     ]
    },
    {
     "data": {
      "text/html": [
       "<div>\n",
       "<style scoped>\n",
       "    .dataframe tbody tr th:only-of-type {\n",
       "        vertical-align: middle;\n",
       "    }\n",
       "\n",
       "    .dataframe tbody tr th {\n",
       "        vertical-align: top;\n",
       "    }\n",
       "\n",
       "    .dataframe thead th {\n",
       "        text-align: right;\n",
       "    }\n",
       "</style>\n",
       "<table border=\"1\" class=\"dataframe\">\n",
       "  <thead>\n",
       "    <tr style=\"text-align: right;\">\n",
       "      <th>Adoptado</th>\n",
       "      <th>adoptado</th>\n",
       "      <th>noadoptado</th>\n",
       "    </tr>\n",
       "    <tr>\n",
       "      <th>TipoAnimal</th>\n",
       "      <th></th>\n",
       "      <th></th>\n",
       "    </tr>\n",
       "  </thead>\n",
       "  <tbody>\n",
       "    <tr>\n",
       "      <th>Bird</th>\n",
       "      <td>65</td>\n",
       "      <td>122</td>\n",
       "    </tr>\n",
       "    <tr>\n",
       "      <th>Cat</th>\n",
       "      <td>8054</td>\n",
       "      <td>10603</td>\n",
       "    </tr>\n",
       "    <tr>\n",
       "      <th>Dog</th>\n",
       "      <td>17196</td>\n",
       "      <td>21537</td>\n",
       "    </tr>\n",
       "    <tr>\n",
       "      <th>Livestock</th>\n",
       "      <td>2</td>\n",
       "      <td>3</td>\n",
       "    </tr>\n",
       "    <tr>\n",
       "      <th>Other</th>\n",
       "      <td>92</td>\n",
       "      <td>2325</td>\n",
       "    </tr>\n",
       "  </tbody>\n",
       "</table>\n",
       "</div>"
      ],
      "text/plain": [
       "Adoptado    adoptado  noadoptado\n",
       "TipoAnimal                      \n",
       "Bird              65         122\n",
       "Cat             8054       10603\n",
       "Dog            17196       21537\n",
       "Livestock          2           3\n",
       "Other             92        2325"
      ]
     },
     "execution_count": 106,
     "metadata": {},
     "output_type": "execute_result"
    }
   ],
   "source": [
    "contingencia = pd.crosstab(data[\"TipoAnimal\"], data[\"Adoptado\"])\n",
    "chi2, pval, dof, expected = chi2_contingency(contingencia)\n",
    "print('Chi-cuadrado: ', chi2)\n",
    "contingencia"
   ]
  },
  {
   "cell_type": "code",
   "execution_count": 263,
   "id": "85cabaef",
   "metadata": {},
   "outputs": [
    {
     "data": {
      "text/plain": [
       "0    3\n",
       "1    5\n",
       "2    5\n",
       "3    3\n",
       "4    3\n",
       "Name: TipoAnimalNum, dtype: int64"
      ]
     },
     "execution_count": 263,
     "metadata": {},
     "output_type": "execute_result"
    }
   ],
   "source": [
    "# Diccionario para mapear categorías a números\n",
    "categoria_a_numero = {\n",
    "    \"Bird\": 1,\n",
    "    \"Cat\": 2,\n",
    "    \"Dog\": 3,\n",
    "    \"Livestock\": 4,\n",
    "    \"Other\": 5\n",
    "}\n",
    "\n",
    "# Creación de la nueva columna numerada\n",
    "data[\"TipoAnimalNum\"] = data[\"TipoAnimal\"].map(categoria_a_numero)\n",
    "\n",
    "data['TipoAnimalNum'].head()\n"
   ]
  },
  {
   "cell_type": "code",
   "execution_count": 108,
   "id": "1ba4d92f",
   "metadata": {},
   "outputs": [
    {
     "name": "stdout",
     "output_type": "stream",
     "text": [
      "Chi-cuadrado:  5454.774673975238\n"
     ]
    },
    {
     "data": {
      "text/html": [
       "<div>\n",
       "<style scoped>\n",
       "    .dataframe tbody tr th:only-of-type {\n",
       "        vertical-align: middle;\n",
       "    }\n",
       "\n",
       "    .dataframe tbody tr th {\n",
       "        vertical-align: top;\n",
       "    }\n",
       "\n",
       "    .dataframe thead th {\n",
       "        text-align: right;\n",
       "    }\n",
       "</style>\n",
       "<table border=\"1\" class=\"dataframe\">\n",
       "  <thead>\n",
       "    <tr style=\"text-align: right;\">\n",
       "      <th>Adoptado</th>\n",
       "      <th>adoptado</th>\n",
       "      <th>noadoptado</th>\n",
       "    </tr>\n",
       "    <tr>\n",
       "      <th>ManeraAcogida</th>\n",
       "      <th></th>\n",
       "      <th></th>\n",
       "    </tr>\n",
       "  </thead>\n",
       "  <tbody>\n",
       "    <tr>\n",
       "      <th>Euthanasia</th>\n",
       "      <td>19</td>\n",
       "      <td>194</td>\n",
       "    </tr>\n",
       "    <tr>\n",
       "      <th>Owner Surrender</th>\n",
       "      <td>8356</td>\n",
       "      <td>4686</td>\n",
       "    </tr>\n",
       "    <tr>\n",
       "      <th>Public Assist</th>\n",
       "      <td>621</td>\n",
       "      <td>3726</td>\n",
       "    </tr>\n",
       "    <tr>\n",
       "      <th>Stray</th>\n",
       "      <td>16408</td>\n",
       "      <td>24088</td>\n",
       "    </tr>\n",
       "    <tr>\n",
       "      <th>Wildlife</th>\n",
       "      <td>5</td>\n",
       "      <td>1896</td>\n",
       "    </tr>\n",
       "  </tbody>\n",
       "</table>\n",
       "</div>"
      ],
      "text/plain": [
       "Adoptado         adoptado  noadoptado\n",
       "ManeraAcogida                        \n",
       "Euthanasia             19         194\n",
       "Owner Surrender      8356        4686\n",
       "Public Assist         621        3726\n",
       "Stray               16408       24088\n",
       "Wildlife                5        1896"
      ]
     },
     "execution_count": 108,
     "metadata": {},
     "output_type": "execute_result"
    }
   ],
   "source": [
    "contingencia = pd.crosstab(data[\"ManeraAcogida\"], data[\"Adoptado\"])\n",
    "chi2, pval, dof, expected = chi2_contingency(contingencia)\n",
    "print('Chi-cuadrado: ', chi2)\n",
    "contingencia"
   ]
  },
  {
   "cell_type": "code",
   "execution_count": 264,
   "id": "3b438074",
   "metadata": {},
   "outputs": [
    {
     "data": {
      "text/plain": [
       "0    4\n",
       "1    5\n",
       "2    5\n",
       "3    4\n",
       "4    4\n",
       "Name: ManeraAcogidaNum, dtype: int64"
      ]
     },
     "execution_count": 264,
     "metadata": {},
     "output_type": "execute_result"
    }
   ],
   "source": [
    "# Diccionario para mapear categorías a números\n",
    "categoria_a_numero = {\n",
    "    \"Euthanasia\": 1,\n",
    "    \"Owner Surrender\": 2,\n",
    "    \"Public Assist\": 3,\n",
    "    \"Stray\": 4,\n",
    "    \"Wildlife\": 5\n",
    "}\n",
    "\n",
    "# Creación de la nueva columna numerada\n",
    "data[\"ManeraAcogidaNum\"] = data[\"ManeraAcogida\"].map(categoria_a_numero)\n",
    "\n",
    "data['ManeraAcogidaNum'].head()"
   ]
  },
  {
   "cell_type": "code",
   "execution_count": 109,
   "id": "f44cfa9a",
   "metadata": {},
   "outputs": [
    {
     "name": "stdout",
     "output_type": "stream",
     "text": [
      "Chi-cuadrado:  3179.666263109603\n"
     ]
    },
    {
     "data": {
      "text/html": [
       "<div>\n",
       "<style scoped>\n",
       "    .dataframe tbody tr th:only-of-type {\n",
       "        vertical-align: middle;\n",
       "    }\n",
       "\n",
       "    .dataframe tbody tr th {\n",
       "        vertical-align: top;\n",
       "    }\n",
       "\n",
       "    .dataframe thead th {\n",
       "        text-align: right;\n",
       "    }\n",
       "</style>\n",
       "<table border=\"1\" class=\"dataframe\">\n",
       "  <thead>\n",
       "    <tr style=\"text-align: right;\">\n",
       "      <th>Adoptado</th>\n",
       "      <th>adoptado</th>\n",
       "      <th>noadoptado</th>\n",
       "    </tr>\n",
       "    <tr>\n",
       "      <th>TieneNombre</th>\n",
       "      <th></th>\n",
       "      <th></th>\n",
       "    </tr>\n",
       "  </thead>\n",
       "  <tbody>\n",
       "    <tr>\n",
       "      <th>nombre</th>\n",
       "      <td>22357</td>\n",
       "      <td>23613</td>\n",
       "    </tr>\n",
       "    <tr>\n",
       "      <th>nonombre</th>\n",
       "      <td>3052</td>\n",
       "      <td>10977</td>\n",
       "    </tr>\n",
       "  </tbody>\n",
       "</table>\n",
       "</div>"
      ],
      "text/plain": [
       "Adoptado     adoptado  noadoptado\n",
       "TieneNombre                      \n",
       "nombre          22357       23613\n",
       "nonombre         3052       10977"
      ]
     },
     "execution_count": 109,
     "metadata": {},
     "output_type": "execute_result"
    }
   ],
   "source": [
    "contingencia = pd.crosstab(data[\"TieneNombre\"], data[\"Adoptado\"])\n",
    "chi2, pval, dof, expected = chi2_contingency(contingencia)\n",
    "print('Chi-cuadrado: ', chi2)\n",
    "contingencia"
   ]
  },
  {
   "cell_type": "code",
   "execution_count": 265,
   "id": "0b14c59b",
   "metadata": {},
   "outputs": [
    {
     "data": {
      "text/plain": [
       "0    1\n",
       "1    2\n",
       "2    2\n",
       "3    2\n",
       "4    1\n",
       "Name: NombreNum, dtype: int64"
      ]
     },
     "execution_count": 265,
     "metadata": {},
     "output_type": "execute_result"
    }
   ],
   "source": [
    "# Diccionario para mapear categorías a números\n",
    "categoria_a_numero = {\n",
    "    \"nombre\": 1,\n",
    "    \"nonombre\": 2\n",
    "}\n",
    "\n",
    "# Creación de la nueva columna numerada\n",
    "data[\"NombreNum\"] = data[\"TieneNombre\"].map(categoria_a_numero)\n",
    "\n",
    "data['NombreNum'].head()"
   ]
  },
  {
   "cell_type": "code",
   "execution_count": 266,
   "id": "0ff8cc0f",
   "metadata": {},
   "outputs": [
    {
     "data": {
      "text/plain": [
       "0    1\n",
       "1    0\n",
       "2    0\n",
       "3    0\n",
       "4    1\n",
       "Name: AdoptadoNum, dtype: int64"
      ]
     },
     "execution_count": 266,
     "metadata": {},
     "output_type": "execute_result"
    }
   ],
   "source": [
    "# Diccionario para mapear categorías a números\n",
    "categoria_a_numero = {\n",
    "    \"adoptado\": 1,\n",
    "    \"noadoptado\": 0\n",
    "}\n",
    "\n",
    "# Creación de la nueva columna numerada\n",
    "data[\"AdoptadoNum\"] = data[\"Adoptado\"].map(categoria_a_numero)\n",
    "\n",
    "data['AdoptadoNum'].head()"
   ]
  },
  {
   "cell_type": "code",
   "execution_count": 115,
   "id": "095efd45",
   "metadata": {},
   "outputs": [],
   "source": [
    "import sklearn\n",
    "from sklearn.linear_model import LinearRegression"
   ]
  },
  {
   "cell_type": "code",
   "execution_count": 273,
   "id": "43ea352e",
   "metadata": {},
   "outputs": [
    {
     "data": {
      "text/html": [
       "<style>#sk-container-id-7 {\n",
       "  /* Definition of color scheme common for light and dark mode */\n",
       "  --sklearn-color-text: black;\n",
       "  --sklearn-color-line: gray;\n",
       "  /* Definition of color scheme for unfitted estimators */\n",
       "  --sklearn-color-unfitted-level-0: #fff5e6;\n",
       "  --sklearn-color-unfitted-level-1: #f6e4d2;\n",
       "  --sklearn-color-unfitted-level-2: #ffe0b3;\n",
       "  --sklearn-color-unfitted-level-3: chocolate;\n",
       "  /* Definition of color scheme for fitted estimators */\n",
       "  --sklearn-color-fitted-level-0: #f0f8ff;\n",
       "  --sklearn-color-fitted-level-1: #d4ebff;\n",
       "  --sklearn-color-fitted-level-2: #b3dbfd;\n",
       "  --sklearn-color-fitted-level-3: cornflowerblue;\n",
       "\n",
       "  /* Specific color for light theme */\n",
       "  --sklearn-color-text-on-default-background: var(--sg-text-color, var(--theme-code-foreground, var(--jp-content-font-color1, black)));\n",
       "  --sklearn-color-background: var(--sg-background-color, var(--theme-background, var(--jp-layout-color0, white)));\n",
       "  --sklearn-color-border-box: var(--sg-text-color, var(--theme-code-foreground, var(--jp-content-font-color1, black)));\n",
       "  --sklearn-color-icon: #696969;\n",
       "\n",
       "  @media (prefers-color-scheme: dark) {\n",
       "    /* Redefinition of color scheme for dark theme */\n",
       "    --sklearn-color-text-on-default-background: var(--sg-text-color, var(--theme-code-foreground, var(--jp-content-font-color1, white)));\n",
       "    --sklearn-color-background: var(--sg-background-color, var(--theme-background, var(--jp-layout-color0, #111)));\n",
       "    --sklearn-color-border-box: var(--sg-text-color, var(--theme-code-foreground, var(--jp-content-font-color1, white)));\n",
       "    --sklearn-color-icon: #878787;\n",
       "  }\n",
       "}\n",
       "\n",
       "#sk-container-id-7 {\n",
       "  color: var(--sklearn-color-text);\n",
       "}\n",
       "\n",
       "#sk-container-id-7 pre {\n",
       "  padding: 0;\n",
       "}\n",
       "\n",
       "#sk-container-id-7 input.sk-hidden--visually {\n",
       "  border: 0;\n",
       "  clip: rect(1px 1px 1px 1px);\n",
       "  clip: rect(1px, 1px, 1px, 1px);\n",
       "  height: 1px;\n",
       "  margin: -1px;\n",
       "  overflow: hidden;\n",
       "  padding: 0;\n",
       "  position: absolute;\n",
       "  width: 1px;\n",
       "}\n",
       "\n",
       "#sk-container-id-7 div.sk-dashed-wrapped {\n",
       "  border: 1px dashed var(--sklearn-color-line);\n",
       "  margin: 0 0.4em 0.5em 0.4em;\n",
       "  box-sizing: border-box;\n",
       "  padding-bottom: 0.4em;\n",
       "  background-color: var(--sklearn-color-background);\n",
       "}\n",
       "\n",
       "#sk-container-id-7 div.sk-container {\n",
       "  /* jupyter's `normalize.less` sets `[hidden] { display: none; }`\n",
       "     but bootstrap.min.css set `[hidden] { display: none !important; }`\n",
       "     so we also need the `!important` here to be able to override the\n",
       "     default hidden behavior on the sphinx rendered scikit-learn.org.\n",
       "     See: https://github.com/scikit-learn/scikit-learn/issues/21755 */\n",
       "  display: inline-block !important;\n",
       "  position: relative;\n",
       "}\n",
       "\n",
       "#sk-container-id-7 div.sk-text-repr-fallback {\n",
       "  display: none;\n",
       "}\n",
       "\n",
       "div.sk-parallel-item,\n",
       "div.sk-serial,\n",
       "div.sk-item {\n",
       "  /* draw centered vertical line to link estimators */\n",
       "  background-image: linear-gradient(var(--sklearn-color-text-on-default-background), var(--sklearn-color-text-on-default-background));\n",
       "  background-size: 2px 100%;\n",
       "  background-repeat: no-repeat;\n",
       "  background-position: center center;\n",
       "}\n",
       "\n",
       "/* Parallel-specific style estimator block */\n",
       "\n",
       "#sk-container-id-7 div.sk-parallel-item::after {\n",
       "  content: \"\";\n",
       "  width: 100%;\n",
       "  border-bottom: 2px solid var(--sklearn-color-text-on-default-background);\n",
       "  flex-grow: 1;\n",
       "}\n",
       "\n",
       "#sk-container-id-7 div.sk-parallel {\n",
       "  display: flex;\n",
       "  align-items: stretch;\n",
       "  justify-content: center;\n",
       "  background-color: var(--sklearn-color-background);\n",
       "  position: relative;\n",
       "}\n",
       "\n",
       "#sk-container-id-7 div.sk-parallel-item {\n",
       "  display: flex;\n",
       "  flex-direction: column;\n",
       "}\n",
       "\n",
       "#sk-container-id-7 div.sk-parallel-item:first-child::after {\n",
       "  align-self: flex-end;\n",
       "  width: 50%;\n",
       "}\n",
       "\n",
       "#sk-container-id-7 div.sk-parallel-item:last-child::after {\n",
       "  align-self: flex-start;\n",
       "  width: 50%;\n",
       "}\n",
       "\n",
       "#sk-container-id-7 div.sk-parallel-item:only-child::after {\n",
       "  width: 0;\n",
       "}\n",
       "\n",
       "/* Serial-specific style estimator block */\n",
       "\n",
       "#sk-container-id-7 div.sk-serial {\n",
       "  display: flex;\n",
       "  flex-direction: column;\n",
       "  align-items: center;\n",
       "  background-color: var(--sklearn-color-background);\n",
       "  padding-right: 1em;\n",
       "  padding-left: 1em;\n",
       "}\n",
       "\n",
       "\n",
       "/* Toggleable style: style used for estimator/Pipeline/ColumnTransformer box that is\n",
       "clickable and can be expanded/collapsed.\n",
       "- Pipeline and ColumnTransformer use this feature and define the default style\n",
       "- Estimators will overwrite some part of the style using the `sk-estimator` class\n",
       "*/\n",
       "\n",
       "/* Pipeline and ColumnTransformer style (default) */\n",
       "\n",
       "#sk-container-id-7 div.sk-toggleable {\n",
       "  /* Default theme specific background. It is overwritten whether we have a\n",
       "  specific estimator or a Pipeline/ColumnTransformer */\n",
       "  background-color: var(--sklearn-color-background);\n",
       "}\n",
       "\n",
       "/* Toggleable label */\n",
       "#sk-container-id-7 label.sk-toggleable__label {\n",
       "  cursor: pointer;\n",
       "  display: block;\n",
       "  width: 100%;\n",
       "  margin-bottom: 0;\n",
       "  padding: 0.5em;\n",
       "  box-sizing: border-box;\n",
       "  text-align: center;\n",
       "}\n",
       "\n",
       "#sk-container-id-7 label.sk-toggleable__label-arrow:before {\n",
       "  /* Arrow on the left of the label */\n",
       "  content: \"▸\";\n",
       "  float: left;\n",
       "  margin-right: 0.25em;\n",
       "  color: var(--sklearn-color-icon);\n",
       "}\n",
       "\n",
       "#sk-container-id-7 label.sk-toggleable__label-arrow:hover:before {\n",
       "  color: var(--sklearn-color-text);\n",
       "}\n",
       "\n",
       "/* Toggleable content - dropdown */\n",
       "\n",
       "#sk-container-id-7 div.sk-toggleable__content {\n",
       "  max-height: 0;\n",
       "  max-width: 0;\n",
       "  overflow: hidden;\n",
       "  text-align: left;\n",
       "  /* unfitted */\n",
       "  background-color: var(--sklearn-color-unfitted-level-0);\n",
       "}\n",
       "\n",
       "#sk-container-id-7 div.sk-toggleable__content.fitted {\n",
       "  /* fitted */\n",
       "  background-color: var(--sklearn-color-fitted-level-0);\n",
       "}\n",
       "\n",
       "#sk-container-id-7 div.sk-toggleable__content pre {\n",
       "  margin: 0.2em;\n",
       "  border-radius: 0.25em;\n",
       "  color: var(--sklearn-color-text);\n",
       "  /* unfitted */\n",
       "  background-color: var(--sklearn-color-unfitted-level-0);\n",
       "}\n",
       "\n",
       "#sk-container-id-7 div.sk-toggleable__content.fitted pre {\n",
       "  /* unfitted */\n",
       "  background-color: var(--sklearn-color-fitted-level-0);\n",
       "}\n",
       "\n",
       "#sk-container-id-7 input.sk-toggleable__control:checked~div.sk-toggleable__content {\n",
       "  /* Expand drop-down */\n",
       "  max-height: 200px;\n",
       "  max-width: 100%;\n",
       "  overflow: auto;\n",
       "}\n",
       "\n",
       "#sk-container-id-7 input.sk-toggleable__control:checked~label.sk-toggleable__label-arrow:before {\n",
       "  content: \"▾\";\n",
       "}\n",
       "\n",
       "/* Pipeline/ColumnTransformer-specific style */\n",
       "\n",
       "#sk-container-id-7 div.sk-label input.sk-toggleable__control:checked~label.sk-toggleable__label {\n",
       "  color: var(--sklearn-color-text);\n",
       "  background-color: var(--sklearn-color-unfitted-level-2);\n",
       "}\n",
       "\n",
       "#sk-container-id-7 div.sk-label.fitted input.sk-toggleable__control:checked~label.sk-toggleable__label {\n",
       "  background-color: var(--sklearn-color-fitted-level-2);\n",
       "}\n",
       "\n",
       "/* Estimator-specific style */\n",
       "\n",
       "/* Colorize estimator box */\n",
       "#sk-container-id-7 div.sk-estimator input.sk-toggleable__control:checked~label.sk-toggleable__label {\n",
       "  /* unfitted */\n",
       "  background-color: var(--sklearn-color-unfitted-level-2);\n",
       "}\n",
       "\n",
       "#sk-container-id-7 div.sk-estimator.fitted input.sk-toggleable__control:checked~label.sk-toggleable__label {\n",
       "  /* fitted */\n",
       "  background-color: var(--sklearn-color-fitted-level-2);\n",
       "}\n",
       "\n",
       "#sk-container-id-7 div.sk-label label.sk-toggleable__label,\n",
       "#sk-container-id-7 div.sk-label label {\n",
       "  /* The background is the default theme color */\n",
       "  color: var(--sklearn-color-text-on-default-background);\n",
       "}\n",
       "\n",
       "/* On hover, darken the color of the background */\n",
       "#sk-container-id-7 div.sk-label:hover label.sk-toggleable__label {\n",
       "  color: var(--sklearn-color-text);\n",
       "  background-color: var(--sklearn-color-unfitted-level-2);\n",
       "}\n",
       "\n",
       "/* Label box, darken color on hover, fitted */\n",
       "#sk-container-id-7 div.sk-label.fitted:hover label.sk-toggleable__label.fitted {\n",
       "  color: var(--sklearn-color-text);\n",
       "  background-color: var(--sklearn-color-fitted-level-2);\n",
       "}\n",
       "\n",
       "/* Estimator label */\n",
       "\n",
       "#sk-container-id-7 div.sk-label label {\n",
       "  font-family: monospace;\n",
       "  font-weight: bold;\n",
       "  display: inline-block;\n",
       "  line-height: 1.2em;\n",
       "}\n",
       "\n",
       "#sk-container-id-7 div.sk-label-container {\n",
       "  text-align: center;\n",
       "}\n",
       "\n",
       "/* Estimator-specific */\n",
       "#sk-container-id-7 div.sk-estimator {\n",
       "  font-family: monospace;\n",
       "  border: 1px dotted var(--sklearn-color-border-box);\n",
       "  border-radius: 0.25em;\n",
       "  box-sizing: border-box;\n",
       "  margin-bottom: 0.5em;\n",
       "  /* unfitted */\n",
       "  background-color: var(--sklearn-color-unfitted-level-0);\n",
       "}\n",
       "\n",
       "#sk-container-id-7 div.sk-estimator.fitted {\n",
       "  /* fitted */\n",
       "  background-color: var(--sklearn-color-fitted-level-0);\n",
       "}\n",
       "\n",
       "/* on hover */\n",
       "#sk-container-id-7 div.sk-estimator:hover {\n",
       "  /* unfitted */\n",
       "  background-color: var(--sklearn-color-unfitted-level-2);\n",
       "}\n",
       "\n",
       "#sk-container-id-7 div.sk-estimator.fitted:hover {\n",
       "  /* fitted */\n",
       "  background-color: var(--sklearn-color-fitted-level-2);\n",
       "}\n",
       "\n",
       "/* Specification for estimator info (e.g. \"i\" and \"?\") */\n",
       "\n",
       "/* Common style for \"i\" and \"?\" */\n",
       "\n",
       ".sk-estimator-doc-link,\n",
       "a:link.sk-estimator-doc-link,\n",
       "a:visited.sk-estimator-doc-link {\n",
       "  float: right;\n",
       "  font-size: smaller;\n",
       "  line-height: 1em;\n",
       "  font-family: monospace;\n",
       "  background-color: var(--sklearn-color-background);\n",
       "  border-radius: 1em;\n",
       "  height: 1em;\n",
       "  width: 1em;\n",
       "  text-decoration: none !important;\n",
       "  margin-left: 1ex;\n",
       "  /* unfitted */\n",
       "  border: var(--sklearn-color-unfitted-level-1) 1pt solid;\n",
       "  color: var(--sklearn-color-unfitted-level-1);\n",
       "}\n",
       "\n",
       ".sk-estimator-doc-link.fitted,\n",
       "a:link.sk-estimator-doc-link.fitted,\n",
       "a:visited.sk-estimator-doc-link.fitted {\n",
       "  /* fitted */\n",
       "  border: var(--sklearn-color-fitted-level-1) 1pt solid;\n",
       "  color: var(--sklearn-color-fitted-level-1);\n",
       "}\n",
       "\n",
       "/* On hover */\n",
       "div.sk-estimator:hover .sk-estimator-doc-link:hover,\n",
       ".sk-estimator-doc-link:hover,\n",
       "div.sk-label-container:hover .sk-estimator-doc-link:hover,\n",
       ".sk-estimator-doc-link:hover {\n",
       "  /* unfitted */\n",
       "  background-color: var(--sklearn-color-unfitted-level-3);\n",
       "  color: var(--sklearn-color-background);\n",
       "  text-decoration: none;\n",
       "}\n",
       "\n",
       "div.sk-estimator.fitted:hover .sk-estimator-doc-link.fitted:hover,\n",
       ".sk-estimator-doc-link.fitted:hover,\n",
       "div.sk-label-container:hover .sk-estimator-doc-link.fitted:hover,\n",
       ".sk-estimator-doc-link.fitted:hover {\n",
       "  /* fitted */\n",
       "  background-color: var(--sklearn-color-fitted-level-3);\n",
       "  color: var(--sklearn-color-background);\n",
       "  text-decoration: none;\n",
       "}\n",
       "\n",
       "/* Span, style for the box shown on hovering the info icon */\n",
       ".sk-estimator-doc-link span {\n",
       "  display: none;\n",
       "  z-index: 9999;\n",
       "  position: relative;\n",
       "  font-weight: normal;\n",
       "  right: .2ex;\n",
       "  padding: .5ex;\n",
       "  margin: .5ex;\n",
       "  width: min-content;\n",
       "  min-width: 20ex;\n",
       "  max-width: 50ex;\n",
       "  color: var(--sklearn-color-text);\n",
       "  box-shadow: 2pt 2pt 4pt #999;\n",
       "  /* unfitted */\n",
       "  background: var(--sklearn-color-unfitted-level-0);\n",
       "  border: .5pt solid var(--sklearn-color-unfitted-level-3);\n",
       "}\n",
       "\n",
       ".sk-estimator-doc-link.fitted span {\n",
       "  /* fitted */\n",
       "  background: var(--sklearn-color-fitted-level-0);\n",
       "  border: var(--sklearn-color-fitted-level-3);\n",
       "}\n",
       "\n",
       ".sk-estimator-doc-link:hover span {\n",
       "  display: block;\n",
       "}\n",
       "\n",
       "/* \"?\"-specific style due to the `<a>` HTML tag */\n",
       "\n",
       "#sk-container-id-7 a.estimator_doc_link {\n",
       "  float: right;\n",
       "  font-size: 1rem;\n",
       "  line-height: 1em;\n",
       "  font-family: monospace;\n",
       "  background-color: var(--sklearn-color-background);\n",
       "  border-radius: 1rem;\n",
       "  height: 1rem;\n",
       "  width: 1rem;\n",
       "  text-decoration: none;\n",
       "  /* unfitted */\n",
       "  color: var(--sklearn-color-unfitted-level-1);\n",
       "  border: var(--sklearn-color-unfitted-level-1) 1pt solid;\n",
       "}\n",
       "\n",
       "#sk-container-id-7 a.estimator_doc_link.fitted {\n",
       "  /* fitted */\n",
       "  border: var(--sklearn-color-fitted-level-1) 1pt solid;\n",
       "  color: var(--sklearn-color-fitted-level-1);\n",
       "}\n",
       "\n",
       "/* On hover */\n",
       "#sk-container-id-7 a.estimator_doc_link:hover {\n",
       "  /* unfitted */\n",
       "  background-color: var(--sklearn-color-unfitted-level-3);\n",
       "  color: var(--sklearn-color-background);\n",
       "  text-decoration: none;\n",
       "}\n",
       "\n",
       "#sk-container-id-7 a.estimator_doc_link.fitted:hover {\n",
       "  /* fitted */\n",
       "  background-color: var(--sklearn-color-fitted-level-3);\n",
       "}\n",
       "</style><div id=\"sk-container-id-7\" class=\"sk-top-container\"><div class=\"sk-text-repr-fallback\"><pre>LinearRegression()</pre><b>In a Jupyter environment, please rerun this cell to show the HTML representation or trust the notebook. <br />On GitHub, the HTML representation is unable to render, please try loading this page with nbviewer.org.</b></div><div class=\"sk-container\" hidden><div class=\"sk-item\"><div class=\"sk-estimator  sk-toggleable\"><input class=\"sk-toggleable__control sk-hidden--visually\" id=\"sk-estimator-id-7\" type=\"checkbox\" checked><label for=\"sk-estimator-id-7\" class=\"sk-toggleable__label  sk-toggleable__label-arrow \">&nbsp;&nbsp;LinearRegression<a class=\"sk-estimator-doc-link \" rel=\"noreferrer\" target=\"_blank\" href=\"https://scikit-learn.org/1.4/modules/generated/sklearn.linear_model.LinearRegression.html\">?<span>Documentation for LinearRegression</span></a><span class=\"sk-estimator-doc-link \">i<span>Not fitted</span></span></label><div class=\"sk-toggleable__content \"><pre>LinearRegression()</pre></div> </div></div></div></div>"
      ],
      "text/plain": [
       "LinearRegression()"
      ]
     },
     "execution_count": 273,
     "metadata": {},
     "output_type": "execute_result"
    }
   ],
   "source": [
    "lm = LinearRegression()\n",
    "lm"
   ]
  },
  {
   "cell_type": "code",
   "execution_count": 274,
   "id": "85ac3de6",
   "metadata": {},
   "outputs": [],
   "source": [
    "X = data[['SexoSalidaNum']]\n",
    "Y = data['AdoptadoNum']"
   ]
  },
  {
   "cell_type": "code",
   "execution_count": 275,
   "id": "9649e07e",
   "metadata": {},
   "outputs": [
    {
     "data": {
      "text/html": [
       "<style>#sk-container-id-8 {\n",
       "  /* Definition of color scheme common for light and dark mode */\n",
       "  --sklearn-color-text: black;\n",
       "  --sklearn-color-line: gray;\n",
       "  /* Definition of color scheme for unfitted estimators */\n",
       "  --sklearn-color-unfitted-level-0: #fff5e6;\n",
       "  --sklearn-color-unfitted-level-1: #f6e4d2;\n",
       "  --sklearn-color-unfitted-level-2: #ffe0b3;\n",
       "  --sklearn-color-unfitted-level-3: chocolate;\n",
       "  /* Definition of color scheme for fitted estimators */\n",
       "  --sklearn-color-fitted-level-0: #f0f8ff;\n",
       "  --sklearn-color-fitted-level-1: #d4ebff;\n",
       "  --sklearn-color-fitted-level-2: #b3dbfd;\n",
       "  --sklearn-color-fitted-level-3: cornflowerblue;\n",
       "\n",
       "  /* Specific color for light theme */\n",
       "  --sklearn-color-text-on-default-background: var(--sg-text-color, var(--theme-code-foreground, var(--jp-content-font-color1, black)));\n",
       "  --sklearn-color-background: var(--sg-background-color, var(--theme-background, var(--jp-layout-color0, white)));\n",
       "  --sklearn-color-border-box: var(--sg-text-color, var(--theme-code-foreground, var(--jp-content-font-color1, black)));\n",
       "  --sklearn-color-icon: #696969;\n",
       "\n",
       "  @media (prefers-color-scheme: dark) {\n",
       "    /* Redefinition of color scheme for dark theme */\n",
       "    --sklearn-color-text-on-default-background: var(--sg-text-color, var(--theme-code-foreground, var(--jp-content-font-color1, white)));\n",
       "    --sklearn-color-background: var(--sg-background-color, var(--theme-background, var(--jp-layout-color0, #111)));\n",
       "    --sklearn-color-border-box: var(--sg-text-color, var(--theme-code-foreground, var(--jp-content-font-color1, white)));\n",
       "    --sklearn-color-icon: #878787;\n",
       "  }\n",
       "}\n",
       "\n",
       "#sk-container-id-8 {\n",
       "  color: var(--sklearn-color-text);\n",
       "}\n",
       "\n",
       "#sk-container-id-8 pre {\n",
       "  padding: 0;\n",
       "}\n",
       "\n",
       "#sk-container-id-8 input.sk-hidden--visually {\n",
       "  border: 0;\n",
       "  clip: rect(1px 1px 1px 1px);\n",
       "  clip: rect(1px, 1px, 1px, 1px);\n",
       "  height: 1px;\n",
       "  margin: -1px;\n",
       "  overflow: hidden;\n",
       "  padding: 0;\n",
       "  position: absolute;\n",
       "  width: 1px;\n",
       "}\n",
       "\n",
       "#sk-container-id-8 div.sk-dashed-wrapped {\n",
       "  border: 1px dashed var(--sklearn-color-line);\n",
       "  margin: 0 0.4em 0.5em 0.4em;\n",
       "  box-sizing: border-box;\n",
       "  padding-bottom: 0.4em;\n",
       "  background-color: var(--sklearn-color-background);\n",
       "}\n",
       "\n",
       "#sk-container-id-8 div.sk-container {\n",
       "  /* jupyter's `normalize.less` sets `[hidden] { display: none; }`\n",
       "     but bootstrap.min.css set `[hidden] { display: none !important; }`\n",
       "     so we also need the `!important` here to be able to override the\n",
       "     default hidden behavior on the sphinx rendered scikit-learn.org.\n",
       "     See: https://github.com/scikit-learn/scikit-learn/issues/21755 */\n",
       "  display: inline-block !important;\n",
       "  position: relative;\n",
       "}\n",
       "\n",
       "#sk-container-id-8 div.sk-text-repr-fallback {\n",
       "  display: none;\n",
       "}\n",
       "\n",
       "div.sk-parallel-item,\n",
       "div.sk-serial,\n",
       "div.sk-item {\n",
       "  /* draw centered vertical line to link estimators */\n",
       "  background-image: linear-gradient(var(--sklearn-color-text-on-default-background), var(--sklearn-color-text-on-default-background));\n",
       "  background-size: 2px 100%;\n",
       "  background-repeat: no-repeat;\n",
       "  background-position: center center;\n",
       "}\n",
       "\n",
       "/* Parallel-specific style estimator block */\n",
       "\n",
       "#sk-container-id-8 div.sk-parallel-item::after {\n",
       "  content: \"\";\n",
       "  width: 100%;\n",
       "  border-bottom: 2px solid var(--sklearn-color-text-on-default-background);\n",
       "  flex-grow: 1;\n",
       "}\n",
       "\n",
       "#sk-container-id-8 div.sk-parallel {\n",
       "  display: flex;\n",
       "  align-items: stretch;\n",
       "  justify-content: center;\n",
       "  background-color: var(--sklearn-color-background);\n",
       "  position: relative;\n",
       "}\n",
       "\n",
       "#sk-container-id-8 div.sk-parallel-item {\n",
       "  display: flex;\n",
       "  flex-direction: column;\n",
       "}\n",
       "\n",
       "#sk-container-id-8 div.sk-parallel-item:first-child::after {\n",
       "  align-self: flex-end;\n",
       "  width: 50%;\n",
       "}\n",
       "\n",
       "#sk-container-id-8 div.sk-parallel-item:last-child::after {\n",
       "  align-self: flex-start;\n",
       "  width: 50%;\n",
       "}\n",
       "\n",
       "#sk-container-id-8 div.sk-parallel-item:only-child::after {\n",
       "  width: 0;\n",
       "}\n",
       "\n",
       "/* Serial-specific style estimator block */\n",
       "\n",
       "#sk-container-id-8 div.sk-serial {\n",
       "  display: flex;\n",
       "  flex-direction: column;\n",
       "  align-items: center;\n",
       "  background-color: var(--sklearn-color-background);\n",
       "  padding-right: 1em;\n",
       "  padding-left: 1em;\n",
       "}\n",
       "\n",
       "\n",
       "/* Toggleable style: style used for estimator/Pipeline/ColumnTransformer box that is\n",
       "clickable and can be expanded/collapsed.\n",
       "- Pipeline and ColumnTransformer use this feature and define the default style\n",
       "- Estimators will overwrite some part of the style using the `sk-estimator` class\n",
       "*/\n",
       "\n",
       "/* Pipeline and ColumnTransformer style (default) */\n",
       "\n",
       "#sk-container-id-8 div.sk-toggleable {\n",
       "  /* Default theme specific background. It is overwritten whether we have a\n",
       "  specific estimator or a Pipeline/ColumnTransformer */\n",
       "  background-color: var(--sklearn-color-background);\n",
       "}\n",
       "\n",
       "/* Toggleable label */\n",
       "#sk-container-id-8 label.sk-toggleable__label {\n",
       "  cursor: pointer;\n",
       "  display: block;\n",
       "  width: 100%;\n",
       "  margin-bottom: 0;\n",
       "  padding: 0.5em;\n",
       "  box-sizing: border-box;\n",
       "  text-align: center;\n",
       "}\n",
       "\n",
       "#sk-container-id-8 label.sk-toggleable__label-arrow:before {\n",
       "  /* Arrow on the left of the label */\n",
       "  content: \"▸\";\n",
       "  float: left;\n",
       "  margin-right: 0.25em;\n",
       "  color: var(--sklearn-color-icon);\n",
       "}\n",
       "\n",
       "#sk-container-id-8 label.sk-toggleable__label-arrow:hover:before {\n",
       "  color: var(--sklearn-color-text);\n",
       "}\n",
       "\n",
       "/* Toggleable content - dropdown */\n",
       "\n",
       "#sk-container-id-8 div.sk-toggleable__content {\n",
       "  max-height: 0;\n",
       "  max-width: 0;\n",
       "  overflow: hidden;\n",
       "  text-align: left;\n",
       "  /* unfitted */\n",
       "  background-color: var(--sklearn-color-unfitted-level-0);\n",
       "}\n",
       "\n",
       "#sk-container-id-8 div.sk-toggleable__content.fitted {\n",
       "  /* fitted */\n",
       "  background-color: var(--sklearn-color-fitted-level-0);\n",
       "}\n",
       "\n",
       "#sk-container-id-8 div.sk-toggleable__content pre {\n",
       "  margin: 0.2em;\n",
       "  border-radius: 0.25em;\n",
       "  color: var(--sklearn-color-text);\n",
       "  /* unfitted */\n",
       "  background-color: var(--sklearn-color-unfitted-level-0);\n",
       "}\n",
       "\n",
       "#sk-container-id-8 div.sk-toggleable__content.fitted pre {\n",
       "  /* unfitted */\n",
       "  background-color: var(--sklearn-color-fitted-level-0);\n",
       "}\n",
       "\n",
       "#sk-container-id-8 input.sk-toggleable__control:checked~div.sk-toggleable__content {\n",
       "  /* Expand drop-down */\n",
       "  max-height: 200px;\n",
       "  max-width: 100%;\n",
       "  overflow: auto;\n",
       "}\n",
       "\n",
       "#sk-container-id-8 input.sk-toggleable__control:checked~label.sk-toggleable__label-arrow:before {\n",
       "  content: \"▾\";\n",
       "}\n",
       "\n",
       "/* Pipeline/ColumnTransformer-specific style */\n",
       "\n",
       "#sk-container-id-8 div.sk-label input.sk-toggleable__control:checked~label.sk-toggleable__label {\n",
       "  color: var(--sklearn-color-text);\n",
       "  background-color: var(--sklearn-color-unfitted-level-2);\n",
       "}\n",
       "\n",
       "#sk-container-id-8 div.sk-label.fitted input.sk-toggleable__control:checked~label.sk-toggleable__label {\n",
       "  background-color: var(--sklearn-color-fitted-level-2);\n",
       "}\n",
       "\n",
       "/* Estimator-specific style */\n",
       "\n",
       "/* Colorize estimator box */\n",
       "#sk-container-id-8 div.sk-estimator input.sk-toggleable__control:checked~label.sk-toggleable__label {\n",
       "  /* unfitted */\n",
       "  background-color: var(--sklearn-color-unfitted-level-2);\n",
       "}\n",
       "\n",
       "#sk-container-id-8 div.sk-estimator.fitted input.sk-toggleable__control:checked~label.sk-toggleable__label {\n",
       "  /* fitted */\n",
       "  background-color: var(--sklearn-color-fitted-level-2);\n",
       "}\n",
       "\n",
       "#sk-container-id-8 div.sk-label label.sk-toggleable__label,\n",
       "#sk-container-id-8 div.sk-label label {\n",
       "  /* The background is the default theme color */\n",
       "  color: var(--sklearn-color-text-on-default-background);\n",
       "}\n",
       "\n",
       "/* On hover, darken the color of the background */\n",
       "#sk-container-id-8 div.sk-label:hover label.sk-toggleable__label {\n",
       "  color: var(--sklearn-color-text);\n",
       "  background-color: var(--sklearn-color-unfitted-level-2);\n",
       "}\n",
       "\n",
       "/* Label box, darken color on hover, fitted */\n",
       "#sk-container-id-8 div.sk-label.fitted:hover label.sk-toggleable__label.fitted {\n",
       "  color: var(--sklearn-color-text);\n",
       "  background-color: var(--sklearn-color-fitted-level-2);\n",
       "}\n",
       "\n",
       "/* Estimator label */\n",
       "\n",
       "#sk-container-id-8 div.sk-label label {\n",
       "  font-family: monospace;\n",
       "  font-weight: bold;\n",
       "  display: inline-block;\n",
       "  line-height: 1.2em;\n",
       "}\n",
       "\n",
       "#sk-container-id-8 div.sk-label-container {\n",
       "  text-align: center;\n",
       "}\n",
       "\n",
       "/* Estimator-specific */\n",
       "#sk-container-id-8 div.sk-estimator {\n",
       "  font-family: monospace;\n",
       "  border: 1px dotted var(--sklearn-color-border-box);\n",
       "  border-radius: 0.25em;\n",
       "  box-sizing: border-box;\n",
       "  margin-bottom: 0.5em;\n",
       "  /* unfitted */\n",
       "  background-color: var(--sklearn-color-unfitted-level-0);\n",
       "}\n",
       "\n",
       "#sk-container-id-8 div.sk-estimator.fitted {\n",
       "  /* fitted */\n",
       "  background-color: var(--sklearn-color-fitted-level-0);\n",
       "}\n",
       "\n",
       "/* on hover */\n",
       "#sk-container-id-8 div.sk-estimator:hover {\n",
       "  /* unfitted */\n",
       "  background-color: var(--sklearn-color-unfitted-level-2);\n",
       "}\n",
       "\n",
       "#sk-container-id-8 div.sk-estimator.fitted:hover {\n",
       "  /* fitted */\n",
       "  background-color: var(--sklearn-color-fitted-level-2);\n",
       "}\n",
       "\n",
       "/* Specification for estimator info (e.g. \"i\" and \"?\") */\n",
       "\n",
       "/* Common style for \"i\" and \"?\" */\n",
       "\n",
       ".sk-estimator-doc-link,\n",
       "a:link.sk-estimator-doc-link,\n",
       "a:visited.sk-estimator-doc-link {\n",
       "  float: right;\n",
       "  font-size: smaller;\n",
       "  line-height: 1em;\n",
       "  font-family: monospace;\n",
       "  background-color: var(--sklearn-color-background);\n",
       "  border-radius: 1em;\n",
       "  height: 1em;\n",
       "  width: 1em;\n",
       "  text-decoration: none !important;\n",
       "  margin-left: 1ex;\n",
       "  /* unfitted */\n",
       "  border: var(--sklearn-color-unfitted-level-1) 1pt solid;\n",
       "  color: var(--sklearn-color-unfitted-level-1);\n",
       "}\n",
       "\n",
       ".sk-estimator-doc-link.fitted,\n",
       "a:link.sk-estimator-doc-link.fitted,\n",
       "a:visited.sk-estimator-doc-link.fitted {\n",
       "  /* fitted */\n",
       "  border: var(--sklearn-color-fitted-level-1) 1pt solid;\n",
       "  color: var(--sklearn-color-fitted-level-1);\n",
       "}\n",
       "\n",
       "/* On hover */\n",
       "div.sk-estimator:hover .sk-estimator-doc-link:hover,\n",
       ".sk-estimator-doc-link:hover,\n",
       "div.sk-label-container:hover .sk-estimator-doc-link:hover,\n",
       ".sk-estimator-doc-link:hover {\n",
       "  /* unfitted */\n",
       "  background-color: var(--sklearn-color-unfitted-level-3);\n",
       "  color: var(--sklearn-color-background);\n",
       "  text-decoration: none;\n",
       "}\n",
       "\n",
       "div.sk-estimator.fitted:hover .sk-estimator-doc-link.fitted:hover,\n",
       ".sk-estimator-doc-link.fitted:hover,\n",
       "div.sk-label-container:hover .sk-estimator-doc-link.fitted:hover,\n",
       ".sk-estimator-doc-link.fitted:hover {\n",
       "  /* fitted */\n",
       "  background-color: var(--sklearn-color-fitted-level-3);\n",
       "  color: var(--sklearn-color-background);\n",
       "  text-decoration: none;\n",
       "}\n",
       "\n",
       "/* Span, style for the box shown on hovering the info icon */\n",
       ".sk-estimator-doc-link span {\n",
       "  display: none;\n",
       "  z-index: 9999;\n",
       "  position: relative;\n",
       "  font-weight: normal;\n",
       "  right: .2ex;\n",
       "  padding: .5ex;\n",
       "  margin: .5ex;\n",
       "  width: min-content;\n",
       "  min-width: 20ex;\n",
       "  max-width: 50ex;\n",
       "  color: var(--sklearn-color-text);\n",
       "  box-shadow: 2pt 2pt 4pt #999;\n",
       "  /* unfitted */\n",
       "  background: var(--sklearn-color-unfitted-level-0);\n",
       "  border: .5pt solid var(--sklearn-color-unfitted-level-3);\n",
       "}\n",
       "\n",
       ".sk-estimator-doc-link.fitted span {\n",
       "  /* fitted */\n",
       "  background: var(--sklearn-color-fitted-level-0);\n",
       "  border: var(--sklearn-color-fitted-level-3);\n",
       "}\n",
       "\n",
       ".sk-estimator-doc-link:hover span {\n",
       "  display: block;\n",
       "}\n",
       "\n",
       "/* \"?\"-specific style due to the `<a>` HTML tag */\n",
       "\n",
       "#sk-container-id-8 a.estimator_doc_link {\n",
       "  float: right;\n",
       "  font-size: 1rem;\n",
       "  line-height: 1em;\n",
       "  font-family: monospace;\n",
       "  background-color: var(--sklearn-color-background);\n",
       "  border-radius: 1rem;\n",
       "  height: 1rem;\n",
       "  width: 1rem;\n",
       "  text-decoration: none;\n",
       "  /* unfitted */\n",
       "  color: var(--sklearn-color-unfitted-level-1);\n",
       "  border: var(--sklearn-color-unfitted-level-1) 1pt solid;\n",
       "}\n",
       "\n",
       "#sk-container-id-8 a.estimator_doc_link.fitted {\n",
       "  /* fitted */\n",
       "  border: var(--sklearn-color-fitted-level-1) 1pt solid;\n",
       "  color: var(--sklearn-color-fitted-level-1);\n",
       "}\n",
       "\n",
       "/* On hover */\n",
       "#sk-container-id-8 a.estimator_doc_link:hover {\n",
       "  /* unfitted */\n",
       "  background-color: var(--sklearn-color-unfitted-level-3);\n",
       "  color: var(--sklearn-color-background);\n",
       "  text-decoration: none;\n",
       "}\n",
       "\n",
       "#sk-container-id-8 a.estimator_doc_link.fitted:hover {\n",
       "  /* fitted */\n",
       "  background-color: var(--sklearn-color-fitted-level-3);\n",
       "}\n",
       "</style><div id=\"sk-container-id-8\" class=\"sk-top-container\"><div class=\"sk-text-repr-fallback\"><pre>LinearRegression()</pre><b>In a Jupyter environment, please rerun this cell to show the HTML representation or trust the notebook. <br />On GitHub, the HTML representation is unable to render, please try loading this page with nbviewer.org.</b></div><div class=\"sk-container\" hidden><div class=\"sk-item\"><div class=\"sk-estimator fitted sk-toggleable\"><input class=\"sk-toggleable__control sk-hidden--visually\" id=\"sk-estimator-id-8\" type=\"checkbox\" checked><label for=\"sk-estimator-id-8\" class=\"sk-toggleable__label fitted sk-toggleable__label-arrow fitted\">&nbsp;&nbsp;LinearRegression<a class=\"sk-estimator-doc-link fitted\" rel=\"noreferrer\" target=\"_blank\" href=\"https://scikit-learn.org/1.4/modules/generated/sklearn.linear_model.LinearRegression.html\">?<span>Documentation for LinearRegression</span></a><span class=\"sk-estimator-doc-link fitted\">i<span>Fitted</span></span></label><div class=\"sk-toggleable__content fitted\"><pre>LinearRegression()</pre></div> </div></div></div></div>"
      ],
      "text/plain": [
       "LinearRegression()"
      ]
     },
     "execution_count": 275,
     "metadata": {},
     "output_type": "execute_result"
    }
   ],
   "source": [
    "lm.fit(X,Y)"
   ]
  },
  {
   "cell_type": "code",
   "execution_count": 276,
   "id": "059ad2f2",
   "metadata": {},
   "outputs": [
    {
     "data": {
      "text/plain": [
       "array([0.40555928, 0.59824285, 0.59824285, 0.21287572, 0.40555928])"
      ]
     },
     "execution_count": 276,
     "metadata": {},
     "output_type": "execute_result"
    }
   ],
   "source": [
    "Yhat=lm.predict(X)\n",
    "Yhat[0:5]"
   ]
  },
  {
   "cell_type": "code",
   "execution_count": 277,
   "id": "e37389c2",
   "metadata": {},
   "outputs": [
    {
     "data": {
      "text/plain": [
       "0.11653393445754562"
      ]
     },
     "execution_count": 277,
     "metadata": {},
     "output_type": "execute_result"
    }
   ],
   "source": [
    "lm.intercept_"
   ]
  },
  {
   "cell_type": "code",
   "execution_count": 278,
   "id": "7a4cd028",
   "metadata": {},
   "outputs": [
    {
     "data": {
      "text/plain": [
       "array([0.09634178])"
      ]
     },
     "execution_count": 278,
     "metadata": {},
     "output_type": "execute_result"
    }
   ],
   "source": [
    "lm.coef_"
   ]
  },
  {
   "cell_type": "markdown",
   "id": "f25aee01",
   "metadata": {},
   "source": [
    "**Adoptado = 1.8834 - 0.09634 * SexoSalida**"
   ]
  },
  {
   "cell_type": "code",
   "execution_count": 279,
   "id": "7e174956",
   "metadata": {},
   "outputs": [
    {
     "ename": "TypeError",
     "evalue": "'module' object is not callable",
     "output_type": "error",
     "traceback": [
      "\u001b[1;31m---------------------------------------------------------------------------\u001b[0m",
      "\u001b[1;31mTypeError\u001b[0m                                 Traceback (most recent call last)",
      "Cell \u001b[1;32mIn[279], line 3\u001b[0m\n\u001b[0;32m      1\u001b[0m width \u001b[38;5;241m=\u001b[39m \u001b[38;5;241m8\u001b[39m\n\u001b[0;32m      2\u001b[0m height \u001b[38;5;241m=\u001b[39m \u001b[38;5;241m6\u001b[39m\n\u001b[1;32m----> 3\u001b[0m \u001b[43mplt\u001b[49m\u001b[38;5;241;43m.\u001b[39;49m\u001b[43mfigure\u001b[49m\u001b[43m(\u001b[49m\u001b[43mfigsize\u001b[49m\u001b[38;5;241;43m=\u001b[39;49m\u001b[43m(\u001b[49m\u001b[43mwidth\u001b[49m\u001b[43m,\u001b[49m\u001b[43m \u001b[49m\u001b[43mheight\u001b[49m\u001b[43m)\u001b[49m\u001b[43m)\u001b[49m\n\u001b[0;32m      4\u001b[0m sns\u001b[38;5;241m.\u001b[39mregplot(x\u001b[38;5;241m=\u001b[39m\u001b[38;5;124m\"\u001b[39m\u001b[38;5;124mSexoSalidaNum\u001b[39m\u001b[38;5;124m\"\u001b[39m, y\u001b[38;5;241m=\u001b[39m\u001b[38;5;124m\"\u001b[39m\u001b[38;5;124mAdoptadoNum\u001b[39m\u001b[38;5;124m\"\u001b[39m, data\u001b[38;5;241m=\u001b[39mdata)\n\u001b[0;32m      5\u001b[0m plt\u001b[38;5;241m.\u001b[39mylim(\u001b[38;5;241m0\u001b[39m,)\n",
      "\u001b[1;31mTypeError\u001b[0m: 'module' object is not callable"
     ]
    }
   ],
   "source": [
    "width = 8\n",
    "height = 6\n",
    "plt.figure(figsize=(width, height))\n",
    "sns.regplot(x=\"SexoSalidaNum\", y=\"AdoptadoNum\", data=data)\n",
    "plt.ylim(0,)"
   ]
  },
  {
   "cell_type": "code",
   "execution_count": 158,
   "id": "e9f6ce94",
   "metadata": {},
   "outputs": [
    {
     "data": {
      "image/png": "[encoded data removed]",
      "text/plain": [
       "<Figure size 600x400 with 1 Axes>"
      ]
     },
     "metadata": {},
     "output_type": "display_data"
    }
   ],
   "source": [
    "width = 6\n",
    "height = 4\n",
    "plt.figure(figsize=(width, height))\n",
    "sns.residplot(x=data['SexoSalidaNum'], y=data['AdoptadoNum'])\n",
    "plt.show()"
   ]
  },
  {
   "cell_type": "code",
   "execution_count": 159,
   "id": "b2d9697e",
   "metadata": {},
   "outputs": [],
   "source": [
    "x = data[['SexoSalidaNum', 'TipoAnimalNum', 'CondicionAcogidaNum', 'ManeraAcogidaNum','NombreNum']]"
   ]
  },
  {
   "cell_type": "code",
   "execution_count": 143,
   "id": "c630d58b",
   "metadata": {},
   "outputs": [
    {
     "name": "stdout",
     "output_type": "stream",
     "text": [
      "Valores nulos por columna:\n",
      "SexoSalidaNum          0\n",
      "TipoAnimalNum          0\n",
      "CondicionAcogidaNum    0\n",
      "ManeraAcogidaNum       0\n",
      "NombreNum              0\n",
      "dtype: int64\n"
     ]
    }
   ],
   "source": [
    "valores_nulos = x.isnull().sum()\n",
    "\n",
    "print(\"Valores nulos por columna:\")\n",
    "print(valores_nulos)"
   ]
  },
  {
   "cell_type": "code",
   "execution_count": 160,
   "id": "4c884075",
   "metadata": {},
   "outputs": [
    {
     "data": {
      "text/html": [
       "<style>#sk-container-id-5 {\n",
       "  /* Definition of color scheme common for light and dark mode */\n",
       "  --sklearn-color-text: black;\n",
       "  --sklearn-color-line: gray;\n",
       "  /* Definition of color scheme for unfitted estimators */\n",
       "  --sklearn-color-unfitted-level-0: #fff5e6;\n",
       "  --sklearn-color-unfitted-level-1: #f6e4d2;\n",
       "  --sklearn-color-unfitted-level-2: #ffe0b3;\n",
       "  --sklearn-color-unfitted-level-3: chocolate;\n",
       "  /* Definition of color scheme for fitted estimators */\n",
       "  --sklearn-color-fitted-level-0: #f0f8ff;\n",
       "  --sklearn-color-fitted-level-1: #d4ebff;\n",
       "  --sklearn-color-fitted-level-2: #b3dbfd;\n",
       "  --sklearn-color-fitted-level-3: cornflowerblue;\n",
       "\n",
       "  /* Specific color for light theme */\n",
       "  --sklearn-color-text-on-default-background: var(--sg-text-color, var(--theme-code-foreground, var(--jp-content-font-color1, black)));\n",
       "  --sklearn-color-background: var(--sg-background-color, var(--theme-background, var(--jp-layout-color0, white)));\n",
       "  --sklearn-color-border-box: var(--sg-text-color, var(--theme-code-foreground, var(--jp-content-font-color1, black)));\n",
       "  --sklearn-color-icon: #696969;\n",
       "\n",
       "  @media (prefers-color-scheme: dark) {\n",
       "    /* Redefinition of color scheme for dark theme */\n",
       "    --sklearn-color-text-on-default-background: var(--sg-text-color, var(--theme-code-foreground, var(--jp-content-font-color1, white)));\n",
       "    --sklearn-color-background: var(--sg-background-color, var(--theme-background, var(--jp-layout-color0, #111)));\n",
       "    --sklearn-color-border-box: var(--sg-text-color, var(--theme-code-foreground, var(--jp-content-font-color1, white)));\n",
       "    --sklearn-color-icon: #878787;\n",
       "  }\n",
       "}\n",
       "\n",
       "#sk-container-id-5 {\n",
       "  color: var(--sklearn-color-text);\n",
       "}\n",
       "\n",
       "#sk-container-id-5 pre {\n",
       "  padding: 0;\n",
       "}\n",
       "\n",
       "#sk-container-id-5 input.sk-hidden--visually {\n",
       "  border: 0;\n",
       "  clip: rect(1px 1px 1px 1px);\n",
       "  clip: rect(1px, 1px, 1px, 1px);\n",
       "  height: 1px;\n",
       "  margin: -1px;\n",
       "  overflow: hidden;\n",
       "  padding: 0;\n",
       "  position: absolute;\n",
       "  width: 1px;\n",
       "}\n",
       "\n",
       "#sk-container-id-5 div.sk-dashed-wrapped {\n",
       "  border: 1px dashed var(--sklearn-color-line);\n",
       "  margin: 0 0.4em 0.5em 0.4em;\n",
       "  box-sizing: border-box;\n",
       "  padding-bottom: 0.4em;\n",
       "  background-color: var(--sklearn-color-background);\n",
       "}\n",
       "\n",
       "#sk-container-id-5 div.sk-container {\n",
       "  /* jupyter's `normalize.less` sets `[hidden] { display: none; }`\n",
       "     but bootstrap.min.css set `[hidden] { display: none !important; }`\n",
       "     so we also need the `!important` here to be able to override the\n",
       "     default hidden behavior on the sphinx rendered scikit-learn.org.\n",
       "     See: https://github.com/scikit-learn/scikit-learn/issues/21755 */\n",
       "  display: inline-block !important;\n",
       "  position: relative;\n",
       "}\n",
       "\n",
       "#sk-container-id-5 div.sk-text-repr-fallback {\n",
       "  display: none;\n",
       "}\n",
       "\n",
       "div.sk-parallel-item,\n",
       "div.sk-serial,\n",
       "div.sk-item {\n",
       "  /* draw centered vertical line to link estimators */\n",
       "  background-image: linear-gradient(var(--sklearn-color-text-on-default-background), var(--sklearn-color-text-on-default-background));\n",
       "  background-size: 2px 100%;\n",
       "  background-repeat: no-repeat;\n",
       "  background-position: center center;\n",
       "}\n",
       "\n",
       "/* Parallel-specific style estimator block */\n",
       "\n",
       "#sk-container-id-5 div.sk-parallel-item::after {\n",
       "  content: \"\";\n",
       "  width: 100%;\n",
       "  border-bottom: 2px solid var(--sklearn-color-text-on-default-background);\n",
       "  flex-grow: 1;\n",
       "}\n",
       "\n",
       "#sk-container-id-5 div.sk-parallel {\n",
       "  display: flex;\n",
       "  align-items: stretch;\n",
       "  justify-content: center;\n",
       "  background-color: var(--sklearn-color-background);\n",
       "  position: relative;\n",
       "}\n",
       "\n",
       "#sk-container-id-5 div.sk-parallel-item {\n",
       "  display: flex;\n",
       "  flex-direction: column;\n",
       "}\n",
       "\n",
       "#sk-container-id-5 div.sk-parallel-item:first-child::after {\n",
       "  align-self: flex-end;\n",
       "  width: 50%;\n",
       "}\n",
       "\n",
       "#sk-container-id-5 div.sk-parallel-item:last-child::after {\n",
       "  align-self: flex-start;\n",
       "  width: 50%;\n",
       "}\n",
       "\n",
       "#sk-container-id-5 div.sk-parallel-item:only-child::after {\n",
       "  width: 0;\n",
       "}\n",
       "\n",
       "/* Serial-specific style estimator block */\n",
       "\n",
       "#sk-container-id-5 div.sk-serial {\n",
       "  display: flex;\n",
       "  flex-direction: column;\n",
       "  align-items: center;\n",
       "  background-color: var(--sklearn-color-background);\n",
       "  padding-right: 1em;\n",
       "  padding-left: 1em;\n",
       "}\n",
       "\n",
       "\n",
       "/* Toggleable style: style used for estimator/Pipeline/ColumnTransformer box that is\n",
       "clickable and can be expanded/collapsed.\n",
       "- Pipeline and ColumnTransformer use this feature and define the default style\n",
       "- Estimators will overwrite some part of the style using the `sk-estimator` class\n",
       "*/\n",
       "\n",
       "/* Pipeline and ColumnTransformer style (default) */\n",
       "\n",
       "#sk-container-id-5 div.sk-toggleable {\n",
       "  /* Default theme specific background. It is overwritten whether we have a\n",
       "  specific estimator or a Pipeline/ColumnTransformer */\n",
       "  background-color: var(--sklearn-color-background);\n",
       "}\n",
       "\n",
       "/* Toggleable label */\n",
       "#sk-container-id-5 label.sk-toggleable__label {\n",
       "  cursor: pointer;\n",
       "  display: block;\n",
       "  width: 100%;\n",
       "  margin-bottom: 0;\n",
       "  padding: 0.5em;\n",
       "  box-sizing: border-box;\n",
       "  text-align: center;\n",
       "}\n",
       "\n",
       "#sk-container-id-5 label.sk-toggleable__label-arrow:before {\n",
       "  /* Arrow on the left of the label */\n",
       "  content: \"▸\";\n",
       "  float: left;\n",
       "  margin-right: 0.25em;\n",
       "  color: var(--sklearn-color-icon);\n",
       "}\n",
       "\n",
       "#sk-container-id-5 label.sk-toggleable__label-arrow:hover:before {\n",
       "  color: var(--sklearn-color-text);\n",
       "}\n",
       "\n",
       "/* Toggleable content - dropdown */\n",
       "\n",
       "#sk-container-id-5 div.sk-toggleable__content {\n",
       "  max-height: 0;\n",
       "  max-width: 0;\n",
       "  overflow: hidden;\n",
       "  text-align: left;\n",
       "  /* unfitted */\n",
       "  background-color: var(--sklearn-color-unfitted-level-0);\n",
       "}\n",
       "\n",
       "#sk-container-id-5 div.sk-toggleable__content.fitted {\n",
       "  /* fitted */\n",
       "  background-color: var(--sklearn-color-fitted-level-0);\n",
       "}\n",
       "\n",
       "#sk-container-id-5 div.sk-toggleable__content pre {\n",
       "  margin: 0.2em;\n",
       "  border-radius: 0.25em;\n",
       "  color: var(--sklearn-color-text);\n",
       "  /* unfitted */\n",
       "  background-color: var(--sklearn-color-unfitted-level-0);\n",
       "}\n",
       "\n",
       "#sk-container-id-5 div.sk-toggleable__content.fitted pre {\n",
       "  /* unfitted */\n",
       "  background-color: var(--sklearn-color-fitted-level-0);\n",
       "}\n",
       "\n",
       "#sk-container-id-5 input.sk-toggleable__control:checked~div.sk-toggleable__content {\n",
       "  /* Expand drop-down */\n",
       "  max-height: 200px;\n",
       "  max-width: 100%;\n",
       "  overflow: auto;\n",
       "}\n",
       "\n",
       "#sk-container-id-5 input.sk-toggleable__control:checked~label.sk-toggleable__label-arrow:before {\n",
       "  content: \"▾\";\n",
       "}\n",
       "\n",
       "/* Pipeline/ColumnTransformer-specific style */\n",
       "\n",
       "#sk-container-id-5 div.sk-label input.sk-toggleable__control:checked~label.sk-toggleable__label {\n",
       "  color: var(--sklearn-color-text);\n",
       "  background-color: var(--sklearn-color-unfitted-level-2);\n",
       "}\n",
       "\n",
       "#sk-container-id-5 div.sk-label.fitted input.sk-toggleable__control:checked~label.sk-toggleable__label {\n",
       "  background-color: var(--sklearn-color-fitted-level-2);\n",
       "}\n",
       "\n",
       "/* Estimator-specific style */\n",
       "\n",
       "/* Colorize estimator box */\n",
       "#sk-container-id-5 div.sk-estimator input.sk-toggleable__control:checked~label.sk-toggleable__label {\n",
       "  /* unfitted */\n",
       "  background-color: var(--sklearn-color-unfitted-level-2);\n",
       "}\n",
       "\n",
       "#sk-container-id-5 div.sk-estimator.fitted input.sk-toggleable__control:checked~label.sk-toggleable__label {\n",
       "  /* fitted */\n",
       "  background-color: var(--sklearn-color-fitted-level-2);\n",
       "}\n",
       "\n",
       "#sk-container-id-5 div.sk-label label.sk-toggleable__label,\n",
       "#sk-container-id-5 div.sk-label label {\n",
       "  /* The background is the default theme color */\n",
       "  color: var(--sklearn-color-text-on-default-background);\n",
       "}\n",
       "\n",
       "/* On hover, darken the color of the background */\n",
       "#sk-container-id-5 div.sk-label:hover label.sk-toggleable__label {\n",
       "  color: var(--sklearn-color-text);\n",
       "  background-color: var(--sklearn-color-unfitted-level-2);\n",
       "}\n",
       "\n",
       "/* Label box, darken color on hover, fitted */\n",
       "#sk-container-id-5 div.sk-label.fitted:hover label.sk-toggleable__label.fitted {\n",
       "  color: var(--sklearn-color-text);\n",
       "  background-color: var(--sklearn-color-fitted-level-2);\n",
       "}\n",
       "\n",
       "/* Estimator label */\n",
       "\n",
       "#sk-container-id-5 div.sk-label label {\n",
       "  font-family: monospace;\n",
       "  font-weight: bold;\n",
       "  display: inline-block;\n",
       "  line-height: 1.2em;\n",
       "}\n",
       "\n",
       "#sk-container-id-5 div.sk-label-container {\n",
       "  text-align: center;\n",
       "}\n",
       "\n",
       "/* Estimator-specific */\n",
       "#sk-container-id-5 div.sk-estimator {\n",
       "  font-family: monospace;\n",
       "  border: 1px dotted var(--sklearn-color-border-box);\n",
       "  border-radius: 0.25em;\n",
       "  box-sizing: border-box;\n",
       "  margin-bottom: 0.5em;\n",
       "  /* unfitted */\n",
       "  background-color: var(--sklearn-color-unfitted-level-0);\n",
       "}\n",
       "\n",
       "#sk-container-id-5 div.sk-estimator.fitted {\n",
       "  /* fitted */\n",
       "  background-color: var(--sklearn-color-fitted-level-0);\n",
       "}\n",
       "\n",
       "/* on hover */\n",
       "#sk-container-id-5 div.sk-estimator:hover {\n",
       "  /* unfitted */\n",
       "  background-color: var(--sklearn-color-unfitted-level-2);\n",
       "}\n",
       "\n",
       "#sk-container-id-5 div.sk-estimator.fitted:hover {\n",
       "  /* fitted */\n",
       "  background-color: var(--sklearn-color-fitted-level-2);\n",
       "}\n",
       "\n",
       "/* Specification for estimator info (e.g. \"i\" and \"?\") */\n",
       "\n",
       "/* Common style for \"i\" and \"?\" */\n",
       "\n",
       ".sk-estimator-doc-link,\n",
       "a:link.sk-estimator-doc-link,\n",
       "a:visited.sk-estimator-doc-link {\n",
       "  float: right;\n",
       "  font-size: smaller;\n",
       "  line-height: 1em;\n",
       "  font-family: monospace;\n",
       "  background-color: var(--sklearn-color-background);\n",
       "  border-radius: 1em;\n",
       "  height: 1em;\n",
       "  width: 1em;\n",
       "  text-decoration: none !important;\n",
       "  margin-left: 1ex;\n",
       "  /* unfitted */\n",
       "  border: var(--sklearn-color-unfitted-level-1) 1pt solid;\n",
       "  color: var(--sklearn-color-unfitted-level-1);\n",
       "}\n",
       "\n",
       ".sk-estimator-doc-link.fitted,\n",
       "a:link.sk-estimator-doc-link.fitted,\n",
       "a:visited.sk-estimator-doc-link.fitted {\n",
       "  /* fitted */\n",
       "  border: var(--sklearn-color-fitted-level-1) 1pt solid;\n",
       "  color: var(--sklearn-color-fitted-level-1);\n",
       "}\n",
       "\n",
       "/* On hover */\n",
       "div.sk-estimator:hover .sk-estimator-doc-link:hover,\n",
       ".sk-estimator-doc-link:hover,\n",
       "div.sk-label-container:hover .sk-estimator-doc-link:hover,\n",
       ".sk-estimator-doc-link:hover {\n",
       "  /* unfitted */\n",
       "  background-color: var(--sklearn-color-unfitted-level-3);\n",
       "  color: var(--sklearn-color-background);\n",
       "  text-decoration: none;\n",
       "}\n",
       "\n",
       "div.sk-estimator.fitted:hover .sk-estimator-doc-link.fitted:hover,\n",
       ".sk-estimator-doc-link.fitted:hover,\n",
       "div.sk-label-container:hover .sk-estimator-doc-link.fitted:hover,\n",
       ".sk-estimator-doc-link.fitted:hover {\n",
       "  /* fitted */\n",
       "  background-color: var(--sklearn-color-fitted-level-3);\n",
       "  color: var(--sklearn-color-background);\n",
       "  text-decoration: none;\n",
       "}\n",
       "\n",
       "/* Span, style for the box shown on hovering the info icon */\n",
       ".sk-estimator-doc-link span {\n",
       "  display: none;\n",
       "  z-index: 9999;\n",
       "  position: relative;\n",
       "  font-weight: normal;\n",
       "  right: .2ex;\n",
       "  padding: .5ex;\n",
       "  margin: .5ex;\n",
       "  width: min-content;\n",
       "  min-width: 20ex;\n",
       "  max-width: 50ex;\n",
       "  color: var(--sklearn-color-text);\n",
       "  box-shadow: 2pt 2pt 4pt #999;\n",
       "  /* unfitted */\n",
       "  background: var(--sklearn-color-unfitted-level-0);\n",
       "  border: .5pt solid var(--sklearn-color-unfitted-level-3);\n",
       "}\n",
       "\n",
       ".sk-estimator-doc-link.fitted span {\n",
       "  /* fitted */\n",
       "  background: var(--sklearn-color-fitted-level-0);\n",
       "  border: var(--sklearn-color-fitted-level-3);\n",
       "}\n",
       "\n",
       ".sk-estimator-doc-link:hover span {\n",
       "  display: block;\n",
       "}\n",
       "\n",
       "/* \"?\"-specific style due to the `<a>` HTML tag */\n",
       "\n",
       "#sk-container-id-5 a.estimator_doc_link {\n",
       "  float: right;\n",
       "  font-size: 1rem;\n",
       "  line-height: 1em;\n",
       "  font-family: monospace;\n",
       "  background-color: var(--sklearn-color-background);\n",
       "  border-radius: 1rem;\n",
       "  height: 1rem;\n",
       "  width: 1rem;\n",
       "  text-decoration: none;\n",
       "  /* unfitted */\n",
       "  color: var(--sklearn-color-unfitted-level-1);\n",
       "  border: var(--sklearn-color-unfitted-level-1) 1pt solid;\n",
       "}\n",
       "\n",
       "#sk-container-id-5 a.estimator_doc_link.fitted {\n",
       "  /* fitted */\n",
       "  border: var(--sklearn-color-fitted-level-1) 1pt solid;\n",
       "  color: var(--sklearn-color-fitted-level-1);\n",
       "}\n",
       "\n",
       "/* On hover */\n",
       "#sk-container-id-5 a.estimator_doc_link:hover {\n",
       "  /* unfitted */\n",
       "  background-color: var(--sklearn-color-unfitted-level-3);\n",
       "  color: var(--sklearn-color-background);\n",
       "  text-decoration: none;\n",
       "}\n",
       "\n",
       "#sk-container-id-5 a.estimator_doc_link.fitted:hover {\n",
       "  /* fitted */\n",
       "  background-color: var(--sklearn-color-fitted-level-3);\n",
       "}\n",
       "</style><div id=\"sk-container-id-5\" class=\"sk-top-container\"><div class=\"sk-text-repr-fallback\"><pre>LinearRegression()</pre><b>In a Jupyter environment, please rerun this cell to show the HTML representation or trust the notebook. <br />On GitHub, the HTML representation is unable to render, please try loading this page with nbviewer.org.</b></div><div class=\"sk-container\" hidden><div class=\"sk-item\"><div class=\"sk-estimator fitted sk-toggleable\"><input class=\"sk-toggleable__control sk-hidden--visually\" id=\"sk-estimator-id-5\" type=\"checkbox\" checked><label for=\"sk-estimator-id-5\" class=\"sk-toggleable__label fitted sk-toggleable__label-arrow fitted\">&nbsp;&nbsp;LinearRegression<a class=\"sk-estimator-doc-link fitted\" rel=\"noreferrer\" target=\"_blank\" href=\"https://scikit-learn.org/1.4/modules/generated/sklearn.linear_model.LinearRegression.html\">?<span>Documentation for LinearRegression</span></a><span class=\"sk-estimator-doc-link fitted\">i<span>Fitted</span></span></label><div class=\"sk-toggleable__content fitted\"><pre>LinearRegression()</pre></div> </div></div></div></div>"
      ],
      "text/plain": [
       "LinearRegression()"
      ]
     },
     "execution_count": 160,
     "metadata": {},
     "output_type": "execute_result"
    }
   ],
   "source": [
    "lm.fit(x, data['AdoptadoNum'])"
   ]
  },
  {
   "cell_type": "code",
   "execution_count": 161,
   "id": "d1f94a71",
   "metadata": {},
   "outputs": [
    {
     "data": {
      "text/plain": [
       "0.9364750621369182"
      ]
     },
     "execution_count": 161,
     "metadata": {},
     "output_type": "execute_result"
    }
   ],
   "source": [
    "lm.intercept_"
   ]
  },
  {
   "cell_type": "code",
   "execution_count": 162,
   "id": "e48a7c5f",
   "metadata": {},
   "outputs": [
    {
     "data": {
      "text/plain": [
       "array([ 0.10925468, -0.10591941, -0.0166808 , -0.06806401, -0.2113511 ])"
      ]
     },
     "execution_count": 162,
     "metadata": {},
     "output_type": "execute_result"
    }
   ],
   "source": [
    "lm.coef_"
   ]
  },
  {
   "cell_type": "markdown",
   "id": "8e673804",
   "metadata": {},
   "source": [
    "Adoptado = 1.06352 -0.1092 x SexoSalidaNuM + 0.1059 x TipoAnimalNum + 0.0166 x CondicionAcogida + 0.068 x ManeraAcogida + 0.211 x NombreNum"
   ]
  },
  {
   "cell_type": "code",
   "execution_count": 163,
   "id": "2d7cda7f",
   "metadata": {},
   "outputs": [],
   "source": [
    "Y_hat = lm.predict(x)"
   ]
  },
  {
   "cell_type": "code",
   "execution_count": 287,
   "id": "f5ceb206",
   "metadata": {},
   "outputs": [
    {
     "data": {
      "image/png": "[encoded data removed]",
      "text/plain": [
       "<Figure size 800x600 with 1 Axes>"
      ]
     },
     "metadata": {},
     "output_type": "display_data"
    }
   ],
   "source": [
    "import seaborn as sns\n",
    "import matplotlib.pyplot as plt\n",
    "\n",
    "# Assuming your data and fitted values are stored in 'data' and 'Y_hat' variables\n",
    "\n",
    "plt.figure(figsize=(width, height))  # Set your desired figure size\n",
    "\n",
    "sns.kdeplot(data['AdoptadoNum'], color=\"r\", label=\"Valor Actual\")\n",
    "sns.kdeplot(Y_hat, color=\"b\", label=\"Valores Ajustados\")  # No 'ax' argument needed\n",
    "\n",
    "plt.title('Valores Actuales vs Ajustados para Tasa de Adopción')  # Suponiendo que se predice la tasa de adopción\n",
    "plt.xlabel('Probabilidad de Adopción')  # Suponiendo que se predice la probabilidad de adopción entre 0 y 1\n",
    "plt.ylabel('Densidad')\n",
    "\n",
    "plt.legend()  # Add legend to identify curves\n",
    "plt.show()\n"
   ]
  },
  {
   "cell_type": "code",
   "execution_count": 288,
   "id": "b3c4884e",
   "metadata": {},
   "outputs": [],
   "source": [
    "def PlotPolly(model, independent_variable, dependent_variabble, Name):\n",
    "    x_new = np.linspace(15, 55, 100)\n",
    "    y_new = model(x_new)\n",
    "\n",
    "    plt.plot(independent_variable, dependent_variabble, '.', x_new, y_new, '-')\n",
    "    plt.title('Entrenamiento Polinomial con Matplotlib para Adopción')\n",
    "    ax = plt.gca()\n",
    "    ax.set_facecolor((0.898, 0.898, 0.898))\n",
    "    fig = plt.gcf()\n",
    "    plt.xlabel(Name)\n",
    "    plt.ylabel('AdopcionNum')\n",
    "\n",
    "    plt.show()\n",
    "    plt.close()"
   ]
  },
  {
   "cell_type": "code",
   "execution_count": 282,
   "id": "ada9e221",
   "metadata": {},
   "outputs": [],
   "source": [
    "x = data['SexoSalidaNum']\n",
    "y = data['AdoptadoNum']"
   ]
  },
  {
   "cell_type": "code",
   "execution_count": 292,
   "id": "1cbb4e83",
   "metadata": {},
   "outputs": [
    {
     "name": "stdout",
     "output_type": "stream",
     "text": [
      " \n",
      "0.09634 x + 0.1165\n"
     ]
    }
   ],
   "source": [
    "f = np.polyfit(x, y, 1)\n",
    "p = np.poly1d(f)\n",
    "print(p)"
   ]
  },
  {
   "cell_type": "code",
   "execution_count": 293,
   "id": "3984a5ce",
   "metadata": {},
   "outputs": [
    {
     "data": {
      "image/png": "[encoded data removed]",
      "text/plain": [
       "<Figure size 640x480 with 1 Axes>"
      ]
     },
     "metadata": {},
     "output_type": "display_data"
    }
   ],
   "source": [
    "PlotPolly(p, x, y, 'SexoSalidaNum')"
   ]
  }
 ],
 "metadata": {
  "kernelspec": {
   "display_name": "Python 3 (ipykernel)",
   "language": "python",
   "name": "python3"
  },
  "language_info": {
   "codemirror_mode": {
    "name": "ipython",
    "version": 3
   },
   "file_extension": ".py",
   "mimetype": "text/x-python",
   "name": "python",
   "nbconvert_exporter": "python",
   "pygments_lexer": "ipython3",
   "version": "3.12.2"
  },
  "latex_envs": {
   "LaTeX_envs_menu_present": true,
   "autoclose": false,
   "autocomplete": true,
   "bibliofile": "biblio.bib",
   "cite_by": "apalike",
   "current_citInitial": 1,
   "eqLabelWithNumbers": true,
   "eqNumInitial": 1,
   "hotkeys": {
    "equation": "Ctrl-E",
    "itemize": "Ctrl-I"
   },
   "labels_anchors": false,
   "latex_user_defs": false,
   "report_style_numbering": false,
   "user_envs_cfg": false
  },
  "toc": {
   "base_numbering": 1,
   "nav_menu": {},
   "number_sections": true,
   "sideBar": true,
   "skip_h1_title": false,
   "title_cell": "Table of Contents",
   "title_sidebar": "Contents",
   "toc_cell": false,
   "toc_position": {},
   "toc_section_display": true,
   "toc_window_display": false
  },
  "varInspector": {
   "cols": {
    "lenName": 16,
    "lenType": 16,
    "lenVar": 40
   },
   "kernels_config": {
    "python": {
     "delete_cmd_postfix": "",
     "delete_cmd_prefix": "del ",
     "library": "var_list.py",
     "varRefreshCmd": "print(var_dic_list())"
    },
    "r": {
     "delete_cmd_postfix": ") ",
     "delete_cmd_prefix": "rm(",
     "library": "var_list.r",
     "varRefreshCmd": "cat(var_dic_list()) "
    }
   },
   "types_to_exclude": [
    "module",
    "function",
    "builtin_function_or_method",
    "instance",
    "_Feature"
   ],
   "window_display": false
  }
 },
 "nbformat": 4,
 "nbformat_minor": 5
}
